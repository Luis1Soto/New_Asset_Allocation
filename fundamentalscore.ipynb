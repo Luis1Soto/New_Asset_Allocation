{
 "cells": [
  {
   "cell_type": "code",
   "execution_count": 26,
   "id": "95576b2c-65a2-46ec-a4d6-85b28e81e0c8",
   "metadata": {},
   "outputs": [],
   "source": [
    "from Functions import LoadData\n",
    "from Functions import TestStrategy\n",
    "from Functions import Backtesting\n",
    "import os\n",
    "import numpy as np\n",
    "import pandas as pd"
   ]
  },
  {
   "cell_type": "code",
   "execution_count": 46,
   "id": "ca72b8c8-d577-49df-a214-18bae72ede37",
   "metadata": {},
   "outputs": [],
   "source": [
    "    def calculate_harmonic_mean(self, ratios):\n",
    "        return len(ratios) / np.sum(1.0 / ratios)"
   ]
  },
  {
   "cell_type": "code",
   "execution_count": 47,
   "id": "3d1f936d-5b39-4061-a0d1-eeb0851ae68c",
   "metadata": {},
   "outputs": [],
   "source": [
    "def calculate_piotroski_score(self, row):\n",
    "        score = 0\n",
    "        if row['Return on Common Equity'] > 0:\n",
    "            score += 1\n",
    "        if row['Return on Common Equity'] > row['Return on Common Equity_previous']:\n",
    "            score += 1\n",
    "        if row['Operating Margin'] > 0:\n",
    "            score += 1\n",
    "        if row['Operating Margin'] > row['Operating Margin_previous']:\n",
    "            score += 1\n",
    "        if row['Cash Flow per Share'] > 0:\n",
    "            score += 1\n",
    "        if row['Current Ratio (x)'] > row['Current Ratio (x)_previous']:\n",
    "            score += 1\n",
    "        if row['Total Debt/Equity (%)'] < row['Total Debt/Equity (%)_previous']:\n",
    "            score += 1\n",
    "        if row['Shares Outstanding'] <= row['Shares Outstanding_previous']:\n",
    "            score += 1\n",
    "        if row['Price/Earnings'] < 15:\n",
    "            score += 2\n",
    "        return score"
   ]
  },
  {
   "cell_type": "code",
   "execution_count": null,
   "id": "b1a50593-c8f4-4ab3-94ef-e6a6d9f9175f",
   "metadata": {},
   "outputs": [],
   "source": [
    "def select_top_stocks2(self, universe, decision_date):\n",
    "        \"\"\"\n",
    "        Select the best stocks based on Piotroski scores calculated from the harmonic mean of financial ratios.\n",
    "        \n",
    "        Parameters:\n",
    "        - universe (list): List of tickers in the selected universe (Offensive or Defensive).\n",
    "        - decision_date (str or pd.Timestamp): Date of the universe decision.\n",
    "        \n",
    "        Returns:\n",
    "        list: The top 8 stocks if the universe is Offensive, or all stocks if Defensive.\n",
    "        \"\"\"\n",
    "        decision_date = pd.to_datetime(decision_date)\n",
    "        df = pd.DataFrame()\n",
    "\n",
    "        for ticker in universe:\n",
    "            if ticker in self.financials:\n",
    "                financial_data = self.financials[ticker]\n",
    "                report_dates = pd.to_datetime(financial_data.columns, format='%Y-%m', errors='coerce')\n",
    "                \n",
    "                # Filter valid dates\n",
    "                valid_dates = [dt for dt in report_dates if dt <= decision_date]\n",
    "                \n",
    "                if valid_dates:\n",
    "                    most_recent_date = max(valid_dates)\n",
    "                    ratios_data = financial_data[most_recent_date].loc[self.ratios]\n",
    "                    \n",
    "                    # Calculate harmonic mean for each ratio\n",
    "                    harmonic_mean_ratios = self.calculate_harmonic_mean(ratios_data)\n",
    "\n",
    "                    # Create a dictionary of ratios for Piotroski score calculation\n",
    "                    ratios_dict = {ratio: ratios_data[ratio] for ratio in self.ratios}\n",
    "\n",
    "                    # Add previous year ratios if available\n",
    "                    previous_date = most_recent_date - pd.DateOffset(years=1)\n",
    "                    if previous_date in report_dates:\n",
    "                        previous_ratios_data = financial_data[previous_date].loc[self.ratios]\n",
    "                        ratios_dict['Previous Return on Common Equity'] = previous_ratios_data['Return on Common Equity']\n",
    "                        ratios_dict['Previous Total Debt/Equity'] = previous_ratios_data['Total Debt/Equity (%)']\n",
    "                        ratios_dict['Previous Current Ratio'] = previous_ratios_data['Current Ratio (x)']\n",
    "                        ratios_dict['Previous Shares Outstanding'] = previous_ratios_data.get('Shares Outstanding', 0)\n",
    "                        ratios_dict['Previous Operating Margin'] = previous_ratios_data['Operating Margin']\n",
    "                        ratios_dict['Previous Asset Turnover'] = previous_ratios_data.get('Asset Turnover', 0)\n",
    "\n",
    "                    # Calculate the Piotroski score\n",
    "                    piotroski_score = self.calculate_piotroski_score(ratios_dict)\n",
    "\n",
    "                    # Append the score to the DataFrame\n",
    "                    df = df.append({'Ticker': ticker, 'Harmonic Mean': harmonic_mean_ratios, 'Piotroski Score': piotroski_score}, ignore_index=True)\n",
    "                else:\n",
    "                    print(f\"No valid financial data found for {ticker} at {decision_date}\")\n",
    "\n",
    "        # Select top 8 stocks based on Piotroski score\n",
    "        if not df.empty:\n",
    "            top_stocks = df.nlargest(8, 'Piotroski Score')['Ticker'].tolist()\n",
    "            return top_stocks\n",
    "        else:\n",
    "            print(\"No sufficient data to select stocks.\")\n",
    "            return []\n"
   ]
  }
 ],
 "metadata": {
  "kernelspec": {
   "display_name": "Python 3 (ipykernel)",
   "language": "python",
   "name": "python3"
  },
  "language_info": {
   "codemirror_mode": {
    "name": "ipython",
    "version": 3
   },
   "file_extension": ".py",
   "mimetype": "text/x-python",
   "name": "python",
   "nbconvert_exporter": "python",
   "pygments_lexer": "ipython3",
   "version": "3.11.7"
  }
 },
 "nbformat": 4,
 "nbformat_minor": 5
}

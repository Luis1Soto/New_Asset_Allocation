{
 "cells": [
  {
   "cell_type": "code",
   "execution_count": 1,
   "id": "81f181fd-8628-4beb-8baf-c38367a268f2",
   "metadata": {},
   "outputs": [],
   "source": [
    "from Functions1 import LoadData\n",
    "from Functions1 import TestStrategy\n",
    "from Functions1 import DynamicBacktest\n",
    "import os\n",
    "import pandas as pd\n",
    "import yfinance as yf\n",
    "import itertools\n",
    "import random\n",
    "import matplotlib.pyplot as plt"
   ]
  },
  {
   "cell_type": "markdown",
   "id": "2b37f6a4-26a8-4742-94ee-419d8c6c856f",
   "metadata": {},
   "source": [
    "### Carga de datos"
   ]
  },
  {
   "cell_type": "code",
   "execution_count": 2,
   "id": "06143fb6-1ec0-480d-9e90-56af4a3f1867",
   "metadata": {},
   "outputs": [
    {
     "name": "stdout",
     "output_type": "stream",
     "text": [
      "Data processed for the following tickers: AAPL, ABBV, ADM, ADSK, AFL, AMD, AMZN, CAT, CL, COST, CRM, CVX, DE, DOW, DUK, GE, GOOGL, GS, HD, HON, JNJ, JPM, KO, LMT, MCD, MDLZ, META, MMM, MRK, MSFT, NEE, NFLX, NVDA, PEP, PG, PLD, QCOM, RTX, SO, SRE, T, TGT, TRYIY, TSLA, TXN, V, VMC, VZ, WMT, XOM, ZBH\n"
     ]
    }
   ],
   "source": [
    "current_directory = os.getcwd()\n",
    "path = os.path.join(current_directory, 'Stocks_financials')\n",
    "\n",
    "loader = LoadData(path)\n",
    "prices, financials = loader.Load(start_date='2005-09-01', end_date=None)"
   ]
  },
  {
   "cell_type": "code",
   "execution_count": 4,
   "id": "61971c9c-fc75-46ff-8ea1-cffd86ebe99e",
   "metadata": {},
   "outputs": [
    {
     "data": {
      "text/plain": [
       "Date\n",
       "2005-09-01      1.652143\n",
       "2005-09-02      1.650714\n",
       "2005-09-06      1.742857\n",
       "2005-09-07      1.738571\n",
       "2005-09-08      1.777857\n",
       "                 ...    \n",
       "2024-10-23    230.759995\n",
       "2024-10-24    230.570007\n",
       "2024-10-25    231.410004\n",
       "2024-10-28    233.399994\n",
       "2024-10-29    233.669998\n",
       "Name: Close, Length: 4822, dtype: float64"
      ]
     },
     "execution_count": 4,
     "metadata": {},
     "output_type": "execute_result"
    }
   ],
   "source": [
    "prices['AAPL']"
   ]
  },
  {
   "cell_type": "markdown",
   "id": "818fefcf-8f50-4dcd-9f77-b46a57eec1a4",
   "metadata": {},
   "source": [
    "### Escenario unico"
   ]
  },
  {
   "cell_type": "code",
   "execution_count": 11,
   "id": "302750e0-40dd-471d-8a3e-2b9cb06645a5",
   "metadata": {},
   "outputs": [],
   "source": [
    "offensive_tickers = [\"MSFT\", \"AAPL\", \"GOOGL\", 'V', 'NFLX', 'SO', 'DUK', 'VZ', 'T', 'CVX', 'VMC', 'NVDA', 'GE', 'KO', 'JNJ', 'HD', 'AMD', 'ADM', 'META', 'TSLA', 'XOM']   \n",
    "defensive_tickers = ['COST', 'DUK', 'JNJ', 'KO', 'LMT']      \n",
    "canary_tickers = ['MSFT', 'V', 'NFLX', 'SO', 'DUK', 'PLD', 'VZ', 'T', 'CVX', 'VMC', 'NVDA', 'GE',\n",
    "                      'KO', 'JNJ', 'GS', 'HD', 'AMD', 'ADM', 'META', 'GOOGL', 'TSLA', 'JPM', 'XOM', 'AAPL']    "
   ]
  },
  {
   "cell_type": "code",
   "execution_count": 12,
   "id": "16d500c0-d0af-48a7-ad54-bb6eab308cb8",
   "metadata": {},
   "outputs": [
    {
     "data": {
      "text/html": [
       "<div>\n",
       "<style scoped>\n",
       "    .dataframe tbody tr th:only-of-type {\n",
       "        vertical-align: middle;\n",
       "    }\n",
       "\n",
       "    .dataframe tbody tr th {\n",
       "        vertical-align: top;\n",
       "    }\n",
       "\n",
       "    .dataframe thead th {\n",
       "        text-align: right;\n",
       "    }\n",
       "</style>\n",
       "<table border=\"1\" class=\"dataframe\">\n",
       "  <thead>\n",
       "    <tr style=\"text-align: right;\">\n",
       "      <th></th>\n",
       "      <th>Date</th>\n",
       "      <th>Chosen Universe</th>\n",
       "      <th>Selected Stocks</th>\n",
       "    </tr>\n",
       "  </thead>\n",
       "  <tbody>\n",
       "    <tr>\n",
       "      <th>0</th>\n",
       "      <td>2006-09-01</td>\n",
       "      <td>Defensive</td>\n",
       "      <td>[COST, DUK, JNJ, KO, LMT]</td>\n",
       "    </tr>\n",
       "    <tr>\n",
       "      <th>1</th>\n",
       "      <td>2007-03-01</td>\n",
       "      <td>Offensive</td>\n",
       "      <td>[CVX, HD, ADM, XOM, MSFT, AAPL, GOOGL, NFLX]</td>\n",
       "    </tr>\n",
       "    <tr>\n",
       "      <th>2</th>\n",
       "      <td>2007-09-01</td>\n",
       "      <td>Offensive</td>\n",
       "      <td>[DUK, CVX, HD, XOM, ADM, MSFT, AAPL, GOOGL]</td>\n",
       "    </tr>\n",
       "    <tr>\n",
       "      <th>3</th>\n",
       "      <td>2008-03-01</td>\n",
       "      <td>Offensive</td>\n",
       "      <td>[DUK, CVX, HD, XOM, ADM, MSFT, AAPL, GOOGL]</td>\n",
       "    </tr>\n",
       "    <tr>\n",
       "      <th>4</th>\n",
       "      <td>2008-09-01</td>\n",
       "      <td>Defensive</td>\n",
       "      <td>[COST, DUK, JNJ, KO, LMT]</td>\n",
       "    </tr>\n",
       "    <tr>\n",
       "      <th>5</th>\n",
       "      <td>2009-03-01</td>\n",
       "      <td>Defensive</td>\n",
       "      <td>[COST, DUK, JNJ, KO, LMT]</td>\n",
       "    </tr>\n",
       "    <tr>\n",
       "      <th>6</th>\n",
       "      <td>2009-09-01</td>\n",
       "      <td>Defensive</td>\n",
       "      <td>[COST, DUK, JNJ, KO, LMT]</td>\n",
       "    </tr>\n",
       "    <tr>\n",
       "      <th>7</th>\n",
       "      <td>2010-03-01</td>\n",
       "      <td>Offensive</td>\n",
       "      <td>[SO, T, CVX, JNJ, ADM, AMD, MSFT, AAPL]</td>\n",
       "    </tr>\n",
       "  </tbody>\n",
       "</table>\n",
       "</div>"
      ],
      "text/plain": [
       "        Date Chosen Universe                               Selected Stocks\n",
       "0 2006-09-01       Defensive                     [COST, DUK, JNJ, KO, LMT]\n",
       "1 2007-03-01       Offensive  [CVX, HD, ADM, XOM, MSFT, AAPL, GOOGL, NFLX]\n",
       "2 2007-09-01       Offensive   [DUK, CVX, HD, XOM, ADM, MSFT, AAPL, GOOGL]\n",
       "3 2008-03-01       Offensive   [DUK, CVX, HD, XOM, ADM, MSFT, AAPL, GOOGL]\n",
       "4 2008-09-01       Defensive                     [COST, DUK, JNJ, KO, LMT]\n",
       "5 2009-03-01       Defensive                     [COST, DUK, JNJ, KO, LMT]\n",
       "6 2009-09-01       Defensive                     [COST, DUK, JNJ, KO, LMT]\n",
       "7 2010-03-01       Offensive       [SO, T, CVX, JNJ, ADM, AMD, MSFT, AAPL]"
      ]
     },
     "execution_count": 12,
     "metadata": {},
     "output_type": "execute_result"
    }
   ],
   "source": [
    "strategy = TestStrategy(prices, financials, offensive_tickers, defensive_tickers, canary_tickers)\n",
    "chosen_universe = strategy.run_strategy(start_date='2005-09-01')\n",
    "chosen_universe.head(8)"
   ]
  },
  {
   "cell_type": "code",
   "execution_count": 13,
   "id": "109edb5e-27ab-4993-a57c-6d0f309376da",
   "metadata": {},
   "outputs": [],
   "source": [
    "benchmark_df = yf.download('^GSPC', start=chosen_universe['Date'].min(), end=chosen_universe['Date'].max(), progress=False)\n",
    "benchmark_data =  benchmark_df['Adj Close']"
   ]
  },
  {
   "cell_type": "code",
   "execution_count": 14,
   "id": "2c7e549f-63d1-4d3d-983d-8a67d98bd0f2",
   "metadata": {},
   "outputs": [
    {
     "data": {
      "text/html": [
       "<div>\n",
       "<style scoped>\n",
       "    .dataframe tbody tr th:only-of-type {\n",
       "        vertical-align: middle;\n",
       "    }\n",
       "\n",
       "    .dataframe tbody tr th {\n",
       "        vertical-align: top;\n",
       "    }\n",
       "\n",
       "    .dataframe thead th {\n",
       "        text-align: right;\n",
       "    }\n",
       "</style>\n",
       "<table border=\"1\" class=\"dataframe\">\n",
       "  <thead>\n",
       "    <tr style=\"text-align: right;\">\n",
       "      <th></th>\n",
       "      <th>Date</th>\n",
       "      <th>Sortino Portfolio Value</th>\n",
       "      <th>Benchmark Portfolio Value</th>\n",
       "    </tr>\n",
       "  </thead>\n",
       "  <tbody>\n",
       "    <tr>\n",
       "      <th>0</th>\n",
       "      <td>2006-09-01</td>\n",
       "      <td>1.000000e+06</td>\n",
       "      <td>1.000000e+06</td>\n",
       "    </tr>\n",
       "    <tr>\n",
       "      <th>1</th>\n",
       "      <td>2006-09-02</td>\n",
       "      <td>1.000000e+06</td>\n",
       "      <td>1.000000e+06</td>\n",
       "    </tr>\n",
       "    <tr>\n",
       "      <th>2</th>\n",
       "      <td>2006-09-03</td>\n",
       "      <td>1.000000e+06</td>\n",
       "      <td>1.000000e+06</td>\n",
       "    </tr>\n",
       "    <tr>\n",
       "      <th>3</th>\n",
       "      <td>2006-09-04</td>\n",
       "      <td>1.000000e+06</td>\n",
       "      <td>1.000000e+06</td>\n",
       "    </tr>\n",
       "    <tr>\n",
       "      <th>4</th>\n",
       "      <td>2006-09-05</td>\n",
       "      <td>9.987625e+05</td>\n",
       "      <td>1.001709e+06</td>\n",
       "    </tr>\n",
       "    <tr>\n",
       "      <th>...</th>\n",
       "      <td>...</td>\n",
       "      <td>...</td>\n",
       "      <td>...</td>\n",
       "    </tr>\n",
       "    <tr>\n",
       "      <th>6569</th>\n",
       "      <td>2024-08-26</td>\n",
       "      <td>8.798373e+06</td>\n",
       "      <td>4.284361e+06</td>\n",
       "    </tr>\n",
       "    <tr>\n",
       "      <th>6570</th>\n",
       "      <td>2024-08-27</td>\n",
       "      <td>8.796362e+06</td>\n",
       "      <td>4.291195e+06</td>\n",
       "    </tr>\n",
       "    <tr>\n",
       "      <th>6571</th>\n",
       "      <td>2024-08-28</td>\n",
       "      <td>8.742109e+06</td>\n",
       "      <td>4.265551e+06</td>\n",
       "    </tr>\n",
       "    <tr>\n",
       "      <th>6572</th>\n",
       "      <td>2024-08-29</td>\n",
       "      <td>8.808096e+06</td>\n",
       "      <td>4.265383e+06</td>\n",
       "    </tr>\n",
       "    <tr>\n",
       "      <th>6573</th>\n",
       "      <td>2024-08-30</td>\n",
       "      <td>8.861329e+06</td>\n",
       "      <td>4.308434e+06</td>\n",
       "    </tr>\n",
       "  </tbody>\n",
       "</table>\n",
       "<p>6574 rows × 3 columns</p>\n",
       "</div>"
      ],
      "text/plain": [
       "           Date  Sortino Portfolio Value  Benchmark Portfolio Value\n",
       "0    2006-09-01             1.000000e+06               1.000000e+06\n",
       "1    2006-09-02             1.000000e+06               1.000000e+06\n",
       "2    2006-09-03             1.000000e+06               1.000000e+06\n",
       "3    2006-09-04             1.000000e+06               1.000000e+06\n",
       "4    2006-09-05             9.987625e+05               1.001709e+06\n",
       "...         ...                      ...                        ...\n",
       "6569 2024-08-26             8.798373e+06               4.284361e+06\n",
       "6570 2024-08-27             8.796362e+06               4.291195e+06\n",
       "6571 2024-08-28             8.742109e+06               4.265551e+06\n",
       "6572 2024-08-29             8.808096e+06               4.265383e+06\n",
       "6573 2024-08-30             8.861329e+06               4.308434e+06\n",
       "\n",
       "[6574 rows x 3 columns]"
      ]
     },
     "execution_count": 14,
     "metadata": {},
     "output_type": "execute_result"
    }
   ],
   "source": [
    "backtest = DynamicBacktest(results = chosen_universe , prices = prices, initial_capital = 1_000_000, benchmark_data=benchmark_data, benchmark_ticker='^GSPC')\n",
    "port_values = backtest.get_portfolio_values()\n",
    "port_values"
   ]
  },
  {
   "cell_type": "code",
   "execution_count": 15,
   "id": "6092e80c-2af7-47c3-ab05-219130f3add3",
   "metadata": {},
   "outputs": [
    {
     "data": {
      "image/png": "[encoded data removed]",
      "text/plain": [
       "<Figure size 1400x700 with 1 Axes>"
      ]
     },
     "metadata": {},
     "output_type": "display_data"
    }
   ],
   "source": [
    "backtest.plot_strategies()"
   ]
  },
  {
   "cell_type": "code",
   "execution_count": 16,
   "id": "5b81a7c1-2b0f-40f2-a5eb-47c7e6547dd1",
   "metadata": {},
   "outputs": [
    {
     "data": {
      "text/html": [
       "<div>\n",
       "<style scoped>\n",
       "    .dataframe tbody tr th:only-of-type {\n",
       "        vertical-align: middle;\n",
       "    }\n",
       "\n",
       "    .dataframe tbody tr th {\n",
       "        vertical-align: top;\n",
       "    }\n",
       "\n",
       "    .dataframe thead th {\n",
       "        text-align: right;\n",
       "    }\n",
       "</style>\n",
       "<table border=\"1\" class=\"dataframe\">\n",
       "  <thead>\n",
       "    <tr style=\"text-align: right;\">\n",
       "      <th></th>\n",
       "      <th>Sortino</th>\n",
       "      <th>Benchmark</th>\n",
       "    </tr>\n",
       "  </thead>\n",
       "  <tbody>\n",
       "    <tr>\n",
       "      <th>mean_return</th>\n",
       "      <td>0.096944</td>\n",
       "      <td>0.069651</td>\n",
       "    </tr>\n",
       "    <tr>\n",
       "      <th>CAGR</th>\n",
       "      <td>0.087227</td>\n",
       "      <td>0.057585</td>\n",
       "    </tr>\n",
       "    <tr>\n",
       "      <th>Sharpe Ratio</th>\n",
       "      <td>0.594852</td>\n",
       "      <td>NaN</td>\n",
       "    </tr>\n",
       "    <tr>\n",
       "      <th>Sortino Ratio</th>\n",
       "      <td>0.646526</td>\n",
       "      <td>NaN</td>\n",
       "    </tr>\n",
       "    <tr>\n",
       "      <th>Volatility</th>\n",
       "      <td>0.162971</td>\n",
       "      <td>0.164993</td>\n",
       "    </tr>\n",
       "    <tr>\n",
       "      <th>Semivariance</th>\n",
       "      <td>0.042201</td>\n",
       "      <td>NaN</td>\n",
       "    </tr>\n",
       "    <tr>\n",
       "      <th>VaR (5%)</th>\n",
       "      <td>-0.016295</td>\n",
       "      <td>NaN</td>\n",
       "    </tr>\n",
       "    <tr>\n",
       "      <th>Beta</th>\n",
       "      <td>0.833515</td>\n",
       "      <td>NaN</td>\n",
       "    </tr>\n",
       "    <tr>\n",
       "      <th>Max Drawdown</th>\n",
       "      <td>-0.542936</td>\n",
       "      <td>-0.567754</td>\n",
       "    </tr>\n",
       "    <tr>\n",
       "      <th>Tracking Error</th>\n",
       "      <td>0.091705</td>\n",
       "      <td>NaN</td>\n",
       "    </tr>\n",
       "    <tr>\n",
       "      <th>Alpha</th>\n",
       "      <td>0.038889</td>\n",
       "      <td>NaN</td>\n",
       "    </tr>\n",
       "  </tbody>\n",
       "</table>\n",
       "</div>"
      ],
      "text/plain": [
       "                 Sortino  Benchmark\n",
       "mean_return     0.096944   0.069651\n",
       "CAGR            0.087227   0.057585\n",
       "Sharpe Ratio    0.594852        NaN\n",
       "Sortino Ratio   0.646526        NaN\n",
       "Volatility      0.162971   0.164993\n",
       "Semivariance    0.042201        NaN\n",
       "VaR (5%)       -0.016295        NaN\n",
       "Beta            0.833515        NaN\n",
       "Max Drawdown   -0.542936  -0.567754\n",
       "Tracking Error  0.091705        NaN\n",
       "Alpha           0.038889        NaN"
      ]
     },
     "execution_count": 16,
     "metadata": {},
     "output_type": "execute_result"
    }
   ],
   "source": [
    "backtest.evaluate_portfolios().T"
   ]
  },
  {
   "cell_type": "markdown",
   "id": "7751477e-f977-401a-87fb-99f2462a540f",
   "metadata": {},
   "source": [
    "-------"
   ]
  },
  {
   "cell_type": "markdown",
   "id": "9dc41ebc-d8dc-4388-9f62-657965f261c6",
   "metadata": {},
   "source": [
    "### Simulaciones del metodo con Portafolios aleatorios"
   ]
  },
  {
   "cell_type": "code",
   "execution_count": 23,
   "id": "7c4bcb4e-ef13-4ad1-a154-aa39f26ded6b",
   "metadata": {},
   "outputs": [],
   "source": [
    "offensive_tickers = ['AAPL', 'ADM', 'ADSK', 'AMD', 'CAT', 'CRM', 'CVX', 'DE', 'DOW', 'GE', 'GOOGL', 'HD', 'HON',\n",
    "                     'MMM', 'MSFT', 'NFLX', 'NVDA', 'QCOM', 'RTX', 'TGT', 'TRYIY', 'TSLA', 'TXN', 'V', 'VMC', 'XOM']\n",
    "\n",
    "defensive_tickers = ['CL', 'COST', 'DUK', 'JNJ', 'KO', 'LMT', 'MCD', 'MDLZ', 'MRK', 'PG', 'SO',\n",
    " 'SRE', 'T', 'VZ', 'WMT', 'ZBH'] \n",
    "\n",
    "canary_tickers = [\n",
    "    # Tecnología\n",
    "    'AAPL', 'MSFT', 'NVDA',\n",
    "    # Finanzas\n",
    "    'JPM', 'GS',\n",
    "    # Energía\n",
    "    'XOM', 'CVX',\n",
    "    # Consumo Discrecional\n",
    "    'TSLA', 'HD', 'AMZN',\n",
    "    # Consumo Básico\n",
    "    'PG', 'KO', 'PEP',\n",
    "    # Salud\n",
    "    'JNJ', 'ABBV',\n",
    "    # Industriales\n",
    "    'CAT', 'HON', 'MMM',\n",
    "    # Telecomunicaciones\n",
    "    'VZ', 'T',\n",
    "    # Bienes Raíces\n",
    "    'PLD',\n",
    "    # Materiales\n",
    "    'VMC',\n",
    "    # Utilidades\n",
    "    'NEE', 'DUK'\n",
    "]"
   ]
  },
  {
   "cell_type": "code",
   "execution_count": 25,
   "id": "7bcd2f43-aa04-432c-9f88-533ad79b1142",
   "metadata": {},
   "outputs": [],
   "source": [
    "n_portfolios = 100\n",
    "\n",
    "def get_random_combinations(tickers, n, sample_size):\n",
    "    \"\"\"Genera combinaciones aleatorias de tickers.\"\"\"\n",
    "    try:\n",
    "        return random.sample(list(itertools.combinations(tickers, n)), sample_size)\n",
    "    except ValueError as e:\n",
    "        print(f\"Error while generating combinations: {e}\")\n",
    "        return []\n",
    "\n",
    "# Generación de combinaciones ofensivas y defensivas\n",
    "offensive_combinations = get_random_combinations(offensive_tickers, 16, n_portfolios)\n",
    "defensive_combinations = get_random_combinations(defensive_tickers, 5, n_portfolios)\n",
    "\n",
    "results = []\n",
    "\n",
    "for offensive_combo, defensive_combo in zip(offensive_combinations, defensive_combinations):\n",
    "    try:\n",
    "        strategy = TestStrategy(prices, financials, list(offensive_combo), list(defensive_combo), canary_tickers)\n",
    "        chosen_universe = strategy.run_strategy(start_date='2005-09-01')\n",
    "        \n",
    "        # Solo Sortino para ofensivo y semivarianza para defensivo\n",
    "        backtest = DynamicBacktest(\n",
    "            results=chosen_universe, prices=prices, initial_capital=1_000_000, \n",
    "            benchmark_data=benchmark_data, benchmark_ticker='^GSPC'\n",
    "        )\n",
    "        port_values = backtest.get_portfolio_values()\n",
    "        evaluation = backtest.evaluate_portfolios().T\n",
    "\n",
    "        results.append({\n",
    "            'Offensive Combination': offensive_combo,\n",
    "            'Defensive Combination': defensive_combo,\n",
    "            'Evaluation': evaluation\n",
    "        })\n",
    "\n",
    "    except Exception as e:\n",
    "        print(f\"Error with offensive {offensive_combo} and defensive {defensive_combo}: {str(e)}\")\n",
    "\n",
    "\n",
    "final_results = pd.DataFrame(results)"
   ]
  },
  {
   "cell_type": "code",
   "execution_count": 26,
   "id": "faf1272b-ca1e-47a9-bfd7-33e253a97bf6",
   "metadata": {},
   "outputs": [],
   "source": [
    "all_evaluations = pd.concat([result['Evaluation'] for result in results], keys=range(len(results)))\n",
    "\n",
    "# Promedio de evaluaciones\n",
    "average_evaluation = all_evaluations.groupby(level=1).mean()\n",
    "\n",
    "# Resumen de métricas clave\n",
    "metric_summary = pd.DataFrame({\n",
    "    'Offensive Combination': [result['Offensive Combination'] for result in results],\n",
    "    'Defensive Combination': [result['Defensive Combination'] for result in results],\n",
    "    'Sharpe Ratio': [result['Evaluation'].loc['Sharpe Ratio', 'Sortino'] for result in results],\n",
    "    'CAGR': [result['Evaluation'].loc['CAGR', 'Sortino'] for result in results],\n",
    "    'Max Drawdown': [result['Evaluation'].loc['Max Drawdown', 'Sortino'] for result in results]\n",
    "})\n",
    "\n",
    "# Seleccionar los mejores portafolios\n",
    "best_sharpe_portfolio = metric_summary.loc[metric_summary['Sharpe Ratio'].idxmax()]\n",
    "best_cagr_portfolio = metric_summary.loc[metric_summary['CAGR'].idxmax()]\n",
    "best_drawdown_portfolio = metric_summary.loc[metric_summary['Max Drawdown'].idxmin()]\n"
   ]
  },
  {
   "cell_type": "code",
   "execution_count": 32,
   "id": "2e60fe84-4712-41f4-be51-64414e4de453",
   "metadata": {},
   "outputs": [
    {
     "ename": "KeyError",
     "evalue": "'CAGR'",
     "output_type": "error",
     "traceback": [
      "\u001b[1;31m---------------------------------------------------------------------------\u001b[0m",
      "\u001b[1;31mKeyError\u001b[0m                                  Traceback (most recent call last)",
      "File \u001b[1;32m~\\anaconda3\\Lib\\site-packages\\pandas\\core\\indexes\\base.py:3805\u001b[0m, in \u001b[0;36mIndex.get_loc\u001b[1;34m(self, key)\u001b[0m\n\u001b[0;32m   3804\u001b[0m \u001b[38;5;28;01mtry\u001b[39;00m:\n\u001b[1;32m-> 3805\u001b[0m     \u001b[38;5;28;01mreturn\u001b[39;00m \u001b[38;5;28mself\u001b[39m\u001b[38;5;241m.\u001b[39m_engine\u001b[38;5;241m.\u001b[39mget_loc(casted_key)\n\u001b[0;32m   3806\u001b[0m \u001b[38;5;28;01mexcept\u001b[39;00m \u001b[38;5;167;01mKeyError\u001b[39;00m \u001b[38;5;28;01mas\u001b[39;00m err:\n",
      "File \u001b[1;32mindex.pyx:167\u001b[0m, in \u001b[0;36mpandas._libs.index.IndexEngine.get_loc\u001b[1;34m()\u001b[0m\n",
      "File \u001b[1;32mindex.pyx:196\u001b[0m, in \u001b[0;36mpandas._libs.index.IndexEngine.get_loc\u001b[1;34m()\u001b[0m\n",
      "File \u001b[1;32mpandas\\\\_libs\\\\hashtable_class_helper.pxi:7081\u001b[0m, in \u001b[0;36mpandas._libs.hashtable.PyObjectHashTable.get_item\u001b[1;34m()\u001b[0m\n",
      "File \u001b[1;32mpandas\\\\_libs\\\\hashtable_class_helper.pxi:7089\u001b[0m, in \u001b[0;36mpandas._libs.hashtable.PyObjectHashTable.get_item\u001b[1;34m()\u001b[0m\n",
      "\u001b[1;31mKeyError\u001b[0m: 'CAGR'",
      "\nThe above exception was the direct cause of the following exception:\n",
      "\u001b[1;31mKeyError\u001b[0m                                  Traceback (most recent call last)",
      "Cell \u001b[1;32mIn[32], line 12\u001b[0m\n\u001b[0;32m      9\u001b[0m     plt\u001b[38;5;241m.\u001b[39mgrid()\n\u001b[0;32m     10\u001b[0m     plt\u001b[38;5;241m.\u001b[39mshow()\n\u001b[1;32m---> 12\u001b[0m plot_average_vs_benchmark(average_evaluation, benchmark_data)\n",
      "Cell \u001b[1;32mIn[32], line 3\u001b[0m, in \u001b[0;36mplot_average_vs_benchmark\u001b[1;34m(average_evaluation, benchmark_data)\u001b[0m\n\u001b[0;32m      1\u001b[0m \u001b[38;5;28;01mdef\u001b[39;00m \u001b[38;5;21mplot_average_vs_benchmark\u001b[39m(average_evaluation, benchmark_data):\n\u001b[0;32m      2\u001b[0m     plt\u001b[38;5;241m.\u001b[39mfigure(figsize\u001b[38;5;241m=\u001b[39m(\u001b[38;5;241m14\u001b[39m, \u001b[38;5;241m7\u001b[39m))\n\u001b[1;32m----> 3\u001b[0m     plt\u001b[38;5;241m.\u001b[39mplot(average_evaluation\u001b[38;5;241m.\u001b[39mindex, average_evaluation[\u001b[38;5;124m'\u001b[39m\u001b[38;5;124mCAGR\u001b[39m\u001b[38;5;124m'\u001b[39m], label\u001b[38;5;241m=\u001b[39m\u001b[38;5;124m'\u001b[39m\u001b[38;5;124mAverage Portfolio CAGR\u001b[39m\u001b[38;5;124m'\u001b[39m, linewidth\u001b[38;5;241m=\u001b[39m\u001b[38;5;241m2\u001b[39m)\n\u001b[0;32m      4\u001b[0m     plt\u001b[38;5;241m.\u001b[39mplot(benchmark_data\u001b[38;5;241m.\u001b[39mindex, benchmark_data\u001b[38;5;241m.\u001b[39mpct_change()\u001b[38;5;241m.\u001b[39mcumsum(), label\u001b[38;5;241m=\u001b[39m\u001b[38;5;124m'\u001b[39m\u001b[38;5;124mBenchmark (Cumulative)\u001b[39m\u001b[38;5;124m'\u001b[39m, color\u001b[38;5;241m=\u001b[39m\u001b[38;5;124m'\u001b[39m\u001b[38;5;124mred\u001b[39m\u001b[38;5;124m'\u001b[39m, linewidth\u001b[38;5;241m=\u001b[39m\u001b[38;5;241m2\u001b[39m)\n\u001b[0;32m      5\u001b[0m     plt\u001b[38;5;241m.\u001b[39mtitle(\u001b[38;5;124m'\u001b[39m\u001b[38;5;124mAverage Portfolio vs. Benchmark Performance\u001b[39m\u001b[38;5;124m'\u001b[39m)\n",
      "File \u001b[1;32m~\\anaconda3\\Lib\\site-packages\\pandas\\core\\frame.py:4102\u001b[0m, in \u001b[0;36mDataFrame.__getitem__\u001b[1;34m(self, key)\u001b[0m\n\u001b[0;32m   4100\u001b[0m \u001b[38;5;28;01mif\u001b[39;00m \u001b[38;5;28mself\u001b[39m\u001b[38;5;241m.\u001b[39mcolumns\u001b[38;5;241m.\u001b[39mnlevels \u001b[38;5;241m>\u001b[39m \u001b[38;5;241m1\u001b[39m:\n\u001b[0;32m   4101\u001b[0m     \u001b[38;5;28;01mreturn\u001b[39;00m \u001b[38;5;28mself\u001b[39m\u001b[38;5;241m.\u001b[39m_getitem_multilevel(key)\n\u001b[1;32m-> 4102\u001b[0m indexer \u001b[38;5;241m=\u001b[39m \u001b[38;5;28mself\u001b[39m\u001b[38;5;241m.\u001b[39mcolumns\u001b[38;5;241m.\u001b[39mget_loc(key)\n\u001b[0;32m   4103\u001b[0m \u001b[38;5;28;01mif\u001b[39;00m is_integer(indexer):\n\u001b[0;32m   4104\u001b[0m     indexer \u001b[38;5;241m=\u001b[39m [indexer]\n",
      "File \u001b[1;32m~\\anaconda3\\Lib\\site-packages\\pandas\\core\\indexes\\base.py:3812\u001b[0m, in \u001b[0;36mIndex.get_loc\u001b[1;34m(self, key)\u001b[0m\n\u001b[0;32m   3807\u001b[0m     \u001b[38;5;28;01mif\u001b[39;00m \u001b[38;5;28misinstance\u001b[39m(casted_key, \u001b[38;5;28mslice\u001b[39m) \u001b[38;5;129;01mor\u001b[39;00m (\n\u001b[0;32m   3808\u001b[0m         \u001b[38;5;28misinstance\u001b[39m(casted_key, abc\u001b[38;5;241m.\u001b[39mIterable)\n\u001b[0;32m   3809\u001b[0m         \u001b[38;5;129;01mand\u001b[39;00m \u001b[38;5;28many\u001b[39m(\u001b[38;5;28misinstance\u001b[39m(x, \u001b[38;5;28mslice\u001b[39m) \u001b[38;5;28;01mfor\u001b[39;00m x \u001b[38;5;129;01min\u001b[39;00m casted_key)\n\u001b[0;32m   3810\u001b[0m     ):\n\u001b[0;32m   3811\u001b[0m         \u001b[38;5;28;01mraise\u001b[39;00m InvalidIndexError(key)\n\u001b[1;32m-> 3812\u001b[0m     \u001b[38;5;28;01mraise\u001b[39;00m \u001b[38;5;167;01mKeyError\u001b[39;00m(key) \u001b[38;5;28;01mfrom\u001b[39;00m \u001b[38;5;21;01merr\u001b[39;00m\n\u001b[0;32m   3813\u001b[0m \u001b[38;5;28;01mexcept\u001b[39;00m \u001b[38;5;167;01mTypeError\u001b[39;00m:\n\u001b[0;32m   3814\u001b[0m     \u001b[38;5;66;03m# If we have a listlike key, _check_indexing_error will raise\u001b[39;00m\n\u001b[0;32m   3815\u001b[0m     \u001b[38;5;66;03m#  InvalidIndexError. Otherwise we fall through and re-raise\u001b[39;00m\n\u001b[0;32m   3816\u001b[0m     \u001b[38;5;66;03m#  the TypeError.\u001b[39;00m\n\u001b[0;32m   3817\u001b[0m     \u001b[38;5;28mself\u001b[39m\u001b[38;5;241m.\u001b[39m_check_indexing_error(key)\n",
      "\u001b[1;31mKeyError\u001b[0m: 'CAGR'"
     ]
    },
    {
     "data": {
      "text/plain": [
       "<Figure size 1400x700 with 0 Axes>"
      ]
     },
     "metadata": {},
     "output_type": "display_data"
    }
   ],
   "source": [
    "\n",
    "def plot_average_vs_benchmark(average_evaluation, benchmark_data):\n",
    "    plt.figure(figsize=(14, 7))\n",
    "    plt.plot(average_evaluation.index, average_evaluation['CAGR'], label='Average Portfolio CAGR', linewidth=2)\n",
    "    plt.plot(benchmark_data.index, benchmark_data.pct_change().cumsum(), label='Benchmark (Cumulative)', color='red', linewidth=2)\n",
    "    plt.title('Average Portfolio vs. Benchmark Performance')\n",
    "    plt.xlabel('Date')\n",
    "    plt.ylabel('Cumulative Returns')\n",
    "    plt.legend()\n",
    "    plt.grid()\n",
    "    plt.show()\n",
    "\n",
    "plot_average_vs_benchmark(average_evaluation, benchmark_data)"
   ]
  },
  {
   "cell_type": "code",
   "execution_count": null,
   "id": "062fe638-a065-409e-8cd0-130f838c0cd7",
   "metadata": {},
   "outputs": [],
   "source": []
  },
  {
   "cell_type": "markdown",
   "id": "f01fafa5-bca5-46d1-b7a6-4e7361dcf73e",
   "metadata": {},
   "source": [
    "--------"
   ]
  },
  {
   "cell_type": "code",
   "execution_count": 28,
   "id": "d4b46979-a75f-4a2e-ace3-63034c452b3e",
   "metadata": {},
   "outputs": [
    {
     "data": {
      "text/plain": [
       "Date\n",
       "2012-05-18     38.230000\n",
       "2012-05-21     34.029999\n",
       "2012-05-22     31.000000\n",
       "2012-05-23     32.000000\n",
       "2012-05-24     33.029999\n",
       "                 ...    \n",
       "2024-10-22    582.010010\n",
       "2024-10-23    563.690002\n",
       "2024-10-24    567.780029\n",
       "2024-10-25    573.250000\n",
       "2024-10-28    579.229980\n",
       "Name: Close, Length: 3131, dtype: float64"
      ]
     },
     "execution_count": 28,
     "metadata": {},
     "output_type": "execute_result"
    }
   ],
   "source": [
    "prices['META']"
   ]
  },
  {
   "cell_type": "code",
   "execution_count": 13,
   "id": "f0da82e8-1767-4b3c-b577-b5b41fc83044",
   "metadata": {},
   "outputs": [
    {
     "data": {
      "text/plain": [
       "['AAPL',\n",
       " 'ABBV',\n",
       " 'ADM',\n",
       " 'ADSK',\n",
       " 'AMD',\n",
       " 'CAT',\n",
       " 'CL',\n",
       " 'CRM',\n",
       " 'CVX',\n",
       " 'DE',\n",
       " 'DOW',\n",
       " 'DUK',\n",
       " 'GE',\n",
       " 'GOOGL',\n",
       " 'HD',\n",
       " 'HON',\n",
       " 'JNJ',\n",
       " 'KO',\n",
       " 'LMT',\n",
       " 'MCD',\n",
       " 'MDLZ',\n",
       " 'META',\n",
       " 'MMM',\n",
       " 'MRK',\n",
       " 'MSFT',\n",
       " 'NEE',\n",
       " 'NFLX',\n",
       " 'NVDA',\n",
       " 'PEP',\n",
       " 'PG',\n",
       " 'QCOM',\n",
       " 'RTX',\n",
       " 'SO',\n",
       " 'SRE',\n",
       " 'T',\n",
       " 'TGT',\n",
       " 'TRYIY',\n",
       " 'TSLA',\n",
       " 'TXN',\n",
       " 'V',\n",
       " 'VMC',\n",
       " 'VZ',\n",
       " 'WMT',\n",
       " 'XOM',\n",
       " 'ZBH']"
      ]
     },
     "execution_count": 13,
     "metadata": {},
     "output_type": "execute_result"
    }
   ],
   "source": [
    "ratios_to_check = [\n",
    "    'Return on Common Equity',\n",
    "    'Operating Margin',\n",
    "    'Cash Flow per Share',\n",
    "    'Current Ratio (x)',\n",
    "    'Total Debt/Equity (%)',\n",
    "    'Total Shares Outstanding  (M)',\n",
    "    'Price/Earnings'\n",
    "]\n",
    "\n",
    "tickers_with_all_ratios = []\n",
    "\n",
    "for ticker, df in financials.items():\n",
    "    if all(ratio in df['Financial Ratio'].values for ratio in ratios_to_check):\n",
    "        tickers_with_all_ratios.append(ticker)\n",
    "\n",
    "tickers_with_all_ratios"
   ]
  },
  {
   "cell_type": "code",
   "execution_count": 14,
   "id": "c88abeca-4572-4634-8b09-66f708f949c8",
   "metadata": {},
   "outputs": [
    {
     "data": {
      "text/plain": [
       "['AFL', 'COST', 'GS', 'JPM', 'PLD']"
      ]
     },
     "execution_count": 14,
     "metadata": {},
     "output_type": "execute_result"
    }
   ],
   "source": [
    "all_tickers = [\n",
    "    'AAPL', 'ABBV', 'ADM', 'ADSK', 'AFL', 'AMD', 'CAT', 'CL', 'COST', 'CRM', 'CVX',\n",
    "    'DE', 'DOW', 'DUK', 'GE', 'GOOGL', 'GS', 'HD', 'HON', 'JNJ', 'JPM', 'KO', 'LMT', \n",
    "    'MCD', 'MDLZ', 'META', 'MMM', 'MRK', 'MSFT', 'NFLX', 'NVDA', 'PG', 'PLD', 'QCOM', \n",
    "    'RTX', 'SO', 'SRE', 'T', 'TGT', 'TRYIY', 'TSLA', 'TXN', 'V', 'VMC', 'VZ', 'WMT', \n",
    "    'XOM', 'ZBH'\n",
    "]\n",
    "\n",
    "tickers_without_all_ratios = [ticker for ticker in all_tickers if ticker not in tickers_with_all_ratios]\n",
    "tickers_without_all_ratios"
   ]
  },
  {
   "cell_type": "code",
   "execution_count": 15,
   "id": "e523c05c-a726-49ba-add6-d89d404eae6d",
   "metadata": {},
   "outputs": [
    {
     "data": {
      "text/plain": [
       "['CL',\n",
       " 'COST',\n",
       " 'DUK',\n",
       " 'JNJ',\n",
       " 'KO',\n",
       " 'LMT',\n",
       " 'MCD',\n",
       " 'MDLZ',\n",
       " 'MRK',\n",
       " 'PG',\n",
       " 'SO',\n",
       " 'SRE',\n",
       " 'T',\n",
       " 'VZ',\n",
       " 'WMT',\n",
       " 'ZBH']"
      ]
     },
     "execution_count": 15,
     "metadata": {},
     "output_type": "execute_result"
    }
   ],
   "source": [
    "tickers_to_check = [\n",
    "    'ABBV', 'CL', 'COST', 'DUK', 'JNJ', 'KO', 'LMT', 'MCD', 'MDLZ', 'MRK', \n",
    "    'PG', 'SO', 'SRE', 'T', 'VZ', 'WMT', 'ZBH'\n",
    "]\n",
    "\n",
    "tickers_with_initial_date = []\n",
    "\n",
    "for ticker in tickers_to_check:\n",
    "    first_date = pd.to_datetime(prices[ticker].index[0])\n",
    "    \n",
    "    if first_date == pd.to_datetime('2005-09-01'):\n",
    "        tickers_with_initial_date.append(ticker)\n",
    "\n",
    "tickers_with_initial_date"
   ]
  },
  {
   "cell_type": "code",
   "execution_count": 16,
   "id": "17d08307-f5a4-429e-ad74-5452a5ba84e1",
   "metadata": {},
   "outputs": [
    {
     "data": {
      "text/plain": [
       "['AMZN', 'PEP', 'NEE']"
      ]
     },
     "execution_count": 16,
     "metadata": {},
     "output_type": "execute_result"
    }
   ],
   "source": [
    "missing_tickers = [ticker for ticker in canary_tickers if ticker not in all_tickers]\n",
    "\n",
    "missing_tickers"
   ]
  },
  {
   "cell_type": "code",
   "execution_count": null,
   "id": "0c8a7f6f-9b28-4086-89fb-08f9703e032c",
   "metadata": {},
   "outputs": [],
   "source": []
  },
  {
   "cell_type": "code",
   "execution_count": null,
   "id": "4187d00f-e0ec-469f-90f3-99497073fd2d",
   "metadata": {},
   "outputs": [],
   "source": []
  }
 ],
 "metadata": {
  "kernelspec": {
   "display_name": "Python 3 (ipykernel)",
   "language": "python",
   "name": "python3"
  },
  "language_info": {
   "codemirror_mode": {
    "name": "ipython",
    "version": 3
   },
   "file_extension": ".py",
   "mimetype": "text/x-python",
   "name": "python",
   "nbconvert_exporter": "python",
   "pygments_lexer": "ipython3",
   "version": "3.12.4"
  }
 },
 "nbformat": 4,
 "nbformat_minor": 5
}

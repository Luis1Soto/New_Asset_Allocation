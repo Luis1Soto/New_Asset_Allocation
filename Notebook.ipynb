{
 "cells": [
  {
   "cell_type": "code",
   "execution_count": 13,
   "id": "81f181fd-8628-4beb-8baf-c38367a268f2",
   "metadata": {},
   "outputs": [],
   "source": [
    "from Functions1 import LoadData\n",
    "from Functions1 import TestStrategy\n",
    "from Functions1 import DynamicBacktest\n",
    "import os\n",
    "import pandas as pd\n",
    "\n",
    "import itertools\n",
    "import random"
   ]
  },
  {
   "cell_type": "markdown",
   "id": "2b37f6a4-26a8-4742-94ee-419d8c6c856f",
   "metadata": {},
   "source": [
    "### Carga de datos"
   ]
  },
  {
   "cell_type": "code",
   "execution_count": 2,
   "id": "06143fb6-1ec0-480d-9e90-56af4a3f1867",
   "metadata": {},
   "outputs": [
    {
     "name": "stdout",
     "output_type": "stream",
     "text": [
      "Data processed for the following tickers: AAPL, ABBV, ADM, ADSK, AFL, AMD, CAT, CL, COST, CRM, CVX, DE, DOW, DUK, GE, GOOGL, GS, HD, HON, JNJ, JPM, KO, LMT, MCD, MDLZ, META, MMM, MRK, MSFT, NFLX, NVDA, PG, PLD, QCOM, RTX, SO, SRE, T, TGT, TRYIY, TSLA, TXN, V, VMC, VZ, WMT, XOM, ZBH\n"
     ]
    }
   ],
   "source": [
    "current_directory = os.getcwd()\n",
    "path = os.path.join(current_directory, 'Stocks_financials')\n",
    "\n",
    "loader = LoadData(path)\n",
    "prices, financials = loader.Load(start_date='2005-09-01', end_date=None)"
   ]
  },
  {
   "cell_type": "markdown",
   "id": "818fefcf-8f50-4dcd-9f77-b46a57eec1a4",
   "metadata": {},
   "source": [
    "### Escenario unico"
   ]
  },
  {
   "cell_type": "code",
   "execution_count": 3,
   "id": "302750e0-40dd-471d-8a3e-2b9cb06645a5",
   "metadata": {},
   "outputs": [],
   "source": [
    "offensive_tickers = [\"MSFT\", \"AAPL\", \"GOOGL\", 'V', 'NFLX', 'SO', 'DUK', 'VZ', 'T', 'CVX', 'VMC', 'NVDA', 'GE', 'KO', 'JNJ', 'HD', 'AMD', 'ADM', 'META', 'TSLA', 'XOM']   \n",
    "defensive_tickers = ['COST', 'DUK', 'JNJ', 'KO', 'LMT']      \n",
    "canary_tickers = ['MSFT', 'V', 'NFLX', 'SO', 'DUK', 'PLD', 'VZ', 'T', 'CVX', 'VMC', 'NVDA', 'GE',\n",
    "                      'KO', 'JNJ', 'GS', 'HD', 'AMD', 'ADM', 'META', 'GOOGL', 'TSLA', 'JPM', 'XOM', 'AAPL']    "
   ]
  },
  {
   "cell_type": "code",
   "execution_count": 4,
   "id": "16d500c0-d0af-48a7-ad54-bb6eab308cb8",
   "metadata": {},
   "outputs": [
    {
     "data": {
      "text/html": [
       "<div>\n",
       "<style scoped>\n",
       "    .dataframe tbody tr th:only-of-type {\n",
       "        vertical-align: middle;\n",
       "    }\n",
       "\n",
       "    .dataframe tbody tr th {\n",
       "        vertical-align: top;\n",
       "    }\n",
       "\n",
       "    .dataframe thead th {\n",
       "        text-align: right;\n",
       "    }\n",
       "</style>\n",
       "<table border=\"1\" class=\"dataframe\">\n",
       "  <thead>\n",
       "    <tr style=\"text-align: right;\">\n",
       "      <th></th>\n",
       "      <th>Date</th>\n",
       "      <th>Chosen Universe</th>\n",
       "      <th>Selected Stocks</th>\n",
       "    </tr>\n",
       "  </thead>\n",
       "  <tbody>\n",
       "    <tr>\n",
       "      <th>0</th>\n",
       "      <td>2006-09-01</td>\n",
       "      <td>Defensive</td>\n",
       "      <td>[COST, DUK, JNJ, KO, LMT]</td>\n",
       "    </tr>\n",
       "    <tr>\n",
       "      <th>1</th>\n",
       "      <td>2007-03-01</td>\n",
       "      <td>Offensive</td>\n",
       "      <td>[CVX, HD, ADM, XOM, MSFT, AAPL, GOOGL, NFLX]</td>\n",
       "    </tr>\n",
       "    <tr>\n",
       "      <th>2</th>\n",
       "      <td>2007-09-01</td>\n",
       "      <td>Offensive</td>\n",
       "      <td>[DUK, CVX, HD, XOM, ADM, MSFT, AAPL, GOOGL]</td>\n",
       "    </tr>\n",
       "    <tr>\n",
       "      <th>3</th>\n",
       "      <td>2008-03-01</td>\n",
       "      <td>Offensive</td>\n",
       "      <td>[DUK, CVX, HD, XOM, ADM, MSFT, AAPL, GOOGL]</td>\n",
       "    </tr>\n",
       "    <tr>\n",
       "      <th>4</th>\n",
       "      <td>2008-09-01</td>\n",
       "      <td>Defensive</td>\n",
       "      <td>[COST, DUK, JNJ, KO, LMT]</td>\n",
       "    </tr>\n",
       "    <tr>\n",
       "      <th>5</th>\n",
       "      <td>2009-03-01</td>\n",
       "      <td>Defensive</td>\n",
       "      <td>[COST, DUK, JNJ, KO, LMT]</td>\n",
       "    </tr>\n",
       "    <tr>\n",
       "      <th>6</th>\n",
       "      <td>2009-09-01</td>\n",
       "      <td>Defensive</td>\n",
       "      <td>[COST, DUK, JNJ, KO, LMT]</td>\n",
       "    </tr>\n",
       "    <tr>\n",
       "      <th>7</th>\n",
       "      <td>2010-03-01</td>\n",
       "      <td>Offensive</td>\n",
       "      <td>[SO, T, CVX, JNJ, ADM, AMD, MSFT, AAPL]</td>\n",
       "    </tr>\n",
       "  </tbody>\n",
       "</table>\n",
       "</div>"
      ],
      "text/plain": [
       "        Date Chosen Universe                               Selected Stocks\n",
       "0 2006-09-01       Defensive                     [COST, DUK, JNJ, KO, LMT]\n",
       "1 2007-03-01       Offensive  [CVX, HD, ADM, XOM, MSFT, AAPL, GOOGL, NFLX]\n",
       "2 2007-09-01       Offensive   [DUK, CVX, HD, XOM, ADM, MSFT, AAPL, GOOGL]\n",
       "3 2008-03-01       Offensive   [DUK, CVX, HD, XOM, ADM, MSFT, AAPL, GOOGL]\n",
       "4 2008-09-01       Defensive                     [COST, DUK, JNJ, KO, LMT]\n",
       "5 2009-03-01       Defensive                     [COST, DUK, JNJ, KO, LMT]\n",
       "6 2009-09-01       Defensive                     [COST, DUK, JNJ, KO, LMT]\n",
       "7 2010-03-01       Offensive       [SO, T, CVX, JNJ, ADM, AMD, MSFT, AAPL]"
      ]
     },
     "execution_count": 4,
     "metadata": {},
     "output_type": "execute_result"
    }
   ],
   "source": [
    "strategy = TestStrategy(prices, financials, offensive_tickers, defensive_tickers, canary_tickers)\n",
    "chosen_universe = strategy.run_strategy(start_date='2005-09-01')\n",
    "chosen_universe.head(8)"
   ]
  },
  {
   "cell_type": "code",
   "execution_count": 5,
   "id": "2c7e549f-63d1-4d3d-983d-8a67d98bd0f2",
   "metadata": {},
   "outputs": [
    {
     "data": {
      "text/html": [
       "<div>\n",
       "<style scoped>\n",
       "    .dataframe tbody tr th:only-of-type {\n",
       "        vertical-align: middle;\n",
       "    }\n",
       "\n",
       "    .dataframe tbody tr th {\n",
       "        vertical-align: top;\n",
       "    }\n",
       "\n",
       "    .dataframe thead th {\n",
       "        text-align: right;\n",
       "    }\n",
       "</style>\n",
       "<table border=\"1\" class=\"dataframe\">\n",
       "  <thead>\n",
       "    <tr style=\"text-align: right;\">\n",
       "      <th></th>\n",
       "      <th>Date</th>\n",
       "      <th>Sortino Portfolio Value</th>\n",
       "      <th>Sharpe Portfolio Value</th>\n",
       "      <th>CVaR Portfolio Value</th>\n",
       "      <th>benchmark Portfolio Value</th>\n",
       "    </tr>\n",
       "  </thead>\n",
       "  <tbody>\n",
       "    <tr>\n",
       "      <th>0</th>\n",
       "      <td>2006-09-01</td>\n",
       "      <td>1.000000e+06</td>\n",
       "      <td>1.000000e+06</td>\n",
       "      <td>1.000000e+06</td>\n",
       "      <td>1.000000e+06</td>\n",
       "    </tr>\n",
       "    <tr>\n",
       "      <th>1</th>\n",
       "      <td>2006-09-02</td>\n",
       "      <td>1.000000e+06</td>\n",
       "      <td>1.000000e+06</td>\n",
       "      <td>1.000000e+06</td>\n",
       "      <td>1.000000e+06</td>\n",
       "    </tr>\n",
       "    <tr>\n",
       "      <th>2</th>\n",
       "      <td>2006-09-03</td>\n",
       "      <td>1.000000e+06</td>\n",
       "      <td>1.000000e+06</td>\n",
       "      <td>1.000000e+06</td>\n",
       "      <td>1.000000e+06</td>\n",
       "    </tr>\n",
       "    <tr>\n",
       "      <th>3</th>\n",
       "      <td>2006-09-04</td>\n",
       "      <td>1.000000e+06</td>\n",
       "      <td>1.000000e+06</td>\n",
       "      <td>1.000000e+06</td>\n",
       "      <td>1.000000e+06</td>\n",
       "    </tr>\n",
       "    <tr>\n",
       "      <th>4</th>\n",
       "      <td>2006-09-05</td>\n",
       "      <td>9.987625e+05</td>\n",
       "      <td>9.987625e+05</td>\n",
       "      <td>9.987625e+05</td>\n",
       "      <td>1.001709e+06</td>\n",
       "    </tr>\n",
       "    <tr>\n",
       "      <th>...</th>\n",
       "      <td>...</td>\n",
       "      <td>...</td>\n",
       "      <td>...</td>\n",
       "      <td>...</td>\n",
       "      <td>...</td>\n",
       "    </tr>\n",
       "    <tr>\n",
       "      <th>6614</th>\n",
       "      <td>2024-10-10</td>\n",
       "      <td>9.052634e+06</td>\n",
       "      <td>9.137529e+06</td>\n",
       "      <td>9.125412e+06</td>\n",
       "      <td>4.308434e+06</td>\n",
       "    </tr>\n",
       "    <tr>\n",
       "      <th>6615</th>\n",
       "      <td>2024-10-11</td>\n",
       "      <td>9.057747e+06</td>\n",
       "      <td>9.157393e+06</td>\n",
       "      <td>9.150215e+06</td>\n",
       "      <td>4.308434e+06</td>\n",
       "    </tr>\n",
       "    <tr>\n",
       "      <th>6616</th>\n",
       "      <td>2024-10-12</td>\n",
       "      <td>9.057747e+06</td>\n",
       "      <td>9.157393e+06</td>\n",
       "      <td>9.150215e+06</td>\n",
       "      <td>4.308434e+06</td>\n",
       "    </tr>\n",
       "    <tr>\n",
       "      <th>6617</th>\n",
       "      <td>2024-10-13</td>\n",
       "      <td>9.057747e+06</td>\n",
       "      <td>9.157393e+06</td>\n",
       "      <td>9.150215e+06</td>\n",
       "      <td>4.308434e+06</td>\n",
       "    </tr>\n",
       "    <tr>\n",
       "      <th>6618</th>\n",
       "      <td>2024-10-14</td>\n",
       "      <td>9.072294e+06</td>\n",
       "      <td>9.163061e+06</td>\n",
       "      <td>9.164991e+06</td>\n",
       "      <td>4.308434e+06</td>\n",
       "    </tr>\n",
       "  </tbody>\n",
       "</table>\n",
       "<p>6619 rows × 5 columns</p>\n",
       "</div>"
      ],
      "text/plain": [
       "           Date  Sortino Portfolio Value  Sharpe Portfolio Value  \\\n",
       "0    2006-09-01             1.000000e+06            1.000000e+06   \n",
       "1    2006-09-02             1.000000e+06            1.000000e+06   \n",
       "2    2006-09-03             1.000000e+06            1.000000e+06   \n",
       "3    2006-09-04             1.000000e+06            1.000000e+06   \n",
       "4    2006-09-05             9.987625e+05            9.987625e+05   \n",
       "...         ...                      ...                     ...   \n",
       "6614 2024-10-10             9.052634e+06            9.137529e+06   \n",
       "6615 2024-10-11             9.057747e+06            9.157393e+06   \n",
       "6616 2024-10-12             9.057747e+06            9.157393e+06   \n",
       "6617 2024-10-13             9.057747e+06            9.157393e+06   \n",
       "6618 2024-10-14             9.072294e+06            9.163061e+06   \n",
       "\n",
       "      CVaR Portfolio Value  benchmark Portfolio Value  \n",
       "0             1.000000e+06               1.000000e+06  \n",
       "1             1.000000e+06               1.000000e+06  \n",
       "2             1.000000e+06               1.000000e+06  \n",
       "3             1.000000e+06               1.000000e+06  \n",
       "4             9.987625e+05               1.001709e+06  \n",
       "...                    ...                        ...  \n",
       "6614          9.125412e+06               4.308434e+06  \n",
       "6615          9.150215e+06               4.308434e+06  \n",
       "6616          9.150215e+06               4.308434e+06  \n",
       "6617          9.150215e+06               4.308434e+06  \n",
       "6618          9.164991e+06               4.308434e+06  \n",
       "\n",
       "[6619 rows x 5 columns]"
      ]
     },
     "execution_count": 5,
     "metadata": {},
     "output_type": "execute_result"
    }
   ],
   "source": [
    "backtest = DynamicBacktest(chosen_universe, prices, 1000000)\n",
    "port_values = backtest.get_portfolio_values()\n",
    "port_values"
   ]
  },
  {
   "cell_type": "code",
   "execution_count": 6,
   "id": "6092e80c-2af7-47c3-ab05-219130f3add3",
   "metadata": {},
   "outputs": [
    {
     "data": {
      "image/png": "[encoded data removed]",
      "text/plain": [
       "<Figure size 1400x700 with 1 Axes>"
      ]
     },
     "metadata": {},
     "output_type": "display_data"
    }
   ],
   "source": [
    "backtest.plot_strategies()"
   ]
  },
  {
   "cell_type": "code",
   "execution_count": 7,
   "id": "5b81a7c1-2b0f-40f2-a5eb-47c7e6547dd1",
   "metadata": {
    "scrolled": true
   },
   "outputs": [
    {
     "data": {
      "text/html": [
       "<div>\n",
       "<style scoped>\n",
       "    .dataframe tbody tr th:only-of-type {\n",
       "        vertical-align: middle;\n",
       "    }\n",
       "\n",
       "    .dataframe tbody tr th {\n",
       "        vertical-align: top;\n",
       "    }\n",
       "\n",
       "    .dataframe thead th {\n",
       "        text-align: right;\n",
       "    }\n",
       "</style>\n",
       "<table border=\"1\" class=\"dataframe\">\n",
       "  <thead>\n",
       "    <tr style=\"text-align: right;\">\n",
       "      <th></th>\n",
       "      <th>Sortino</th>\n",
       "      <th>Sharpe</th>\n",
       "      <th>CVaR</th>\n",
       "      <th>benchmark</th>\n",
       "    </tr>\n",
       "  </thead>\n",
       "  <tbody>\n",
       "    <tr>\n",
       "      <th>mean_return</th>\n",
       "      <td>0.097202</td>\n",
       "      <td>0.100161</td>\n",
       "      <td>0.097446</td>\n",
       "      <td>0.069177</td>\n",
       "    </tr>\n",
       "    <tr>\n",
       "      <th>CAGR</th>\n",
       "      <td>0.087583</td>\n",
       "      <td>0.087995</td>\n",
       "      <td>0.088004</td>\n",
       "      <td>0.057182</td>\n",
       "    </tr>\n",
       "    <tr>\n",
       "      <th>Sharpe Ratio</th>\n",
       "      <td>0.597985</td>\n",
       "      <td>0.563658</td>\n",
       "      <td>0.593657</td>\n",
       "      <td>0.420705</td>\n",
       "    </tr>\n",
       "    <tr>\n",
       "      <th>Sortino Ratio</th>\n",
       "      <td>0.649436</td>\n",
       "      <td>0.616291</td>\n",
       "      <td>0.744656</td>\n",
       "      <td>0.421841</td>\n",
       "    </tr>\n",
       "    <tr>\n",
       "      <th>Treynor Ratio</th>\n",
       "      <td>0.000463</td>\n",
       "      <td>0.000475</td>\n",
       "      <td>0.000569</td>\n",
       "      <td>0.000274</td>\n",
       "    </tr>\n",
       "    <tr>\n",
       "      <th>Volatility</th>\n",
       "      <td>0.162550</td>\n",
       "      <td>0.177698</td>\n",
       "      <td>0.164145</td>\n",
       "      <td>0.164431</td>\n",
       "    </tr>\n",
       "    <tr>\n",
       "      <th>VaR</th>\n",
       "      <td>-0.016248</td>\n",
       "      <td>-0.017395</td>\n",
       "      <td>-0.012909</td>\n",
       "      <td>-0.015184</td>\n",
       "    </tr>\n",
       "    <tr>\n",
       "      <th>Beta</th>\n",
       "      <td>0.833507</td>\n",
       "      <td>0.836825</td>\n",
       "      <td>0.679809</td>\n",
       "      <td>1.000151</td>\n",
       "    </tr>\n",
       "    <tr>\n",
       "      <th>Recovery Time</th>\n",
       "      <td>6614.000000</td>\n",
       "      <td>6614.000000</td>\n",
       "      <td>6614.000000</td>\n",
       "      <td>6613.000000</td>\n",
       "    </tr>\n",
       "    <tr>\n",
       "      <th>Tracking Error</th>\n",
       "      <td>0.091633</td>\n",
       "      <td>0.115634</td>\n",
       "      <td>0.131250</td>\n",
       "      <td>0.000000</td>\n",
       "    </tr>\n",
       "    <tr>\n",
       "      <th>Kurtosis</th>\n",
       "      <td>14.380603</td>\n",
       "      <td>13.949160</td>\n",
       "      <td>118.484051</td>\n",
       "      <td>19.066887</td>\n",
       "    </tr>\n",
       "    <tr>\n",
       "      <th>Max Drawdown</th>\n",
       "      <td>-0.542936</td>\n",
       "      <td>-0.559055</td>\n",
       "      <td>-0.544488</td>\n",
       "      <td>-0.567754</td>\n",
       "    </tr>\n",
       "    <tr>\n",
       "      <th>Alpha</th>\n",
       "      <td>0.039543</td>\n",
       "      <td>0.042272</td>\n",
       "      <td>0.050419</td>\n",
       "      <td>-0.000010</td>\n",
       "    </tr>\n",
       "  </tbody>\n",
       "</table>\n",
       "</div>"
      ],
      "text/plain": [
       "                    Sortino       Sharpe         CVaR    benchmark\n",
       "mean_return        0.097202     0.100161     0.097446     0.069177\n",
       "CAGR               0.087583     0.087995     0.088004     0.057182\n",
       "Sharpe Ratio       0.597985     0.563658     0.593657     0.420705\n",
       "Sortino Ratio      0.649436     0.616291     0.744656     0.421841\n",
       "Treynor Ratio      0.000463     0.000475     0.000569     0.000274\n",
       "Volatility         0.162550     0.177698     0.164145     0.164431\n",
       "VaR               -0.016248    -0.017395    -0.012909    -0.015184\n",
       "Beta               0.833507     0.836825     0.679809     1.000151\n",
       "Recovery Time   6614.000000  6614.000000  6614.000000  6613.000000\n",
       "Tracking Error     0.091633     0.115634     0.131250     0.000000\n",
       "Kurtosis          14.380603    13.949160   118.484051    19.066887\n",
       "Max Drawdown      -0.542936    -0.559055    -0.544488    -0.567754\n",
       "Alpha              0.039543     0.042272     0.050419    -0.000010"
      ]
     },
     "execution_count": 7,
     "metadata": {},
     "output_type": "execute_result"
    }
   ],
   "source": [
    "backtest.evaluate_portfolios().T"
   ]
  },
  {
   "cell_type": "markdown",
   "id": "7751477e-f977-401a-87fb-99f2462a540f",
   "metadata": {},
   "source": [
    "-------"
   ]
  },
  {
   "cell_type": "markdown",
   "id": "9dc41ebc-d8dc-4388-9f62-657965f261c6",
   "metadata": {},
   "source": [
    "### Simulaciones del metodo con Portafolios aleatorios"
   ]
  },
  {
   "cell_type": "code",
   "execution_count": 29,
   "id": "bd553ef4-9438-4902-a88a-4237edd24173",
   "metadata": {},
   "outputs": [],
   "source": [
    "offensive_tickers = ['AAPL', 'ADM', 'ADSK', 'AMD', 'CAT', 'CRM', 'CVX', 'DE', 'DOW', 'GE', 'GOOGL', 'HD', 'HON','META',\n",
    "                     'MMM', 'MSFT', 'NFLX', 'NVDA', 'QCOM', 'RTX', 'TGT', 'TRYIY', 'TSLA', 'TXN', 'V', 'VMC', 'XOM']\n",
    "\n",
    "defensive_tickers = ['CL', 'COST', 'DUK', 'JNJ', 'KO', 'LMT', 'MCD', 'MDLZ', 'MRK', 'PG', 'SO',\n",
    " 'SRE', 'T', 'VZ', 'WMT', 'ZBH'] \n",
    "\n",
    "canary_tickers = [\n",
    "    # Tecnología\n",
    "    'AAPL', 'MSFT', 'NVDA',\n",
    "    # Finanzas\n",
    "    'JPM', 'GS',\n",
    "    # Energía\n",
    "    'XOM', 'CVX',\n",
    "    # Consumo Discrecional\n",
    "    'TSLA', 'HD', 'AMZN',\n",
    "    # Consumo Básico\n",
    "    'PG', 'KO', 'PEP',\n",
    "    # Salud\n",
    "    'JNJ', 'ABBV',\n",
    "    # Industriales\n",
    "    'CAT', 'HON', 'MMM',\n",
    "    # Telecomunicaciones\n",
    "    'VZ', 'T',\n",
    "    # Bienes Raíces\n",
    "    'PLD',\n",
    "    # Materiales\n",
    "    'VMC',\n",
    "    # Utilidades\n",
    "    'NEE', 'DUK'\n",
    "]"
   ]
  },
  {
   "cell_type": "code",
   "execution_count": null,
   "id": "7bcd2f43-aa04-432c-9f88-533ad79b1142",
   "metadata": {
    "scrolled": true
   },
   "outputs": [
    {
     "name": "stdout",
     "output_type": "stream",
     "text": [
      "Testing with offensive: ('AMD', 'CAT', 'CRM', 'CVX', 'DE', 'DOW', 'GE', 'HD', 'META', 'MMM', 'NFLX', 'NVDA', 'RTX', 'TSLA', 'V', 'XOM') and defensive: ('COST', 'MCD', 'MDLZ', 'MRK', 'VZ')\n",
      "Testing with offensive: ('AAPL', 'ADSK', 'CVX', 'DE', 'DOW', 'GOOGL', 'HD', 'HON', 'META', 'NFLX', 'NVDA', 'RTX', 'TGT', 'TRYIY', 'TSLA', 'XOM') and defensive: ('CL', 'DUK', 'SRE', 'VZ', 'WMT')\n",
      "Testing with offensive: ('ADM', 'CAT', 'CRM', 'CVX', 'DE', 'DOW', 'GOOGL', 'MMM', 'NFLX', 'QCOM', 'RTX', 'TGT', 'TRYIY', 'V', 'VMC', 'XOM') and defensive: ('PG', 'SRE', 'VZ', 'WMT', 'ZBH')\n",
      "Testing with offensive: ('AAPL', 'ADM', 'ADSK', 'CAT', 'CRM', 'CVX', 'DOW', 'GOOGL', 'HD', 'META', 'MMM', 'MSFT', 'NFLX', 'QCOM', 'TGT', 'TRYIY') and defensive: ('JNJ', 'PG', 'T', 'VZ', 'ZBH')\n",
      "Testing with offensive: ('AAPL', 'AMD', 'CAT', 'CRM', 'DE', 'GE', 'GOOGL', 'HD', 'MSFT', 'NVDA', 'RTX', 'TGT', 'TRYIY', 'TSLA', 'V', 'XOM') and defensive: ('COST', 'LMT', 'SO', 'VZ', 'ZBH')\n",
      "Testing with offensive: ('ADM', 'AMD', 'CRM', 'DOW', 'GE', 'GOOGL', 'HD', 'HON', 'MMM', 'NVDA', 'QCOM', 'RTX', 'TGT', 'TSLA', 'VMC', 'XOM') and defensive: ('CL', 'COST', 'KO', 'SO', 'WMT')\n",
      "Testing with offensive: ('AAPL', 'ADM', 'CRM', 'CVX', 'GOOGL', 'HD', 'HON', 'META', 'MMM', 'MSFT', 'NFLX', 'NVDA', 'QCOM', 'TRYIY', 'TXN', 'VMC') and defensive: ('CL', 'COST', 'JNJ', 'MDLZ', 'WMT')\n",
      "Testing with offensive: ('AAPL', 'AMD', 'CAT', 'CRM', 'CVX', 'DE', 'DOW', 'GE', 'HON', 'META', 'NFLX', 'QCOM', 'TGT', 'TXN', 'VMC', 'XOM') and defensive: ('MDLZ', 'SO', 'SRE', 'T', 'VZ')\n",
      "Testing with offensive: ('ADM', 'DE', 'DOW', 'GE', 'GOOGL', 'HON', 'META', 'MSFT', 'NFLX', 'NVDA', 'QCOM', 'TGT', 'TRYIY', 'TSLA', 'V', 'VMC') and defensive: ('CL', 'JNJ', 'KO', 'LMT', 'T')\n",
      "Testing with offensive: ('ADM', 'AMD', 'CRM', 'GE', 'HD', 'HON', 'META', 'MMM', 'MSFT', 'RTX', 'TGT', 'TRYIY', 'TSLA', 'TXN', 'VMC', 'XOM') and defensive: ('CL', 'DUK', 'JNJ', 'WMT', 'ZBH')\n"
     ]
    }
   ],
   "source": [
    "n_portfolios = 2500\n",
    "\n",
    "def get_random_combinations(tickers, n, sample_size):\n",
    "    try:\n",
    "        return random.sample(list(itertools.combinations(tickers, n)), sample_size)\n",
    "    except ValueError as e:\n",
    "        print(f\"Error while generating combinations: {e}\")\n",
    "        return []\n",
    "\n",
    "offensive_combinations = get_random_combinations(offensive_tickers, 16, n_portfolios)\n",
    "defensive_combinations = get_random_combinations(defensive_tickers, 5, n_portfolios)\n",
    "\n",
    "results = []\n",
    "\n",
    "for offensive_combo, defensive_combo in zip(offensive_combinations, defensive_combinations):\n",
    "    \n",
    "\n",
    "    try:\n",
    "        strategy = TestStrategy(prices, financials, list(offensive_combo), list(defensive_combo), canary_tickers)\n",
    "        \n",
    "        chosen_universe = strategy.run_strategy(start_date='2005-09-01')\n",
    "        \n",
    "        backtest = DynamicBacktest(chosen_universe, prices, 1000000)\n",
    "        port_values = backtest.get_portfolio_values()\n",
    "        evaluation = backtest.evaluate_portfolios().T\n",
    "        \n",
    "        results.append({\n",
    "            'Offensive Combination': offensive_combo,\n",
    "            'Defensive Combination': defensive_combo,\n",
    "            'Evaluation': evaluation\n",
    "        })\n",
    "        \n",
    "    except Exception as e:\n",
    "        print(f\"Error with offensive {offensive_combo} and defensive {defensive_combo}: {str(e)}\")\n",
    "\n",
    "final_results = pd.DataFrame(results)"
   ]
  },
  {
   "cell_type": "code",
   "execution_count": null,
   "id": "faf1272b-ca1e-47a9-bfd7-33e253a97bf6",
   "metadata": {},
   "outputs": [],
   "source": [
    "all_evaluations = pd.concat([result['Evaluation'] for result in results], keys=range(len(results)))\n",
    "\n",
    "average_evaluation = all_evaluations.groupby(level=1).mean()"
   ]
  },
  {
   "cell_type": "code",
   "execution_count": null,
   "id": "2e60fe84-4712-41f4-be51-64414e4de453",
   "metadata": {},
   "outputs": [],
   "source": [
    "metric_summary = pd.DataFrame({\n",
    "    'Offensive Combination': [result['Offensive Combination'] for result in results],\n",
    "    'Defensive Combination': [result['Defensive Combination'] for result in results],\n",
    "    'Sharpe Ratio': [result['Evaluation'].loc['Sharpe Ratio', 'Sharpe'] for result in results],\n",
    "    'CAGR': [result['Evaluation'].loc['CAGR', 'Sharpe'] for result in results],\n",
    "    'Max Drawdown': [result['Evaluation'].loc['Max Drawdown', 'Sharpe'] for result in results]\n",
    "})\n",
    "\n",
    "best_sharpe_portfolio = metric_summary.loc[metric_summary['Sharpe Ratio'].idxmax()]\n",
    "best_cagr_portfolio = metric_summary.loc[metric_summary['CAGR'].idxmax()]\n",
    "best_drawdown_portfolio = metric_summary.loc[metric_summary['Max Drawdown'].idxmin()]"
   ]
  },
  {
   "cell_type": "code",
   "execution_count": null,
   "id": "d7e274f2-9095-47ee-b4fa-5c197f412eb1",
   "metadata": {},
   "outputs": [],
   "source": [
    "fig, ax = plt.subplots(figsize=(12, 6))\n",
    "average_evaluation['Sharpe Ratio'].plot(ax=ax, label='Promedio de todas las combinaciones', linestyle='--', color='blue')\n",
    "best_sharpe_portfolio['Sharpe Ratio'].plot(ax=ax, label='Mejor Portafolio (Sharpe Ratio)', linestyle='-', color='green')\n",
    "plt.title('Comparación de Rendimiento Basado en Sharpe Ratio')\n",
    "plt.ylabel('Sharpe Ratio')\n",
    "plt.xlabel('Fecha')\n",
    "plt.legend()\n",
    "plt.grid(True)\n",
    "plt.show()"
   ]
  },
  {
   "cell_type": "markdown",
   "id": "f01fafa5-bca5-46d1-b7a6-4e7361dcf73e",
   "metadata": {},
   "source": [
    "--------"
   ]
  },
  {
   "cell_type": "code",
   "execution_count": 21,
   "id": "f0da82e8-1767-4b3c-b577-b5b41fc83044",
   "metadata": {},
   "outputs": [
    {
     "data": {
      "text/plain": [
       "['AAPL',\n",
       " 'ABBV',\n",
       " 'ADM',\n",
       " 'ADSK',\n",
       " 'AMD',\n",
       " 'CAT',\n",
       " 'CL',\n",
       " 'CRM',\n",
       " 'CVX',\n",
       " 'DE',\n",
       " 'DOW',\n",
       " 'DUK',\n",
       " 'GE',\n",
       " 'GOOGL',\n",
       " 'HD',\n",
       " 'HON',\n",
       " 'JNJ',\n",
       " 'KO',\n",
       " 'LMT',\n",
       " 'MCD',\n",
       " 'MDLZ',\n",
       " 'META',\n",
       " 'MMM',\n",
       " 'MRK',\n",
       " 'MSFT',\n",
       " 'NFLX',\n",
       " 'NVDA',\n",
       " 'PG',\n",
       " 'QCOM',\n",
       " 'RTX',\n",
       " 'SO',\n",
       " 'SRE',\n",
       " 'T',\n",
       " 'TGT',\n",
       " 'TRYIY',\n",
       " 'TSLA',\n",
       " 'TXN',\n",
       " 'V',\n",
       " 'VMC',\n",
       " 'VZ',\n",
       " 'WMT',\n",
       " 'XOM',\n",
       " 'ZBH']"
      ]
     },
     "execution_count": 21,
     "metadata": {},
     "output_type": "execute_result"
    }
   ],
   "source": [
    "ratios_to_check = [\n",
    "    'Return on Common Equity',\n",
    "    'Operating Margin',\n",
    "    'Cash Flow per Share',\n",
    "    'Current Ratio (x)',\n",
    "    'Total Debt/Equity (%)',\n",
    "    'Total Shares Outstanding  (M)',\n",
    "    'Price/Earnings'\n",
    "]\n",
    "\n",
    "tickers_with_all_ratios = []\n",
    "\n",
    "for ticker, df in financials.items():\n",
    "    if all(ratio in df['Financial Ratio'].values for ratio in ratios_to_check):\n",
    "        tickers_with_all_ratios.append(ticker)\n",
    "\n",
    "tickers_with_all_ratios"
   ]
  },
  {
   "cell_type": "code",
   "execution_count": 23,
   "id": "c88abeca-4572-4634-8b09-66f708f949c8",
   "metadata": {},
   "outputs": [
    {
     "data": {
      "text/plain": [
       "['AFL', 'COST', 'GS', 'JPM', 'PLD']"
      ]
     },
     "execution_count": 23,
     "metadata": {},
     "output_type": "execute_result"
    }
   ],
   "source": [
    "all_tickers = [\n",
    "    'AAPL', 'ABBV', 'ADM', 'ADSK', 'AFL', 'AMD', 'CAT', 'CL', 'COST', 'CRM', 'CVX',\n",
    "    'DE', 'DOW', 'DUK', 'GE', 'GOOGL', 'GS', 'HD', 'HON', 'JNJ', 'JPM', 'KO', 'LMT', \n",
    "    'MCD', 'MDLZ', 'META', 'MMM', 'MRK', 'MSFT', 'NFLX', 'NVDA', 'PG', 'PLD', 'QCOM', \n",
    "    'RTX', 'SO', 'SRE', 'T', 'TGT', 'TRYIY', 'TSLA', 'TXN', 'V', 'VMC', 'VZ', 'WMT', \n",
    "    'XOM', 'ZBH'\n",
    "]\n",
    "\n",
    "tickers_without_all_ratios = [ticker for ticker in all_tickers if ticker not in tickers_with_all_ratios]\n",
    "tickers_without_all_ratios"
   ]
  },
  {
   "cell_type": "code",
   "execution_count": 25,
   "id": "e523c05c-a726-49ba-add6-d89d404eae6d",
   "metadata": {},
   "outputs": [
    {
     "data": {
      "text/plain": [
       "['CL',\n",
       " 'COST',\n",
       " 'DUK',\n",
       " 'JNJ',\n",
       " 'KO',\n",
       " 'LMT',\n",
       " 'MCD',\n",
       " 'MDLZ',\n",
       " 'MRK',\n",
       " 'PG',\n",
       " 'SO',\n",
       " 'SRE',\n",
       " 'T',\n",
       " 'VZ',\n",
       " 'WMT',\n",
       " 'ZBH']"
      ]
     },
     "execution_count": 25,
     "metadata": {},
     "output_type": "execute_result"
    }
   ],
   "source": [
    "tickers_to_check = [\n",
    "    'ABBV', 'CL', 'COST', 'DUK', 'JNJ', 'KO', 'LMT', 'MCD', 'MDLZ', 'MRK', \n",
    "    'PG', 'SO', 'SRE', 'T', 'VZ', 'WMT', 'ZBH'\n",
    "]\n",
    "\n",
    "tickers_with_initial_date = []\n",
    "\n",
    "for ticker in tickers_to_check:\n",
    "    first_date = pd.to_datetime(prices[ticker].index[0])\n",
    "    \n",
    "    if first_date == pd.to_datetime('2005-09-01'):\n",
    "        tickers_with_initial_date.append(ticker)\n",
    "\n",
    "tickers_with_initial_date"
   ]
  },
  {
   "cell_type": "code",
   "execution_count": 27,
   "id": "17d08307-f5a4-429e-ad74-5452a5ba84e1",
   "metadata": {},
   "outputs": [
    {
     "data": {
      "text/plain": [
       "['BRK.B', 'AMZN', 'PEP', 'PFE', 'NEE']"
      ]
     },
     "execution_count": 27,
     "metadata": {},
     "output_type": "execute_result"
    }
   ],
   "source": [
    "missing_tickers = [ticker for ticker in canary_tickers if ticker not in all_tickers]\n",
    "\n",
    "missing_tickers"
   ]
  }
 ],
 "metadata": {
  "kernelspec": {
   "display_name": "Python 3 (ipykernel)",
   "language": "python",
   "name": "python3"
  },
  "language_info": {
   "codemirror_mode": {
    "name": "ipython",
    "version": 3
   },
   "file_extension": ".py",
   "mimetype": "text/x-python",
   "name": "python",
   "nbconvert_exporter": "python",
   "pygments_lexer": "ipython3",
   "version": "3.12.4"
  }
 },
 "nbformat": 4,
 "nbformat_minor": 5
}

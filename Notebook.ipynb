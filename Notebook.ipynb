{
 "cells": [
  {
   "cell_type": "code",
   "execution_count": 1,
   "id": "81f181fd-8628-4beb-8baf-c38367a268f2",
   "metadata": {},
   "outputs": [],
   "source": [
    "from Functions import AssetDataFetcher"
   ]
  },
  {
   "cell_type": "code",
   "execution_count": 2,
   "id": "18ef644a-b296-41a9-9ecf-0902e8279bc8",
   "metadata": {},
   "outputs": [
    {
     "name": "stdout",
     "output_type": "stream",
     "text": [
      "Data for AAPL: {'address1': 'One Apple Park Way', 'city': 'Cupertino', 'state': 'CA', 'zip': '95014', 'country': 'United States', 'phone': '408 996 1010', 'website': 'https://www.apple.com', 'industry': 'Consumer Electronics', 'industryKey': 'consumer-electronics', 'industryDisp': 'Consumer Electronics', 'sector': 'Technology', 'sectorKey': 'technology', 'sectorDisp': 'Technology', 'longBusinessSummary': 'Apple Inc. designs, manufactures, and markets smartphones, personal computers, tablets, wearables, and accessories worldwide. The company offers iPhone, a line of smartphones; Mac, a line of personal computers; iPad, a line of multi-purpose tablets; and wearables, home, and accessories comprising AirPods, Apple TV, Apple Watch, Beats products, and HomePod. It also provides AppleCare support and cloud services; and operates various platforms, including the App Store that allow customers to discover and download applications and digital content, such as books, music, video, games, and podcasts. In addition, the company offers various services, such as Apple Arcade, a game subscription service; Apple Fitness+, a personalized fitness service; Apple Music, which offers users a curated listening experience with on-demand radio stations; Apple News+, a subscription news and magazine service; Apple TV+, which offers exclusive original content; Apple Card, a co-branded credit card; and Apple Pay, a cashless payment service, as well as licenses its intellectual property. The company serves consumers, and small and mid-sized businesses; and the education, enterprise, and government markets. It distributes third-party applications for its products through the App Store. The company also sells its products through its retail and online stores, and direct sales force; and third-party cellular network carriers, wholesalers, retailers, and resellers. Apple Inc. was founded in 1976 and is headquartered in Cupertino, California.', 'fullTimeEmployees': 161000, 'companyOfficers': [{'maxAge': 1, 'name': 'Mr. Timothy D. Cook', 'age': 62, 'title': 'CEO & Director', 'yearBorn': 1961, 'fiscalYear': 2023, 'totalPay': 16239562, 'exercisedValue': 0, 'unexercisedValue': 0}, {'maxAge': 1, 'name': 'Mr. Luca  Maestri', 'age': 60, 'title': 'CFO & Senior VP', 'yearBorn': 1963, 'fiscalYear': 2023, 'totalPay': 4612242, 'exercisedValue': 0, 'unexercisedValue': 0}, {'maxAge': 1, 'name': 'Mr. Jeffrey E. Williams', 'age': 59, 'title': 'Chief Operating Officer', 'yearBorn': 1964, 'fiscalYear': 2023, 'totalPay': 4637585, 'exercisedValue': 0, 'unexercisedValue': 0}, {'maxAge': 1, 'name': 'Ms. Katherine L. Adams', 'age': 59, 'title': 'Senior VP, General Counsel & Secretary', 'yearBorn': 1964, 'fiscalYear': 2023, 'totalPay': 4618064, 'exercisedValue': 0, 'unexercisedValue': 0}, {'maxAge': 1, 'name': \"Ms. Deirdre  O'Brien\", 'age': 56, 'title': 'Senior Vice President of Retail', 'yearBorn': 1967, 'fiscalYear': 2023, 'totalPay': 4613369, 'exercisedValue': 0, 'unexercisedValue': 0}, {'maxAge': 1, 'name': 'Mr. Chris  Kondo', 'title': 'Senior Director of Corporate Accounting', 'fiscalYear': 2023, 'exercisedValue': 0, 'unexercisedValue': 0}, {'maxAge': 1, 'name': 'Mr. James  Wilson', 'title': 'Chief Technology Officer', 'fiscalYear': 2023, 'exercisedValue': 0, 'unexercisedValue': 0}, {'maxAge': 1, 'name': 'Suhasini  Chandramouli', 'title': 'Director of Investor Relations', 'fiscalYear': 2023, 'exercisedValue': 0, 'unexercisedValue': 0}, {'maxAge': 1, 'name': 'Mr. Greg  Joswiak', 'title': 'Senior Vice President of Worldwide Marketing', 'fiscalYear': 2023, 'exercisedValue': 0, 'unexercisedValue': 0}, {'maxAge': 1, 'name': 'Mr. Adrian  Perica', 'age': 49, 'title': 'Head of Corporate Development', 'yearBorn': 1974, 'fiscalYear': 2023, 'exercisedValue': 0, 'unexercisedValue': 0}], 'auditRisk': 6, 'boardRisk': 1, 'compensationRisk': 2, 'shareHolderRightsRisk': 1, 'overallRisk': 1, 'governanceEpochDate': 1725148800, 'compensationAsOfEpochDate': 1703980800, 'irWebsite': 'http://investor.apple.com/', 'maxAge': 86400, 'priceHint': 2, 'previousClose': 222.38, 'open': 223.9, 'dayLow': 219.77, 'dayHigh': 225.24, 'regularMarketPreviousClose': 222.38, 'regularMarketOpen': 223.9, 'regularMarketDayLow': 219.77, 'regularMarketDayHigh': 225.24, 'dividendRate': 1.0, 'dividendYield': 0.0045, 'exDividendDate': 1723420800, 'payoutRatio': 0.1476, 'fiveYearAvgDividendYield': 0.66, 'beta': 1.24, 'trailingPE': 33.684452, 'forwardPE': 29.541445, 'volume': 30646952, 'regularMarketVolume': 30646952, 'averageVolume': 63507250, 'averageVolume10days': 42244740, 'averageDailyVolume10Day': 42244740, 'bid': 220.7, 'ask': 221.21, 'bidSize': 200, 'askSize': 200, 'marketCap': 3359650086912, 'fiftyTwoWeekLow': 164.08, 'fiftyTwoWeekHigh': 237.23, 'priceToSalesTrailing12Months': 8.712717, 'fiftyDayAverage': 222.4236, 'twoHundredDayAverage': 194.61095, 'trailingAnnualDividendRate': 0.97, 'trailingAnnualDividendYield': 0.0043619033, 'currency': 'USD', 'enterpriseValue': 3420599091200, 'profitMargins': 0.26441, 'floatShares': 15179810381, 'sharesOutstanding': 15204100096, 'sharesShort': 121598771, 'sharesShortPriorMonth': 135383184, 'sharesShortPreviousMonthDate': 1721001600, 'dateShortInterest': 1723680000, 'sharesPercentSharesOut': 0.008, 'heldPercentInsiders': 0.02703, 'heldPercentInstitutions': 0.60883, 'shortRatio': 2.19, 'shortPercentOfFloat': 0.008, 'impliedSharesOutstanding': 15256599552, 'bookValue': 4.382, 'priceToBook': 50.426746, 'lastFiscalYearEnd': 1696032000, 'nextFiscalYearEnd': 1727654400, 'mostRecentQuarter': 1719619200, 'earningsQuarterlyGrowth': 0.079, 'netIncomeToCommon': 101956001792, 'trailingEps': 6.56, 'forwardEps': 7.48, 'pegRatio': 2.99, 'lastSplitFactor': '4:1', 'lastSplitDate': 1598832000, 'enterpriseToRevenue': 8.871, 'enterpriseToEbitda': 25.957, '52WeekChange': 0.2480638, 'SandP52WeekChange': 0.23464322, 'lastDividendValue': 0.25, 'lastDividendDate': 1723420800, 'exchange': 'NMS', 'quoteType': 'EQUITY', 'symbol': 'AAPL', 'underlyingSymbol': 'AAPL', 'shortName': 'Apple Inc.', 'longName': 'Apple Inc.', 'firstTradeDateEpochUtc': 345479400, 'timeZoneFullName': 'America/New_York', 'timeZoneShortName': 'EDT', 'uuid': '8b10e4ae-9eeb-3684-921a-9ab27e4d87aa', 'messageBoardId': 'finmb_24937', 'gmtOffSetMilliseconds': -14400000, 'currentPrice': 220.97, 'targetHighPrice': 300.0, 'targetLowPrice': 183.86, 'targetMeanPrice': 240.2, 'targetMedianPrice': 243.0, 'recommendationMean': 2.0, 'recommendationKey': 'buy', 'numberOfAnalystOpinions': 40, 'totalCash': 61801000960, 'totalCashPerShare': 4.065, 'ebitda': 131781001216, 'totalDebt': 101304000512, 'quickRatio': 0.798, 'currentRatio': 0.953, 'totalRevenue': 385603010560, 'debtToEquity': 151.862, 'revenuePerShare': 24.957, 'returnOnAssets': 0.22612, 'returnOnEquity': 1.60583, 'freeCashflow': 86158123008, 'operatingCashflow': 113040998400, 'earningsGrowth': 0.111, 'revenueGrowth': 0.049, 'grossMargins': 0.45962003, 'ebitdaMargins': 0.34175, 'operatingMargins': 0.29556, 'financialCurrency': 'USD', 'trailingPegRatio': 2.1343}\n",
      "Data for GOOGL: {'address1': '1600 Amphitheatre Parkway', 'city': 'Mountain View', 'state': 'CA', 'zip': '94043', 'country': 'United States', 'phone': '650 253 0000', 'website': 'https://abc.xyz', 'industry': 'Internet Content & Information', 'industryKey': 'internet-content-information', 'industryDisp': 'Internet Content & Information', 'sector': 'Communication Services', 'sectorKey': 'communication-services', 'sectorDisp': 'Communication Services', 'longBusinessSummary': 'Alphabet Inc. offers various products and platforms in the United States, Europe, the Middle East, Africa, the Asia-Pacific, Canada, and Latin America. It operates through Google Services, Google Cloud, and Other Bets segments. The Google Services segment provides products and services, including ads, Android, Chrome, devices, Gmail, Google Drive, Google Maps, Google Photos, Google Play, Search, and YouTube. It is also involved in the sale of apps and in-app purchases and digital content in the Google Play and YouTube; and devices, as well as in the provision of YouTube consumer subscription services. The Google Cloud segment offers infrastructure, cybersecurity, databases, analytics, AI, and other services; Google Workspace that include cloud-based communication and collaboration tools for enterprises, such as Gmail, Docs, Drive, Calendar, and Meet; and other services for enterprise customers. The Other Bets segment sells healthcare-related and internet services. The company was incorporated in 1998 and is headquartered in Mountain View, California.', 'fullTimeEmployees': 179582, 'companyOfficers': [{'maxAge': 1, 'name': 'Mr. Sundar  Pichai', 'age': 50, 'title': 'CEO & Director', 'yearBorn': 1973, 'fiscalYear': 2023, 'totalPay': 8802824, 'exercisedValue': 0, 'unexercisedValue': 0}, {'maxAge': 1, 'name': 'Ms. Ruth M. Porat', 'age': 65, 'title': 'President & Chief Investment Officer', 'yearBorn': 1958, 'fiscalYear': 2023, 'totalPay': 2515700, 'exercisedValue': 0, 'unexercisedValue': 0}, {'maxAge': 1, 'name': 'Dr. Lawrence Edward Page II', 'age': 50, 'title': 'Co-Founder & Director', 'yearBorn': 1973, 'fiscalYear': 2023, 'totalPay': 1, 'exercisedValue': 0, 'unexercisedValue': 0}, {'maxAge': 1, 'name': 'Mr. Sergey  Brin', 'age': 49, 'title': 'Co-Founder & Director', 'yearBorn': 1974, 'fiscalYear': 2023, 'totalPay': 1, 'exercisedValue': 0, 'unexercisedValue': 0}, {'maxAge': 1, 'name': 'Mr. J. Kent Walker', 'age': 62, 'title': 'President of Global Affairs, Chief Legal Officer & Company Secretary', 'yearBorn': 1961, 'fiscalYear': 2023, 'totalPay': 2511737, 'exercisedValue': 0, 'unexercisedValue': 0}, {'maxAge': 1, 'name': 'Dr. Prabhakar  Raghavan', 'age': 62, 'title': 'Senior Vice President of Knowledge and Information - Google', 'yearBorn': 1961, 'fiscalYear': 2023, 'totalPay': 2511737, 'exercisedValue': 0, 'unexercisedValue': 0}, {'maxAge': 1, 'name': 'Mr. Philipp  Schindler', 'age': 52, 'title': 'Senior Vice President & Chief Business Officer of Google', 'yearBorn': 1971, 'fiscalYear': 2023, 'totalPay': 2514032, 'exercisedValue': 0, 'unexercisedValue': 0}, {'maxAge': 1, 'name': 'Ms. Anat  Ashkenazi', 'age': 50, 'title': 'Senior VP & CFO', 'yearBorn': 1973, 'fiscalYear': 2023, 'exercisedValue': 0, 'unexercisedValue': 0}, {'maxAge': 1, 'name': \"Ms. Amie Thuener O'Toole\", 'age': 48, 'title': 'Chief Accounting Officer & VP', 'yearBorn': 1975, 'fiscalYear': 2023, 'exercisedValue': 0, 'unexercisedValue': 0}, {'maxAge': 1, 'name': 'Ms. Ellen  West', 'title': 'Vice President of Investor Relations', 'fiscalYear': 2023, 'exercisedValue': 0, 'unexercisedValue': 0}], 'auditRisk': 9, 'boardRisk': 8, 'compensationRisk': 10, 'shareHolderRightsRisk': 10, 'overallRisk': 10, 'governanceEpochDate': 1725148800, 'compensationAsOfEpochDate': 1703980800, 'maxAge': 86400, 'priceHint': 2, 'previousClose': 157.24, 'open': 157.3, 'dayLow': 151.2702, 'dayHigh': 157.83, 'regularMarketPreviousClose': 157.24, 'regularMarketOpen': 157.3, 'regularMarketDayLow': 151.2702, 'regularMarketDayHigh': 157.83, 'dividendRate': 0.8, 'dividendYield': 0.0050999997, 'exDividendDate': 1725840000, 'payoutRatio': 0.0287, 'beta': 1.039, 'trailingPE': 21.780489, 'forwardPE': 17.409403, 'volume': 21666258, 'regularMarketVolume': 21666258, 'averageVolume': 24439891, 'averageVolume10days': 19766570, 'averageDailyVolume10Day': 19766570, 'bid': 151.67, 'ask': 151.94, 'bidSize': 300, 'askSize': 300, 'marketCap': 1875840335872, 'fiftyTwoWeekLow': 120.21, 'fiftyTwoWeekHigh': 191.75, 'priceToSalesTrailing12Months': 5.7140775, 'fiftyDayAverage': 171.8834, 'twoHundredDayAverage': 156.6263, 'trailingAnnualDividendRate': 0.2, 'trailingAnnualDividendYield': 0.001271941, 'currency': 'USD', 'enterpriseValue': 1863618396160, 'profitMargins': 0.26702, 'floatShares': 10983966800, 'sharesOutstanding': 5858999808, 'sharesShort': 69353838, 'sharesShortPriorMonth': 71534234, 'sharesShortPreviousMonthDate': 1721001600, 'dateShortInterest': 1723680000, 'sharesPercentSharesOut': 0.0056, 'heldPercentInsiders': 0.00247, 'heldPercentInstitutions': 0.80951, 'shortRatio': 2.37, 'shortPercentOfFloat': 0.0117999995, 'impliedSharesOutstanding': 12356500480, 'bookValue': 24.408, 'priceToBook': 6.2196817, 'lastFiscalYearEnd': 1703980800, 'nextFiscalYearEnd': 1735603200, 'mostRecentQuarter': 1719705600, 'earningsQuarterlyGrowth': 0.286, 'netIncomeToCommon': 87656996864, 'trailingEps': 6.97, 'forwardEps': 8.72, 'pegRatio': 1.0, 'lastSplitFactor': '20:1', 'lastSplitDate': 1658102400, 'enterpriseToRevenue': 5.677, 'enterpriseToEbitda': 16.138, '52WeekChange': 0.15295494, 'SandP52WeekChange': 0.23464322, 'lastDividendValue': 0.2, 'lastDividendDate': 1717977600, 'exchange': 'NMS', 'quoteType': 'EQUITY', 'symbol': 'GOOGL', 'underlyingSymbol': 'GOOGL', 'shortName': 'Alphabet Inc.', 'longName': 'Alphabet Inc.', 'firstTradeDateEpochUtc': 1092922200, 'timeZoneFullName': 'America/New_York', 'timeZoneShortName': 'EDT', 'uuid': 'e15ce71f-f533-3912-9f11-a46c09e2412b', 'messageBoardId': 'finmb_29096', 'gmtOffSetMilliseconds': -14400000, 'currentPrice': 151.81, 'targetHighPrice': 234.59, 'targetLowPrice': 170.0, 'targetMeanPrice': 202.79, 'targetMedianPrice': 204.0, 'recommendationMean': 1.9, 'recommendationKey': 'buy', 'numberOfAnalystOpinions': 47, 'totalCash': 100724998144, 'totalCashPerShare': 8.182, 'ebitda': 115478003712, 'totalDebt': 28718999552, 'quickRatio': 1.897, 'currentRatio': 2.079, 'totalRevenue': 328284012544, 'debtToEquity': 9.549, 'revenuePerShare': 26.353, 'returnOnAssets': 0.15961, 'returnOnEquity': 0.30871, 'freeCashflow': 43988500480, 'operatingCashflow': 105059000320, 'earningsGrowth': 0.314, 'revenueGrowth': 0.136, 'grossMargins': 0.57639, 'ebitdaMargins': 0.35176, 'operatingMargins': 0.32362998, 'financialCurrency': 'USD', 'trailingPegRatio': 1.0602}\n",
      "Data for JNJ: {'address1': 'One Johnson & Johnson Plaza', 'city': 'New Brunswick', 'state': 'NJ', 'zip': '08933', 'country': 'United States', 'phone': '732 524 0400', 'website': 'https://www.jnj.com', 'industry': 'Drug Manufacturers - General', 'industryKey': 'drug-manufacturers-general', 'industryDisp': 'Drug Manufacturers - General', 'sector': 'Healthcare', 'sectorKey': 'healthcare', 'sectorDisp': 'Healthcare', 'longBusinessSummary': \"Johnson & Johnson, together with its subsidiaries, researches, develops, manufactures, and sells various products in the healthcare field worldwide. The company's Innovative Medicine segment offers products for various therapeutic areas, such as immunology, including rheumatoid arthritis, psoriatic arthritis, inflammatory bowel disease, and psoriasis; infectious diseases comprising HIV/AIDS; neuroscience, consisting of mood disorders, neurodegenerative disorders, and schizophrenia; oncology, such as prostate cancer, hematologic malignancies, lung cancer, and bladder cancer; cardiovascular and metabolism, including thrombosis, diabetes, and macular degeneration; and pulmonary hypertension comprising pulmonary arterial hypertension through retailers, wholesalers, distributors, hospitals, and healthcare professionals for prescription use. Its MedTech segment provides Interventional Solutions, including electrophysiology products to treat heart rhythm disorders; the heart recovery portfolio, which includes technologies to treat severe coronary artery disease requiring high-risk PCI or AMI cardiogenic shock; and neurovascular care that treats hemorrhagic and ischemic stroke. this segment also offers an orthopaedics portfolio that includes products and enabling technologies that support hips, knees, trauma, spine, sports, and other; surgery portfolios comprising advanced and general surgery technologies, as well as solutions for breast aesthetics, ear, nose, and throat procedures; contact lenses under the ACUVUE Brand; and TECNIS intraocular lenses for cataract surgery. It distributes its products to wholesalers, hospitals, and retailers, as well as physicians, nurses, hospitals, eye care professionals, and clinics. Johnson & Johnson was founded in 1886 and is based in New Brunswick, New Jersey.\", 'fullTimeEmployees': 131900, 'companyOfficers': [{'maxAge': 1, 'name': 'Mr. Joaquin  Duato', 'age': 60, 'title': 'CEO & Chairman', 'yearBorn': 1963, 'fiscalYear': 2023, 'totalPay': 6205107, 'exercisedValue': 14985999, 'unexercisedValue': 34142040}, {'maxAge': 1, 'name': 'Mr. Joseph J. Wolk CPA', 'age': 56, 'title': 'Executive VP & CFO', 'yearBorn': 1967, 'fiscalYear': 2023, 'totalPay': 3174834, 'exercisedValue': 0, 'unexercisedValue': 4895969}, {'maxAge': 1, 'name': 'Dr. Peter M. Fasolo Ph.D.', 'age': 60, 'title': 'Executive VP & Chief Human Resources Officer', 'yearBorn': 1963, 'fiscalYear': 2023, 'totalPay': 2148436, 'exercisedValue': 0, 'unexercisedValue': 2433349}, {'maxAge': 1, 'name': 'Ms. Jennifer L. Taubert', 'age': 59, 'title': 'Executive VP & Worldwide Chairman of Innovative Medicine', 'yearBorn': 1964, 'fiscalYear': 2023, 'totalPay': 3104582, 'exercisedValue': 0, 'unexercisedValue': 15487583}, {'maxAge': 1, 'name': 'Dr. John C. Reed M.D., Ph.D.', 'age': 65, 'title': 'Executive Vice President of Innovative Medicine, R&D', 'yearBorn': 1958, 'fiscalYear': 2023, 'totalPay': 8573416, 'exercisedValue': 0, 'unexercisedValue': 0}, {'maxAge': 1, 'name': 'Mr. Robert J. Decker Jr.', 'age': 51, 'title': 'Controller & Chief Accounting Officer', 'yearBorn': 1972, 'fiscalYear': 2023, 'exercisedValue': 0, 'unexercisedValue': 0}, {'maxAge': 1, 'name': 'Mr. James  Swanson', 'age': 57, 'title': 'Executive VP & Chief Information Officer', 'yearBorn': 1966, 'fiscalYear': 2023, 'exercisedValue': 0, 'unexercisedValue': 0}, {'maxAge': 1, 'name': 'Ms. Jessica  Moore', 'title': 'Vice President of Investor Relations', 'fiscalYear': 2023, 'exercisedValue': 0, 'unexercisedValue': 0}, {'maxAge': 1, 'name': 'Mr. Dirk  Brinckman', 'title': 'Chief Compliance Officer', 'fiscalYear': 2023, 'exercisedValue': 0, 'unexercisedValue': 0}, {'maxAge': 1, 'name': 'Ms. Elizabeth  Forminard', 'age': 52, 'title': 'Executive VP & Chief Legal Officer', 'yearBorn': 1971, 'fiscalYear': 2023, 'exercisedValue': 0, 'unexercisedValue': 0}], 'auditRisk': 7, 'boardRisk': 4, 'compensationRisk': 7, 'shareHolderRightsRisk': 2, 'overallRisk': 4, 'governanceEpochDate': 1725148800, 'compensationAsOfEpochDate': 1703980800, 'irWebsite': 'http://www.investor.jnj.com/investor-relations.cfm', 'maxAge': 86400, 'priceHint': 2, 'previousClose': 164.99, 'open': 165.18, 'dayLow': 164.38, 'dayHigh': 165.9399, 'regularMarketPreviousClose': 164.99, 'regularMarketOpen': 165.18, 'regularMarketDayLow': 164.38, 'regularMarketDayHigh': 165.9399, 'dividendRate': 4.96, 'dividendYield': 0.0301, 'exDividendDate': 1724716800, 'payoutRatio': 0.7277, 'fiveYearAvgDividendYield': 2.71, 'beta': 0.519, 'trailingPE': 24.842146, 'forwardPE': 15.340951, 'volume': 2533839, 'regularMarketVolume': 2533839, 'averageVolume': 6869796, 'averageVolume10days': 6394860, 'averageDailyVolume10Day': 6394860, 'bid': 164.57, 'ask': 164.61, 'bidSize': 1000, 'askSize': 1200, 'marketCap': 395882659840, 'fiftyTwoWeekLow': 143.13, 'fiftyTwoWeekHigh': 168.85, 'priceToSalesTrailing12Months': 4.572661, 'fiftyDayAverage': 156.8332, 'twoHundredDayAverage': 154.83624, 'trailingAnnualDividendRate': 4.81, 'trailingAnnualDividendYield': 0.02915328, 'currency': 'USD', 'enterpriseValue': 413187145728, 'profitMargins': 0.43912998, 'floatShares': 2402838411, 'sharesOutstanding': 2407239936, 'sharesShort': 19814375, 'sharesShortPriorMonth': 17985418, 'sharesShortPreviousMonthDate': 1721001600, 'dateShortInterest': 1723680000, 'sharesPercentSharesOut': 0.0082, 'heldPercentInsiders': 0.00088, 'heldPercentInstitutions': 0.72745, 'shortRatio': 2.54, 'shortPercentOfFloat': 0.0082, 'impliedSharesOutstanding': 2407239936, 'bookValue': 29.723, 'priceToBook': 5.532921, 'lastFiscalYearEnd': 1703980800, 'nextFiscalYearEnd': 1735603200, 'mostRecentQuarter': 1719705600, 'earningsQuarterlyGrowth': -0.089, 'netIncomeToCommon': 16382000128, 'trailingEps': 6.62, 'forwardEps': 10.72, 'pegRatio': 2.97, 'lastSplitFactor': '2:1', 'lastSplitDate': 992390400, 'enterpriseToRevenue': 4.773, 'enterpriseToEbitda': 13.313, '52WeekChange': 0.02759099, 'SandP52WeekChange': 0.23464322, 'lastDividendValue': 1.24, 'lastDividendDate': 1724716800, 'exchange': 'NYQ', 'quoteType': 'EQUITY', 'symbol': 'JNJ', 'underlyingSymbol': 'JNJ', 'shortName': 'Johnson & Johnson', 'longName': 'Johnson & Johnson', 'firstTradeDateEpochUtc': -252322200, 'timeZoneFullName': 'America/New_York', 'timeZoneShortName': 'EDT', 'uuid': '73aa25b0-87c8-3616-a460-03cbef1b4753', 'messageBoardId': 'finmb_139677', 'gmtOffSetMilliseconds': -14400000, 'currentPrice': 164.455, 'targetHighPrice': 215.0, 'targetLowPrice': 150.0, 'targetMeanPrice': 171.83, 'targetMedianPrice': 172.43, 'recommendationMean': 2.4, 'recommendationKey': 'buy', 'numberOfAnalystOpinions': 23, 'totalCash': 25475000320, 'totalCashPerShare': 10.583, 'ebitda': 31036999680, 'totalDebt': 41491001344, 'quickRatio': 0.765, 'currentRatio': 1.072, 'totalRevenue': 86575996928, 'debtToEquity': 57.999, 'revenuePerShare': 35.536, 'returnOnAssets': 0.080979995, 'returnOnEquity': 0.22146, 'freeCashflow': 19137374208, 'operatingCashflow': 24642000896, 'earningsGrowth': -0.016, 'revenueGrowth': 0.043, 'grossMargins': 0.6943, 'ebitdaMargins': 0.35849, 'operatingMargins': 0.29821, 'financialCurrency': 'USD', 'trailingPegRatio': 0.9668}\n",
      "Data for PG: {'address1': 'One Procter & Gamble Plaza', 'city': 'Cincinnati', 'state': 'OH', 'zip': '45202', 'country': 'United States', 'phone': '513 983 1100', 'website': 'https://www.pginvestor.com', 'industry': 'Household & Personal Products', 'industryKey': 'household-personal-products', 'industryDisp': 'Household & Personal Products', 'sector': 'Consumer Defensive', 'sectorKey': 'consumer-defensive', 'sectorDisp': 'Consumer Defensive', 'longBusinessSummary': 'The Procter & Gamble Company engages in the provision of branded consumer packaged goods worldwide. The company operates through five segments: Beauty; Grooming; Health Care; Fabric & Home Care; and Baby, Feminine & Family Care. The Beauty segment offers conditioners, shampoos, styling aids, and treatments under the Head & Shoulders, Herbal Essences, Pantene, and Rejoice brands; and antiperspirants and deodorants, personal cleansing, and skin care products under the Olay, Old Spice, Safeguard, Secret, SK-II, and Native brands. The Grooming segment provides blades and razors, shave products, appliances, and other grooming products under the Braun, Gillette, and Venus brand names. The Health Care segment offers toothbrushes, toothpastes, and other oral care products under the Crest and Oral-B brand names; and gastrointestinal, pain relief, rapid diagnostics, respiratory, vitamins/minerals/supplements, and other personal health care products under Metamucil, Neurobion, Pepto-Bismol, and Vicks brands. The Fabric & Home Care segment provides fabric enhancers, laundry additives, and laundry detergents under the Ariel, Downy, Gain, and Tide brands; and air care, dish care, P&G professional, and surface care products under the Cascade, Dawn, Fairy, Febreze, Mr. Clean, and Swiffer brands. The Baby, Feminine & Family Care segment offers baby wipes, and taped diapers and pants under the Luvs and Pampers brands; adult incontinence and feminine care products under the Always, Always Discreet, and Tampax brands; and paper towels, tissues, and toilet papers under the Bounty, Charmin, and Puffs brands. It sells its products primarily through mass merchandisers, e-commerce, grocery stores, membership club stores, drug stores, department stores, distributors, wholesalers, specialty beauty stores, high-frequency stores, pharmacies, electronics stores, and professional channels, as well as directly to consumers. The company was founded in 1837 and is headquartered in Cincinnati, Ohio.', 'fullTimeEmployees': 108000, 'companyOfficers': [{'maxAge': 1, 'name': 'Mr. Jon R. Moeller', 'age': 59, 'title': 'President, CEO & Chairman of the Board', 'yearBorn': 1964, 'fiscalYear': 2024, 'totalPay': 6062051, 'exercisedValue': 0, 'unexercisedValue': 22921152}, {'maxAge': 1, 'name': 'Mr. Andre  Schulten', 'age': 52, 'title': 'Chief Financial Officer', 'yearBorn': 1971, 'fiscalYear': 2024, 'totalPay': 2557381, 'exercisedValue': 2746136, 'unexercisedValue': 5133625}, {'maxAge': 1, 'name': 'Mr. Shailesh G. Jejurikar', 'age': 56, 'title': 'Chief Operating Officer', 'yearBorn': 1967, 'fiscalYear': 2024, 'totalPay': 3050495, 'exercisedValue': 9075746, 'unexercisedValue': 25717504}, {'maxAge': 1, 'name': 'Ms. R. Alexandra Keith', 'age': 55, 'title': 'Chief Executive Officer of Beauty & Executive Sponsor of Corporate Sustainability', 'yearBorn': 1968, 'fiscalYear': 2024, 'totalPay': 2762777, 'exercisedValue': 1079782, 'unexercisedValue': 3774624}, {'maxAge': 1, 'name': 'Ms. Ma. Fatima de Vera Francisco', 'age': 54, 'title': 'Chief Executive Officer of Baby, Feminine & Family Care', 'yearBorn': 1969, 'fiscalYear': 2024, 'totalPay': 2577963, 'exercisedValue': 13347673, 'unexercisedValue': 13487728}, {'maxAge': 1, 'name': 'Mr. Matthew W. Janzaruk', 'age': 49, 'title': 'Senior VP & Chief Accounting Officer', 'yearBorn': 1974, 'fiscalYear': 2024, 'exercisedValue': 0, 'unexercisedValue': 0}, {'maxAge': 1, 'name': 'Mr. John T. Chevalier', 'title': 'Senior Vice President of Investor Relations', 'fiscalYear': 2024, 'exercisedValue': 0, 'unexercisedValue': 0}, {'maxAge': 1, 'name': 'Ms. Susan Street Whaley', 'age': 49, 'title': 'Chief Legal Officer & Secretary', 'yearBorn': 1974, 'fiscalYear': 2024, 'exercisedValue': 0, 'unexercisedValue': 0}, {'maxAge': 1, 'name': 'Mr. Ken  Patel', 'title': 'Chief Ethics & Compliance Officer and Chief Patent Counsel', 'fiscalYear': 2024, 'exercisedValue': 0, 'unexercisedValue': 0}, {'maxAge': 1, 'name': 'Mr. Damon D. Jones', 'age': 47, 'title': 'Chief Communications Officer', 'yearBorn': 1976, 'fiscalYear': 2024, 'exercisedValue': 0, 'unexercisedValue': 0}], 'auditRisk': 9, 'boardRisk': 7, 'compensationRisk': 1, 'shareHolderRightsRisk': 5, 'overallRisk': 4, 'governanceEpochDate': 1725148800, 'compensationAsOfEpochDate': 1735603200, 'irWebsite': 'http://www.pg.com/en_US/investors/index.shtml', 'maxAge': 86400, 'priceHint': 2, 'previousClose': 175.47, 'open': 175.76, 'dayLow': 175.57, 'dayHigh': 177.04, 'regularMarketPreviousClose': 175.47, 'regularMarketOpen': 175.76, 'regularMarketDayLow': 175.57, 'regularMarketDayHigh': 177.04, 'dividendRate': 4.03, 'dividendYield': 0.0229, 'exDividendDate': 1721347200, 'payoutRatio': 0.636, 'fiveYearAvgDividendYield': 2.41, 'beta': 0.407, 'trailingPE': 29.269102, 'forwardPE': 23.682795, 'volume': 3077534, 'regularMarketVolume': 3077534, 'averageVolume': 6562943, 'averageVolume10days': 6083740, 'averageDailyVolume10Day': 6083740, 'bid': 176.43, 'ask': 176.45, 'bidSize': 800, 'askSize': 1100, 'marketCap': 414018895872, 'fiftyTwoWeekLow': 141.45, 'fiftyTwoWeekHigh': 177.04, 'priceToSalesTrailing12Months': 4.926509, 'fiftyDayAverage': 168.0182, 'twoHundredDayAverage': 160.2931, 'trailingAnnualDividendRate': 3.829, 'trailingAnnualDividendYield': 0.021821395, 'currency': 'USD', 'enterpriseValue': 438378332160, 'profitMargins': 0.17705, 'floatShares': 2350566992, 'sharesOutstanding': 2349710080, 'sharesShort': 21840552, 'sharesShortPriorMonth': 19060802, 'sharesShortPreviousMonthDate': 1721001600, 'dateShortInterest': 1723680000, 'sharesPercentSharesOut': 0.0093, 'heldPercentInsiders': 0.0005, 'heldPercentInstitutions': 0.69435, 'shortRatio': 2.86, 'shortPercentOfFloat': 0.0093, 'impliedSharesOutstanding': 2354050048, 'bookValue': 20.996, 'priceToBook': 8.392075, 'lastFiscalYearEnd': 1719705600, 'nextFiscalYearEnd': 1751241600, 'mostRecentQuarter': 1719705600, 'earningsQuarterlyGrowth': -0.073, 'netIncomeToCommon': 14595000320, 'trailingEps': 6.02, 'forwardEps': 7.44, 'pegRatio': 3.72, 'lastSplitFactor': '2:1', 'lastSplitDate': 1087776000, 'enterpriseToRevenue': 5.216, 'enterpriseToEbitda': 18.385, '52WeekChange': 0.14738774, 'SandP52WeekChange': 0.23464322, 'lastDividendValue': 1.007, 'lastDividendDate': 1721347200, 'exchange': 'NYQ', 'quoteType': 'EQUITY', 'symbol': 'PG', 'underlyingSymbol': 'PG', 'shortName': 'Procter & Gamble Company (The)', 'longName': 'The Procter & Gamble Company', 'firstTradeDateEpochUtc': -252322200, 'timeZoneFullName': 'America/New_York', 'timeZoneShortName': 'EDT', 'uuid': '49f38fe0-3598-34d6-bf4a-0a8791c9c8b9', 'messageBoardId': 'finmb_33328', 'gmtOffSetMilliseconds': -14400000, 'currentPrice': 176.2, 'targetHighPrice': 190.0, 'targetLowPrice': 161.0, 'targetMeanPrice': 175.92, 'targetMedianPrice': 175.0, 'recommendationMean': 2.1, 'recommendationKey': 'buy', 'numberOfAnalystOpinions': 25, 'totalCash': 9482000384, 'totalCashPerShare': 4.028, 'ebitda': 23843999744, 'totalDebt': 33724999680, 'quickRatio': 0.464, 'currentRatio': 0.735, 'totalRevenue': 84039000064, 'debtToEquity': 66.706, 'revenuePerShare': 35.608, 'returnOnAssets': 0.10767, 'returnOnEquity': 0.30677, 'freeCashflow': 13313375232, 'operatingCashflow': 19846000640, 'earningsGrowth': -0.071, 'revenueGrowth': -0.001, 'grossMargins': 0.51689, 'ebitdaMargins': 0.28373, 'operatingMargins': 0.21395999, 'financialCurrency': 'USD', 'trailingPegRatio': 3.5903}\n",
      "Data for GLD: {'longBusinessSummary': 'The Trust holds gold bars and from time to time, issues Baskets in exchange for deposits of gold and distributes gold in connection with redemptions of Baskets. The investment objective of the Trust is for the Shares to reflect the performance of the price of gold bullion, less the Trust’s expenses. The Sponsor believes that, for many investors, the Shares represent a cost-effective investment in gold.', 'maxAge': 86400, 'priceHint': 2, 'previousClose': 232.35, 'open': 231.83, 'dayLow': 229.63, 'dayHigh': 232.745, 'regularMarketPreviousClose': 232.35, 'regularMarketOpen': 231.83, 'regularMarketDayLow': 229.63, 'regularMarketDayHigh': 232.745, 'volume': 5457903, 'regularMarketVolume': 5457903, 'averageVolume': 6162317, 'averageVolume10days': 4517510, 'averageDailyVolume10Day': 4517510, 'bid': 230.33, 'ask': 230.35, 'bidSize': 1400, 'askSize': 1400, 'totalAssets': 69692620800, 'fiftyTwoWeekLow': 168.3, 'fiftyTwoWeekHigh': 234.01, 'fiftyDayAverage': 225.0932, 'twoHundredDayAverage': 207.11015, 'navPrice': 231.94225, 'currency': 'USD', 'category': 'Commodities Focused', 'ytdReturn': 0.21541041, 'beta3Year': 0.11, 'fundFamily': 'SPDR State Street Global Advisors', 'fundInceptionDate': 1100736000, 'legalType': 'Exchange Traded Fund', 'threeYearAverageReturn': 0.1074685, 'fiveYearAverageReturn': 0.1017329, 'exchange': 'PCX', 'quoteType': 'ETF', 'symbol': 'GLD', 'underlyingSymbol': 'GLD', 'shortName': 'SPDR Gold Trust', 'longName': 'SPDR Gold Shares', 'firstTradeDateEpochUtc': 1100788200, 'timeZoneFullName': 'America/New_York', 'timeZoneShortName': 'EDT', 'uuid': 'b8aa1c71-9a1e-30a9-98e6-c05878a4fef3', 'messageBoardId': 'finmb_5600649', 'gmtOffSetMilliseconds': -14400000, 'trailingPegRatio': None}\n",
      "Data for TLT: {'phone': '1-800-474-2737', 'longBusinessSummary': 'The fund will invest at least 80% of its assets in the component securities of the underlying index, and it will invest at least 90% of its assets in U.S. Treasury securities that the advisor believes will help the fund track the underlying index. The underlying index measures the performance of public obligations of the U.S. Treasury that have a remaining maturity greater than or equal to twenty years.', 'maxAge': 86400, 'priceHint': 2, 'previousClose': 99.57, 'open': 99.55, 'dayLow': 99.1901, 'dayHigh': 100.78, 'regularMarketPreviousClose': 99.57, 'regularMarketOpen': 99.55, 'regularMarketDayLow': 99.1901, 'regularMarketDayHigh': 100.78, 'forwardPE': -4981.0005, 'volume': 47473645, 'regularMarketVolume': 47473645, 'averageVolume': 36046857, 'averageVolume10days': 30035250, 'averageDailyVolume10Day': 30035250, 'bid': 99.61, 'ask': 99.63, 'bidSize': 1500, 'askSize': 300, 'yield': 0.0372, 'totalAssets': 62029885440, 'fiftyTwoWeekLow': 82.42, 'fiftyTwoWeekHigh': 100.78, 'fiftyDayAverage': 95.2636, 'twoHundredDayAverage': 93.7943, 'trailingAnnualDividendRate': 2.152, 'trailingAnnualDividendYield': 0.021612935, 'navPrice': 99.51859, 'currency': 'USD', 'category': 'Long Government', 'ytdReturn': 0.0337059, 'beta3Year': 2.12, 'fundFamily': 'iShares', 'fundInceptionDate': 1027296000, 'legalType': 'Exchange Traded Fund', 'threeYearAverageReturn': -0.0979415, 'fiveYearAverageReturn': -0.0495152, 'exchange': 'NGM', 'quoteType': 'ETF', 'symbol': 'TLT', 'underlyingSymbol': 'TLT', 'shortName': 'iShares 20+ Year Treasury Bond ', 'longName': 'iShares 20+ Year Treasury Bond ETF', 'firstTradeDateEpochUtc': 1028035800, 'timeZoneFullName': 'America/New_York', 'timeZoneShortName': 'EDT', 'uuid': 'f613eb1c-3d8f-3b08-afb9-72fd728b533a', 'messageBoardId': 'finmb_8797414', 'gmtOffSetMilliseconds': -14400000, 'trailingPegRatio': None}\n"
     ]
    }
   ],
   "source": [
    "\n",
    "offensive = ['AAPL', 'GOOGL']  \n",
    "defensive = ['JNJ', 'PG']      \n",
    "protective = ['GLD', 'TLT']    \n",
    "\n",
    "fetcher = AssetDataFetcher(offensive, defensive, protective)\n",
    "fetcher.fetch_data()\n",
    "data = fetcher.get_data()"
   ]
  },
  {
   "cell_type": "code",
   "execution_count": 7,
   "id": "109321f1-509e-40bf-8617-6f9951bdc99a",
   "metadata": {},
   "outputs": [
    {
     "data": {
      "text/html": [
       "<div>\n",
       "<style scoped>\n",
       "    .dataframe tbody tr th:only-of-type {\n",
       "        vertical-align: middle;\n",
       "    }\n",
       "\n",
       "    .dataframe tbody tr th {\n",
       "        vertical-align: top;\n",
       "    }\n",
       "\n",
       "    .dataframe thead th {\n",
       "        text-align: right;\n",
       "    }\n",
       "</style>\n",
       "<table border=\"1\" class=\"dataframe\">\n",
       "  <thead>\n",
       "    <tr style=\"text-align: right;\">\n",
       "      <th></th>\n",
       "      <th>P/E Ratio</th>\n",
       "      <th>P/BV Ratio</th>\n",
       "      <th>P/S Ratio</th>\n",
       "      <th>Value/EBIT Ratio</th>\n",
       "      <th>Value/EBITDA Ratio</th>\n",
       "      <th>Value/Sales Ratio</th>\n",
       "      <th>Value/Book Capital Ratio</th>\n",
       "    </tr>\n",
       "  </thead>\n",
       "  <tbody>\n",
       "    <tr>\n",
       "      <th>AAPL</th>\n",
       "      <td>33.684452</td>\n",
       "      <td>50.426746</td>\n",
       "      <td>8.712717</td>\n",
       "      <td>N/A</td>\n",
       "      <td>25.956694</td>\n",
       "      <td>8.870779</td>\n",
       "      <td>N/A</td>\n",
       "    </tr>\n",
       "    <tr>\n",
       "      <th>GOOGL</th>\n",
       "      <td>21.780489</td>\n",
       "      <td>6.219682</td>\n",
       "      <td>5.714078</td>\n",
       "      <td>N/A</td>\n",
       "      <td>16.138298</td>\n",
       "      <td>5.676848</td>\n",
       "      <td>N/A</td>\n",
       "    </tr>\n",
       "    <tr>\n",
       "      <th>JNJ</th>\n",
       "      <td>24.842146</td>\n",
       "      <td>5.532921</td>\n",
       "      <td>4.572661</td>\n",
       "      <td>N/A</td>\n",
       "      <td>13.312728</td>\n",
       "      <td>4.772537</td>\n",
       "      <td>N/A</td>\n",
       "    </tr>\n",
       "    <tr>\n",
       "      <th>PG</th>\n",
       "      <td>29.269102</td>\n",
       "      <td>8.392075</td>\n",
       "      <td>4.926509</td>\n",
       "      <td>N/A</td>\n",
       "      <td>18.385268</td>\n",
       "      <td>5.216368</td>\n",
       "      <td>N/A</td>\n",
       "    </tr>\n",
       "    <tr>\n",
       "      <th>GLD</th>\n",
       "      <td>None</td>\n",
       "      <td>None</td>\n",
       "      <td>None</td>\n",
       "      <td>N/A</td>\n",
       "      <td>N/A</td>\n",
       "      <td>N/A</td>\n",
       "      <td>N/A</td>\n",
       "    </tr>\n",
       "    <tr>\n",
       "      <th>TLT</th>\n",
       "      <td>None</td>\n",
       "      <td>None</td>\n",
       "      <td>None</td>\n",
       "      <td>N/A</td>\n",
       "      <td>N/A</td>\n",
       "      <td>N/A</td>\n",
       "      <td>N/A</td>\n",
       "    </tr>\n",
       "  </tbody>\n",
       "</table>\n",
       "</div>"
      ],
      "text/plain": [
       "       P/E Ratio P/BV Ratio P/S Ratio Value/EBIT Ratio Value/EBITDA Ratio  \\\n",
       "AAPL   33.684452  50.426746  8.712717              N/A          25.956694   \n",
       "GOOGL  21.780489   6.219682  5.714078              N/A          16.138298   \n",
       "JNJ    24.842146   5.532921  4.572661              N/A          13.312728   \n",
       "PG     29.269102   8.392075  4.926509              N/A          18.385268   \n",
       "GLD         None       None      None              N/A                N/A   \n",
       "TLT         None       None      None              N/A                N/A   \n",
       "\n",
       "      Value/Sales Ratio Value/Book Capital Ratio  \n",
       "AAPL           8.870779                      N/A  \n",
       "GOOGL          5.676848                      N/A  \n",
       "JNJ            4.772537                      N/A  \n",
       "PG             5.216368                      N/A  \n",
       "GLD                 N/A                      N/A  \n",
       "TLT                 N/A                      N/A  "
      ]
     },
     "execution_count": 7,
     "metadata": {},
     "output_type": "execute_result"
    }
   ],
   "source": [
    "data"
   ]
  },
  {
   "cell_type": "code",
   "execution_count": null,
   "id": "e0807b01-6430-4db9-966d-5bcf30f111ca",
   "metadata": {},
   "outputs": [],
   "source": []
  }
 ],
 "metadata": {
  "kernelspec": {
   "display_name": "Python 3 (ipykernel)",
   "language": "python",
   "name": "python3"
  },
  "language_info": {
   "codemirror_mode": {
    "name": "ipython",
    "version": 3
   },
   "file_extension": ".py",
   "mimetype": "text/x-python",
   "name": "python",
   "nbconvert_exporter": "python",
   "pygments_lexer": "ipython3",
   "version": "3.12.4"
  }
 },
 "nbformat": 4,
 "nbformat_minor": 5
}

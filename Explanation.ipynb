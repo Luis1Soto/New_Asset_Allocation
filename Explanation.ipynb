{
 "cells": [
  {
   "cell_type": "markdown",
   "id": "daafd4aa-bfe8-445b-aad1-1abc856e70b4",
   "metadata": {},
   "source": [
    "# Bold Asset Allocation"
   ]
  },
  {
   "cell_type": "markdown",
   "id": "773f4357-5fef-46c5-b973-1cdb8a54c394",
   "metadata": {},
   "source": [
    "### Introducción"
   ]
  },
  {
   "cell_type": "markdown",
   "id": "d3b5ea09-1f77-4a5e-920b-3d06e2c631f3",
   "metadata": {},
   "source": [
    "La estrategia **Quantum Bold Asset Allocation (QBAA)** tiene como objetivo desarrollar un modelo de asignación de activos que mejore el Bold Asset Allocation previamente propuesto por Wouter J. Keller en su paper: Relative and Absolute Momentum in Times of Rising/Low Yields: Bold Asset Allocation. Tomando en cuenta distintas métricas para la evaluació y seleccion de activos.,"
   ]
  },
  {
   "cell_type": "markdown",
   "id": "b7d3b24b-a387-40de-867b-c0f173d9e225",
   "metadata": {},
   "source": [
    "Bold Asset Allocation (BAA) considera tres universos de activos: \n",
    "* Ofensivo: El universo ofensivo está compuesto por activos de mayor riesgo y mayor potencial de retorno.\n",
    "* Defensivo: El universo defensivo está compuesto por activos más seguros que tienden a preservar el capital en lugar de buscar altos rendimientos.\n",
    "* Canario: El universo canario actúa como un indicador de las condiciones generales del mercado. Su función es evaluar si el entorno es lo suficientemente favorable para invertir en activos de riesgo (ofensivos) o si es mejor adoptar una postura más conservadora (defensiva). \n",
    "\n",
    "Se utiliza el Piotroski F-score para evaluar a los activos, adicional a esto, se aplica una media armonica a los ratios de la ventana de tiempo que se desea.\n",
    "\n"
   ]
  },
  {
   "cell_type": "code",
   "execution_count": null,
   "id": "168f9eaa-68fb-4ea5-968b-8ac355a36972",
   "metadata": {},
   "outputs": [],
   "source": []
  },
  {
   "cell_type": "markdown",
   "id": "da94737f-78be-4a8e-866e-25b323a4ef55",
   "metadata": {},
   "source": [
    "### Ciclo de Rebalanceo\n",
    "La estrategia se implementa de manera dinámica, rebalanceando el portafolio de manera semestral para asegurarse de que los activos seleccionados y sus respectivas ponderaciones sigan alineados con las condiciones de mercado. Este proceso de rebalanceo permite capturar nuevas oportunidades de crecimiento y ajustar el riesgo a medida que cambian los precios y las correlaciones entre activos."
   ]
  },
  {
   "cell_type": "markdown",
   "id": "12b01ca6-c067-49b7-9e12-40fe13e271c4",
   "metadata": {},
   "source": [
    "## Clases:\n",
    "Este código se compone de tres clases principales: **Load**, **TestStrategy** y **DynamicBacktesting**, cada una encargada de diferentes aspectos del manejo y procesamiento de datos financieros, momentum y fundamentales."
   ]
  },
  {
   "cell_type": "markdown",
   "id": "bc5868cb-644a-403f-a4a6-4beb12480c4f",
   "metadata": {},
   "source": [
    "### 1. Clase `Load`\n",
    "\n",
    "### Propósito:\n",
    "La clase `Load` se encarga de cargar y preparar los datos necesarios para el análisis y la implementación de la estrategia de inversión. Esta clase facilita la obtención y manipulación de datos financieros.\n",
    "\n",
    "### Componentes clave:\n",
    "- **Variables:**\n",
    "  - `tickers`: Lista de símbolos de acciones o activos que se desean analizar.\n",
    "  - `data`: Un DataFrame que almacena los datos financieros descargados.\n",
    "\n",
    "- **Métodos:**\n",
    "  - `__init__`: Inicializa la clase y puede recibir los tickers a cargar.\n",
    "  - `load_data`: Método que utiliza la API de FactSet para cargar datos históricos de precios de los activos especificados.\n",
    "  - `calculate_harmonic_mean`: Calcula la media armónica de las métricas financieras de los activos, ponderando los datos más recientes.\n",
    "\n",
    "### Uso:\n",
    "La clase `Load` es esencial para la recopilación y preparación de datos, permitiendo a los usuarios acceder fácilmente a los datos necesarios para las siguientes etapas del análisis.\n"
   ]
  },
  {
   "cell_type": "markdown",
   "id": "116e5b4e-a1b4-41fc-ba1b-7ddd4648b003",
   "metadata": {},
   "source": [
    "### 2. Clase `TestStrategy`\n",
    "\n",
    "### Propósito:\n",
    "La clase `TestStrategy` se encarga de implementar y evaluar la estrategia de inversión basada en ciertos criterios definidos, como Piotroski F-Score.\n",
    "\n",
    "### Componentes clave:\n",
    "- **Variables:**\n",
    "  - `data`: Datos de precios y señales de compra/venta.\n",
    "  - `indicators`: Lista de indicadores técnicos que se utilizarán para tomar decisiones de trading.\n",
    "\n",
    "- **Métodos:**\n",
    "  - `__init__`: Inicializa la clase y recibe los datos y parámetros de la estrategia.\n",
    "  - `generate_signals`: Genera señales de compra y venta basadas en los indicadores seleccionados.\n",
    "  - `apply_strategy`: Aplica la estrategia de inversión a los datos y evalúa su desempeño.\n",
    "\n",
    "### Uso:\n",
    "La clase `TestStrategy` permite a los usuarios definir y probar diversas estrategias de trading, evaluando su eficacia y tomando decisiones informadas sobre inversiones."
   ]
  },
  {
   "cell_type": "markdown",
   "id": "9e35949d-2c73-4063-91ea-34fb789c0934",
   "metadata": {},
   "source": [
    "### 3. Clase `DynamicBacktesting`\n",
    "\n",
    "### Propósito:\n",
    "La clase `DynamicBacktesting` se utiliza para realizar pruebas retrospectivas (backtesting) de la estrategia de inversión a lo largo del tiempo, permitiendo la evaluación del rendimiento y la optimización de la estrategia en condiciones de mercado cambiantes.\n",
    "\n",
    "### Componentes clave:\n",
    "- **Variables:**\n",
    "  - `strategy`: Instancia de la clase `TestStrategy` que contiene la estrategia que se va a evaluar.\n",
    "  - `initial_capital`: Capital inicial a invertir en la estrategia.\n",
    "\n",
    "- **Métodos:**\n",
    "  - `__init__`: Inicializa la clase y recibe la estrategia y el capital inicial.\n",
    "  - `run_backtest`: Ejecuta el backtest, aplicando la estrategia a los datos históricos y registrando el rendimiento a lo largo del tiempo.\n",
    "  - `evaluate_performance`: Calcula y devuelve métricas de rendimiento como el retorno total, la volatilidad, y otros ratios de desempeño.\n",
    "\n",
    "### Uso:\n",
    "La clase `DynamicBacktesting` es fundamental para validar la efectividad de la estrategia en escenarios históricos, permitiendo a los usuarios entender cómo habría funcionado su estrategia en el pasado y ajustarla según sea necesario."
   ]
  },
  {
   "cell_type": "markdown",
   "id": "c376f27f-b1f0-4bd2-ae0f-094a6bdb9fe3",
   "metadata": {},
   "source": [
    "---"
   ]
  },
  {
   "cell_type": "code",
   "execution_count": null,
   "id": "cd8a60ff-162d-4ae7-8ecb-409c916f3f9d",
   "metadata": {},
   "outputs": [],
   "source": []
  }
 ],
 "metadata": {
  "kernelspec": {
   "display_name": "Python 3 (ipykernel)",
   "language": "python",
   "name": "python3"
  },
  "language_info": {
   "codemirror_mode": {
    "name": "ipython",
    "version": 3
   },
   "file_extension": ".py",
   "mimetype": "text/x-python",
   "name": "python",
   "nbconvert_exporter": "python",
   "pygments_lexer": "ipython3",
   "version": "3.11.7"
  }
 },
 "nbformat": 4,
 "nbformat_minor": 5
}

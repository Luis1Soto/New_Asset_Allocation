{
 "cells": [
  {
   "cell_type": "code",
   "execution_count": 14,
   "id": "5b8ac54c-28b3-49ff-813f-3faa6eae2c21",
   "metadata": {},
   "outputs": [],
   "source": [
    "from Functionscopy import LoadData\n",
    "from Functionscopy import TestStrategy\n",
    "from Functionscopy import Backtesting\n",
    "import os\n",
    "import quantstats as qs\n",
    "import pandas as pd\n",
    "import yfinance as yf"
   ]
  },
  {
   "cell_type": "code",
   "execution_count": 15,
   "id": "6ede3ea4-16ce-481a-83df-18598b618afa",
   "metadata": {},
   "outputs": [
    {
     "name": "stdout",
     "output_type": "stream",
     "text": [
      "Data processed for the following tickers: AAPL, ADM, AMD, CAT, CVX, DUK, GE, GOOGL, GS, HD, JNJ, JPM, KO, META, MSFT, NFLX, NVDA, PLD, SO, T, TRYIY, TSLA, V, VMC, VZ, XOM\n",
      "Downloading data for AAPL...\n"
     ]
    },
    {
     "name": "stderr",
     "output_type": "stream",
     "text": [
      "[*********************100%***********************]  1 of 1 completed\n"
     ]
    },
    {
     "name": "stdout",
     "output_type": "stream",
     "text": [
      "Downloading data for ADM...\n"
     ]
    },
    {
     "name": "stderr",
     "output_type": "stream",
     "text": [
      "[*********************100%***********************]  1 of 1 completed\n"
     ]
    },
    {
     "name": "stdout",
     "output_type": "stream",
     "text": [
      "Downloading data for AMD...\n"
     ]
    },
    {
     "name": "stderr",
     "output_type": "stream",
     "text": [
      "[*********************100%***********************]  1 of 1 completed\n"
     ]
    },
    {
     "name": "stdout",
     "output_type": "stream",
     "text": [
      "Downloading data for CAT...\n"
     ]
    },
    {
     "name": "stderr",
     "output_type": "stream",
     "text": [
      "[*********************100%***********************]  1 of 1 completed\n"
     ]
    },
    {
     "name": "stdout",
     "output_type": "stream",
     "text": [
      "Downloading data for CVX...\n"
     ]
    },
    {
     "name": "stderr",
     "output_type": "stream",
     "text": [
      "[*********************100%***********************]  1 of 1 completed\n"
     ]
    },
    {
     "name": "stdout",
     "output_type": "stream",
     "text": [
      "Downloading data for DUK...\n"
     ]
    },
    {
     "name": "stderr",
     "output_type": "stream",
     "text": [
      "[*********************100%***********************]  1 of 1 completed\n"
     ]
    },
    {
     "name": "stdout",
     "output_type": "stream",
     "text": [
      "Downloading data for GE...\n"
     ]
    },
    {
     "name": "stderr",
     "output_type": "stream",
     "text": [
      "[*********************100%***********************]  1 of 1 completed\n",
      "[*********************100%***********************]  1 of 1 completed"
     ]
    },
    {
     "name": "stdout",
     "output_type": "stream",
     "text": [
      "Downloading data for GOOGL...\n"
     ]
    },
    {
     "name": "stderr",
     "output_type": "stream",
     "text": [
      "\n"
     ]
    },
    {
     "name": "stdout",
     "output_type": "stream",
     "text": [
      "Downloading data for GS...\n"
     ]
    },
    {
     "name": "stderr",
     "output_type": "stream",
     "text": [
      "[*********************100%***********************]  1 of 1 completed\n"
     ]
    },
    {
     "name": "stdout",
     "output_type": "stream",
     "text": [
      "Downloading data for HD...\n"
     ]
    },
    {
     "name": "stderr",
     "output_type": "stream",
     "text": [
      "[*********************100%***********************]  1 of 1 completed\n"
     ]
    },
    {
     "name": "stdout",
     "output_type": "stream",
     "text": [
      "Downloading data for JNJ...\n"
     ]
    },
    {
     "name": "stderr",
     "output_type": "stream",
     "text": [
      "[*********************100%***********************]  1 of 1 completed\n"
     ]
    },
    {
     "name": "stdout",
     "output_type": "stream",
     "text": [
      "Downloading data for JPM...\n"
     ]
    },
    {
     "name": "stderr",
     "output_type": "stream",
     "text": [
      "[*********************100%***********************]  1 of 1 completed\n"
     ]
    },
    {
     "name": "stdout",
     "output_type": "stream",
     "text": [
      "Downloading data for KO...\n"
     ]
    },
    {
     "name": "stderr",
     "output_type": "stream",
     "text": [
      "[*********************100%***********************]  1 of 1 completed\n"
     ]
    },
    {
     "name": "stdout",
     "output_type": "stream",
     "text": [
      "Downloading data for META...\n"
     ]
    },
    {
     "name": "stderr",
     "output_type": "stream",
     "text": [
      "[*********************100%***********************]  1 of 1 completed\n"
     ]
    },
    {
     "name": "stdout",
     "output_type": "stream",
     "text": [
      "Downloading data for MSFT...\n"
     ]
    },
    {
     "name": "stderr",
     "output_type": "stream",
     "text": [
      "[*********************100%***********************]  1 of 1 completed\n"
     ]
    },
    {
     "name": "stdout",
     "output_type": "stream",
     "text": [
      "Downloading data for NFLX...\n"
     ]
    },
    {
     "name": "stderr",
     "output_type": "stream",
     "text": [
      "[*********************100%***********************]  1 of 1 completed\n"
     ]
    },
    {
     "name": "stdout",
     "output_type": "stream",
     "text": [
      "Downloading data for NVDA...\n"
     ]
    },
    {
     "name": "stderr",
     "output_type": "stream",
     "text": [
      "[*********************100%***********************]  1 of 1 completed\n"
     ]
    },
    {
     "name": "stdout",
     "output_type": "stream",
     "text": [
      "Downloading data for PLD...\n"
     ]
    },
    {
     "name": "stderr",
     "output_type": "stream",
     "text": [
      "[*********************100%***********************]  1 of 1 completed\n"
     ]
    },
    {
     "name": "stdout",
     "output_type": "stream",
     "text": [
      "Downloading data for SO...\n"
     ]
    },
    {
     "name": "stderr",
     "output_type": "stream",
     "text": [
      "[*********************100%***********************]  1 of 1 completed\n"
     ]
    },
    {
     "name": "stdout",
     "output_type": "stream",
     "text": [
      "Downloading data for T...\n"
     ]
    },
    {
     "name": "stderr",
     "output_type": "stream",
     "text": [
      "[*********************100%***********************]  1 of 1 completed\n"
     ]
    },
    {
     "name": "stdout",
     "output_type": "stream",
     "text": [
      "Downloading data for TRYIY...\n"
     ]
    },
    {
     "name": "stderr",
     "output_type": "stream",
     "text": [
      "[*********************100%***********************]  1 of 1 completed\n"
     ]
    },
    {
     "name": "stdout",
     "output_type": "stream",
     "text": [
      "Downloading data for TSLA...\n"
     ]
    },
    {
     "name": "stderr",
     "output_type": "stream",
     "text": [
      "[*********************100%***********************]  1 of 1 completed\n"
     ]
    },
    {
     "name": "stdout",
     "output_type": "stream",
     "text": [
      "Downloading data for V...\n"
     ]
    },
    {
     "name": "stderr",
     "output_type": "stream",
     "text": [
      "[*********************100%***********************]  1 of 1 completed\n"
     ]
    },
    {
     "name": "stdout",
     "output_type": "stream",
     "text": [
      "Downloading data for VMC...\n"
     ]
    },
    {
     "name": "stderr",
     "output_type": "stream",
     "text": [
      "[*********************100%***********************]  1 of 1 completed\n"
     ]
    },
    {
     "name": "stdout",
     "output_type": "stream",
     "text": [
      "Downloading data for VZ...\n"
     ]
    },
    {
     "name": "stderr",
     "output_type": "stream",
     "text": [
      "[*********************100%***********************]  1 of 1 completed\n"
     ]
    },
    {
     "name": "stdout",
     "output_type": "stream",
     "text": [
      "Downloading data for XOM...\n"
     ]
    },
    {
     "name": "stderr",
     "output_type": "stream",
     "text": [
      "[*********************100%***********************]  1 of 1 completed\n"
     ]
    }
   ],
   "source": [
    "current_directory = os.getcwd()\n",
    "path = os.path.join(current_directory, 'Stocks_financials')\n",
    "\n",
    "loader = LoadData(path)\n",
    "prices, financials = loader.Load(start_date='2014-09-01', end_date=None)"
   ]
  },
  {
   "cell_type": "code",
   "execution_count": 16,
   "id": "1b811cfd-4e72-4f23-a2c0-66e18da4aaa9",
   "metadata": {},
   "outputs": [
    {
     "name": "stdout",
     "output_type": "stream",
     "text": [
      "Las columnas no son iguales para V.\n",
      "Las columnas no son iguales entre todos los tickers.\n"
     ]
    }
   ],
   "source": [
    "stocks = ['MSFT', 'V', 'NFLX', 'SO', 'DUK', 'PLD', 'VZ', 'T', 'CVX', 'VMC', 'NVDA', 'GE', 'KO', 'JNJ', 'GS', 'HD', 'AMD', 'ADM', 'META', 'GOOGL', 'TSLA', 'JPM', 'XOM', 'AAPL']\n",
    "column_name = \"Financial Ratio\" \n",
    "reference_column = list(financials[stocks[0]][column_name])\n",
    "\n",
    "all_equal = True\n",
    "\n",
    "for stock in stocks[1:]:\n",
    "    current_column = list(financials[stock][column_name])\n",
    "    \n",
    "    if current_column != reference_column:\n",
    "        all_equal = False\n",
    "        print(f\"Las columnas no son iguales para {stock}.\")\n",
    "        break\n",
    "\n",
    "if all_equal:\n",
    "    print(\"La columna es igual para todos los tickers.\")\n",
    "else:\n",
    "    print(\"Las columnas no son iguales entre todos los tickers.\")"
   ]
  },
  {
   "cell_type": "code",
   "execution_count": 17,
   "id": "7cdccdee-4bef-43db-bd72-137eba6adef9",
   "metadata": {},
   "outputs": [],
   "source": [
    "offensive_tickers = [\"MSFT\", \"AAPL\", \"GOOGL\", 'V', 'NFLX', 'SO', 'DUK', 'VZ', 'T', 'CVX', 'VMC', 'NVDA', 'GE', 'KO', 'JNJ', 'HD', 'AMD', 'ADM', 'META', 'TSLA', 'XOM']   \n",
    "defensive_tickers = ['JNJ', 'PG','TLT','GLD','WMT','BIL']     \n",
    "protective_tickers = ['MSFT', 'V', 'NFLX', 'SO', 'DUK', 'PLD', 'VZ', 'T', 'CVX', 'VMC', 'NVDA', 'GE',\n",
    "                      'KO', 'JNJ', 'GS', 'HD', 'AMD', 'ADM', 'META', 'GOOGL', 'TSLA', 'JPM', 'XOM', 'AAPL']   "
   ]
  },
  {
   "cell_type": "code",
   "execution_count": 18,
   "id": "3c323112-c184-46ca-bc7c-e1e0c98b54c3",
   "metadata": {},
   "outputs": [
    {
     "data": {
      "text/html": [
       "<div>\n",
       "<style scoped>\n",
       "    .dataframe tbody tr th:only-of-type {\n",
       "        vertical-align: middle;\n",
       "    }\n",
       "\n",
       "    .dataframe tbody tr th {\n",
       "        vertical-align: top;\n",
       "    }\n",
       "\n",
       "    .dataframe thead th {\n",
       "        text-align: right;\n",
       "    }\n",
       "</style>\n",
       "<table border=\"1\" class=\"dataframe\">\n",
       "  <thead>\n",
       "    <tr style=\"text-align: right;\">\n",
       "      <th></th>\n",
       "      <th>Financial Ratio</th>\n",
       "      <th>2024-07</th>\n",
       "      <th>2024-04</th>\n",
       "      <th>2024-01</th>\n",
       "      <th>2023-10</th>\n",
       "      <th>2023-07</th>\n",
       "      <th>2023-04</th>\n",
       "      <th>2023-01</th>\n",
       "      <th>2022-10</th>\n",
       "      <th>2022-07</th>\n",
       "      <th>...</th>\n",
       "      <th>2002-07</th>\n",
       "      <th>2002-04</th>\n",
       "      <th>2002-01</th>\n",
       "      <th>2001-10</th>\n",
       "      <th>2001-07</th>\n",
       "      <th>2001-04</th>\n",
       "      <th>2001-01</th>\n",
       "      <th>2000-10</th>\n",
       "      <th>2000-07</th>\n",
       "      <th>2000-04</th>\n",
       "    </tr>\n",
       "  </thead>\n",
       "  <tbody>\n",
       "    <tr>\n",
       "      <th>0</th>\n",
       "      <td>Gross Margin</td>\n",
       "      <td>75.976824</td>\n",
       "      <td>75.286434</td>\n",
       "      <td>72.717573</td>\n",
       "      <td>69.852908</td>\n",
       "      <td>64.624705</td>\n",
       "      <td>56.314244</td>\n",
       "      <td>56.928894</td>\n",
       "      <td>57.837989</td>\n",
       "      <td>60.447912</td>\n",
       "      <td>...</td>\n",
       "      <td>34.462089</td>\n",
       "      <td>36.61972</td>\n",
       "      <td>37.280892</td>\n",
       "      <td>37.401918</td>\n",
       "      <td>37.767962</td>\n",
       "      <td>37.530883</td>\n",
       "      <td>37.424109</td>\n",
       "      <td>37.40397</td>\n",
       "      <td>37.479678</td>\n",
       "      <td>37.313539</td>\n",
       "    </tr>\n",
       "    <tr>\n",
       "      <th>1</th>\n",
       "      <td>SG&amp;A to Sales</td>\n",
       "      <td>14.110085</td>\n",
       "      <td>15.442375</td>\n",
       "      <td>18.597551</td>\n",
       "      <td>23.911299</td>\n",
       "      <td>31.584101</td>\n",
       "      <td>38.936548</td>\n",
       "      <td>36.249722</td>\n",
       "      <td>32.31464</td>\n",
       "      <td>28.969668</td>\n",
       "      <td>...</td>\n",
       "      <td>17.601346</td>\n",
       "      <td>17.009029</td>\n",
       "      <td>18.335912</td>\n",
       "      <td>19.828844</td>\n",
       "      <td>20.027486</td>\n",
       "      <td>19.923573</td>\n",
       "      <td>19.703807</td>\n",
       "      <td>NaN</td>\n",
       "      <td>NaN</td>\n",
       "      <td>NaN</td>\n",
       "    </tr>\n",
       "    <tr>\n",
       "      <th>2</th>\n",
       "      <td>Operating Margin</td>\n",
       "      <td>61.866739</td>\n",
       "      <td>59.844059</td>\n",
       "      <td>54.120022</td>\n",
       "      <td>45.941609</td>\n",
       "      <td>33.040605</td>\n",
       "      <td>17.377695</td>\n",
       "      <td>20.679173</td>\n",
       "      <td>25.523349</td>\n",
       "      <td>31.478243</td>\n",
       "      <td>...</td>\n",
       "      <td>16.46803</td>\n",
       "      <td>19.179652</td>\n",
       "      <td>18.406304</td>\n",
       "      <td>17.276373</td>\n",
       "      <td>17.74015</td>\n",
       "      <td>17.606948</td>\n",
       "      <td>17.719894</td>\n",
       "      <td>17.362173</td>\n",
       "      <td>16.631365</td>\n",
       "      <td>15.703033</td>\n",
       "    </tr>\n",
       "    <tr>\n",
       "      <th>3</th>\n",
       "      <td>Pretax Margin</td>\n",
       "      <td>63.464753</td>\n",
       "      <td>61.283125</td>\n",
       "      <td>55.510325</td>\n",
       "      <td>46.804101</td>\n",
       "      <td>33.94021</td>\n",
       "      <td>17.721617</td>\n",
       "      <td>15.503818</td>\n",
       "      <td>20.15683</td>\n",
       "      <td>26.171901</td>\n",
       "      <td>...</td>\n",
       "      <td>15.675576</td>\n",
       "      <td>19.569556</td>\n",
       "      <td>18.470855</td>\n",
       "      <td>17.840132</td>\n",
       "      <td>18.730914</td>\n",
       "      <td>18.970948</td>\n",
       "      <td>19.987923</td>\n",
       "      <td>19.014998</td>\n",
       "      <td>17.819752</td>\n",
       "      <td>16.309268</td>\n",
       "    </tr>\n",
       "    <tr>\n",
       "      <th>4</th>\n",
       "      <td>Net Margin</td>\n",
       "      <td>55.040651</td>\n",
       "      <td>53.397097</td>\n",
       "      <td>48.847707</td>\n",
       "      <td>42.094941</td>\n",
       "      <td>31.59328</td>\n",
       "      <td>18.521524</td>\n",
       "      <td>16.193371</td>\n",
       "      <td>20.853462</td>\n",
       "      <td>26.030668</td>\n",
       "      <td>...</td>\n",
       "      <td>10.972919</td>\n",
       "      <td>13.698666</td>\n",
       "      <td>12.929591</td>\n",
       "      <td>12.40435</td>\n",
       "      <td>12.922228</td>\n",
       "      <td>12.989647</td>\n",
       "      <td>13.591989</td>\n",
       "      <td>12.930112</td>\n",
       "      <td>12.117182</td>\n",
       "      <td>11.090117</td>\n",
       "    </tr>\n",
       "    <tr>\n",
       "      <th>...</th>\n",
       "      <td>...</td>\n",
       "      <td>...</td>\n",
       "      <td>...</td>\n",
       "      <td>...</td>\n",
       "      <td>...</td>\n",
       "      <td>...</td>\n",
       "      <td>...</td>\n",
       "      <td>...</td>\n",
       "      <td>...</td>\n",
       "      <td>...</td>\n",
       "      <td>...</td>\n",
       "      <td>...</td>\n",
       "      <td>...</td>\n",
       "      <td>...</td>\n",
       "      <td>...</td>\n",
       "      <td>...</td>\n",
       "      <td>...</td>\n",
       "      <td>...</td>\n",
       "      <td>...</td>\n",
       "      <td>...</td>\n",
       "      <td>...</td>\n",
       "    </tr>\n",
       "    <tr>\n",
       "      <th>95</th>\n",
       "      <td>Net Debt/Total Equity (%)</td>\n",
       "      <td>-42.617398</td>\n",
       "      <td>-41.107403</td>\n",
       "      <td>-34.73405</td>\n",
       "      <td>-21.806704</td>\n",
       "      <td>-18.432057</td>\n",
       "      <td>-13.213703</td>\n",
       "      <td>-5.723723</td>\n",
       "      <td>-6.534264</td>\n",
       "      <td>-22.409962</td>\n",
       "      <td>...</td>\n",
       "      <td>NaN</td>\n",
       "      <td>NaN</td>\n",
       "      <td>NaN</td>\n",
       "      <td>NaN</td>\n",
       "      <td>NaN</td>\n",
       "      <td>NaN</td>\n",
       "      <td>NaN</td>\n",
       "      <td>NaN</td>\n",
       "      <td>NaN</td>\n",
       "      <td>NaN</td>\n",
       "    </tr>\n",
       "    <tr>\n",
       "      <th>96</th>\n",
       "      <td>Total Debt/Equity (%)</td>\n",
       "      <td>17.220627</td>\n",
       "      <td>22.866387</td>\n",
       "      <td>25.724789</td>\n",
       "      <td>33.148955</td>\n",
       "      <td>39.831279</td>\n",
       "      <td>49.265905</td>\n",
       "      <td>54.436451</td>\n",
       "      <td>55.028339</td>\n",
       "      <td>49.021005</td>\n",
       "      <td>...</td>\n",
       "      <td>35.486321</td>\n",
       "      <td>35.5587</td>\n",
       "      <td>40.553718</td>\n",
       "      <td>50.923136</td>\n",
       "      <td>57.943101</td>\n",
       "      <td>64.912281</td>\n",
       "      <td>74.181813</td>\n",
       "      <td>83.361413</td>\n",
       "      <td>0.861759</td>\n",
       "      <td>1.537126</td>\n",
       "    </tr>\n",
       "    <tr>\n",
       "      <th>97</th>\n",
       "      <td>Net Debt/Total Capital</td>\n",
       "      <td>-36.356569</td>\n",
       "      <td>-33.456997</td>\n",
       "      <td>-27.62705</td>\n",
       "      <td>-16.377675</td>\n",
       "      <td>-13.181641</td>\n",
       "      <td>-8.852459</td>\n",
       "      <td>-3.706199</td>\n",
       "      <td>-4.214884</td>\n",
       "      <td>-15.038123</td>\n",
       "      <td>...</td>\n",
       "      <td>NaN</td>\n",
       "      <td>NaN</td>\n",
       "      <td>NaN</td>\n",
       "      <td>NaN</td>\n",
       "      <td>NaN</td>\n",
       "      <td>NaN</td>\n",
       "      <td>NaN</td>\n",
       "      <td>NaN</td>\n",
       "      <td>NaN</td>\n",
       "      <td>NaN</td>\n",
       "    </tr>\n",
       "    <tr>\n",
       "      <th>98</th>\n",
       "      <td>Total Debt/Total Capital</td>\n",
       "      <td>14.690782</td>\n",
       "      <td>18.610775</td>\n",
       "      <td>20.461191</td>\n",
       "      <td>24.896144</td>\n",
       "      <td>28.485242</td>\n",
       "      <td>33.005464</td>\n",
       "      <td>35.248447</td>\n",
       "      <td>35.495664</td>\n",
       "      <td>32.895366</td>\n",
       "      <td>...</td>\n",
       "      <td>26.191811</td>\n",
       "      <td>26.231219</td>\n",
       "      <td>28.852825</td>\n",
       "      <td>33.741106</td>\n",
       "      <td>36.68606</td>\n",
       "      <td>39.361702</td>\n",
       "      <td>42.588725</td>\n",
       "      <td>45.462898</td>\n",
       "      <td>0.854397</td>\n",
       "      <td>1.513856</td>\n",
       "    </tr>\n",
       "    <tr>\n",
       "      <th>99</th>\n",
       "      <td>All figures in millions of U.S. Dollar except ...</td>\n",
       "      <td>NaN</td>\n",
       "      <td>NaN</td>\n",
       "      <td>NaN</td>\n",
       "      <td>NaN</td>\n",
       "      <td>NaN</td>\n",
       "      <td>NaN</td>\n",
       "      <td>NaN</td>\n",
       "      <td>NaN</td>\n",
       "      <td>NaN</td>\n",
       "      <td>...</td>\n",
       "      <td>NaN</td>\n",
       "      <td>NaN</td>\n",
       "      <td>NaN</td>\n",
       "      <td>NaN</td>\n",
       "      <td>NaN</td>\n",
       "      <td>NaN</td>\n",
       "      <td>NaN</td>\n",
       "      <td>NaN</td>\n",
       "      <td>NaN</td>\n",
       "      <td>NaN</td>\n",
       "    </tr>\n",
       "  </tbody>\n",
       "</table>\n",
       "<p>100 rows × 99 columns</p>\n",
       "</div>"
      ],
      "text/plain": [
       "                                      Financial Ratio    2024-07    2024-04  \\\n",
       "0                                        Gross Margin  75.976824  75.286434   \n",
       "1                                       SG&A to Sales  14.110085  15.442375   \n",
       "2                                    Operating Margin  61.866739  59.844059   \n",
       "3                                       Pretax Margin  63.464753  61.283125   \n",
       "4                                          Net Margin  55.040651  53.397097   \n",
       "..                                                ...        ...        ...   \n",
       "95                          Net Debt/Total Equity (%) -42.617398 -41.107403   \n",
       "96                              Total Debt/Equity (%)  17.220627  22.866387   \n",
       "97                             Net Debt/Total Capital -36.356569 -33.456997   \n",
       "98                           Total Debt/Total Capital  14.690782  18.610775   \n",
       "99  All figures in millions of U.S. Dollar except ...        NaN        NaN   \n",
       "\n",
       "      2024-01    2023-10    2023-07    2023-04    2023-01    2022-10  \\\n",
       "0   72.717573  69.852908  64.624705  56.314244  56.928894  57.837989   \n",
       "1   18.597551  23.911299  31.584101  38.936548  36.249722   32.31464   \n",
       "2   54.120022  45.941609  33.040605  17.377695  20.679173  25.523349   \n",
       "3   55.510325  46.804101   33.94021  17.721617  15.503818   20.15683   \n",
       "4   48.847707  42.094941   31.59328  18.521524  16.193371  20.853462   \n",
       "..        ...        ...        ...        ...        ...        ...   \n",
       "95  -34.73405 -21.806704 -18.432057 -13.213703  -5.723723  -6.534264   \n",
       "96  25.724789  33.148955  39.831279  49.265905  54.436451  55.028339   \n",
       "97  -27.62705 -16.377675 -13.181641  -8.852459  -3.706199  -4.214884   \n",
       "98  20.461191  24.896144  28.485242  33.005464  35.248447  35.495664   \n",
       "99        NaN        NaN        NaN        NaN        NaN        NaN   \n",
       "\n",
       "      2022-07  ...    2002-07    2002-04    2002-01    2001-10    2001-07  \\\n",
       "0   60.447912  ...  34.462089   36.61972  37.280892  37.401918  37.767962   \n",
       "1   28.969668  ...  17.601346  17.009029  18.335912  19.828844  20.027486   \n",
       "2   31.478243  ...   16.46803  19.179652  18.406304  17.276373   17.74015   \n",
       "3   26.171901  ...  15.675576  19.569556  18.470855  17.840132  18.730914   \n",
       "4   26.030668  ...  10.972919  13.698666  12.929591   12.40435  12.922228   \n",
       "..        ...  ...        ...        ...        ...        ...        ...   \n",
       "95 -22.409962  ...        NaN        NaN        NaN        NaN        NaN   \n",
       "96  49.021005  ...  35.486321    35.5587  40.553718  50.923136  57.943101   \n",
       "97 -15.038123  ...        NaN        NaN        NaN        NaN        NaN   \n",
       "98  32.895366  ...  26.191811  26.231219  28.852825  33.741106   36.68606   \n",
       "99        NaN  ...        NaN        NaN        NaN        NaN        NaN   \n",
       "\n",
       "      2001-04    2001-01    2000-10    2000-07    2000-04  \n",
       "0   37.530883  37.424109   37.40397  37.479678  37.313539  \n",
       "1   19.923573  19.703807        NaN        NaN        NaN  \n",
       "2   17.606948  17.719894  17.362173  16.631365  15.703033  \n",
       "3   18.970948  19.987923  19.014998  17.819752  16.309268  \n",
       "4   12.989647  13.591989  12.930112  12.117182  11.090117  \n",
       "..        ...        ...        ...        ...        ...  \n",
       "95        NaN        NaN        NaN        NaN        NaN  \n",
       "96  64.912281  74.181813  83.361413   0.861759   1.537126  \n",
       "97        NaN        NaN        NaN        NaN        NaN  \n",
       "98  39.361702  42.588725  45.462898   0.854397   1.513856  \n",
       "99        NaN        NaN        NaN        NaN        NaN  \n",
       "\n",
       "[100 rows x 99 columns]"
      ]
     },
     "execution_count": 18,
     "metadata": {},
     "output_type": "execute_result"
    }
   ],
   "source": [
    "financials['NVDA']"
   ]
  },
  {
   "cell_type": "code",
   "execution_count": 19,
   "id": "21c87a80-7241-49e8-855a-4c1aefa89597",
   "metadata": {},
   "outputs": [
    {
     "name": "stdout",
     "output_type": "stream",
     "text": [
      "Los siguientes ítems son comunes en todos los tickers: {'Price/Sales', 'CFO/Current Liabilities', 'Total Debt/Equity (%)', 'Receivables', 'EPS (recurring)', 'Enterprise Value/EBITDA', '    + Days of Sales Outstanding', 'Tangible Book Value per Share', 'Cash Flow Return on Invested Capital', 'Cash Flow per Share', ' Per Share', ' Valuation', 'Net Debt/(EBITDA-Capex)', 'Price/Tangible Book Value', 'Current Assets', ' Operating Efficiency', 'Total Debt/Total Assets (%)', 'Return on Common Equity', 'LT Debt/Total Capital', 'Book Value per Share', ' Liquidity', ' = Return on Assets (%)', ' Leverage', 'EBITDA/Interest Expense', 'All figures in millions of U.S. Dollar except per share items.', ' DuPont Analysis', 'EPS (diluted)', 'Price/Free Cash Flow', '    x Pretax Margin (%)', 'Enterprise Value/EBIT', 'LT Debt/FFO', 'Total Debt/EBITDA', 'Note: EBIT Return on Assets (%)', 'Sales per Share', 'Return on Assets', 'Total Debt/Total Capital', 'Total Assets', ' Coverage', 'Return on Total Capital', 'Operating Margin', 'Net Debt/EBITDA', 'Net Debt/Total Capital', '   Asset Turnover (x)', '    x Earnings Retention (1-Payout) (%)', 'Current Ratio (x)', 'Basic Shares Outstanding  (M)', 'Return on Invested Capital', 'Enterprise Value/Sales', 'EBIT/Interest Expense (Int. Coverage)', 'Note: Interest as % Assets', '   Days of Inventory on Hand', '    x Equity Multiplier (Assets/Equity)', 'Cash & ST Inv/Current Assets', 'EBITDA-Capex/Interest Expense', 'CFO/Total Debt', 'Free Cash Flow Margin', 'Net Margin', 'LT Debt/Total Assets', 'Receivables Turnover', 'Quick Ratio (x)', 'Total Shares Outstanding  (M)', 'Return on Equity ', 'Price/Cash Flow', 'Price/Book Value', ' = Return on Equity (%)', ' = Operating Cycle', 'CFO/Interest Expense', 'Fixed-charge Coverage Ratio', 'Fixed Assets', ' Asset Turnover Analysis', 'Pretax Margin', 'Working Capital Turnover', 'EBIT (Operating Income) per Share', 'Free Cash Flow per Share', 'Asset Turnover ', 'LT Debt/EBITDA', 'Net Debt/FFO', 'Diluted Shares Outstanding  (M)', '    x Tax Rate Complement (1-Tax Rate) (%)', ' = Reinvestment Rate (%)', ' = Pretax Return on Assets (%)', 'Cash Ratio', 'Price/Earnings', 'Cash & ST Investments', 'Capex To Sales', 'EPS (basic)', '    - Days of Payables Outstanding', 'Payables Turnover', 'Net Debt/Total Equity (%)', ' Operating Cycle - Days', 'LT Debt/Total Equity'}\n"
     ]
    }
   ],
   "source": [
    "# DUK, JPM, GS\n",
    "#['MSFT', 'V', 'NFLX', 'SO', 'DUK', 'PLD', 'VZ', 'T', 'CVX', 'VMC', 'NVDA', 'GE', 'KO', 'JNJ', 'GS', 'HD', 'AMD', 'ADM', 'META', 'GOOGL', 'TSLA', 'JPM', 'XOM', 'AAPL']\n",
    "stocks = [\"MSFT\", \"AAPL\", \"GOOGL\", 'V', 'NFLX', 'SO', 'DUK', 'VZ', 'T', 'CVX', 'VMC', 'NVDA', 'GE', 'KO', 'JNJ', 'HD', 'AMD', 'ADM', 'META', 'TSLA', 'XOM'] \n",
    "column_name = \"Financial Ratio\"      \n",
    "common_items = set(financials[stocks[0]][column_name])\n",
    "for stock in stocks[1:]:\n",
    "    current_items = set(financials[stock][column_name])\n",
    "    common_items = common_items.intersection(current_items)\n",
    "if common_items:\n",
    "    print(f\"Los siguientes ítems son comunes en todos los tickers: {common_items}\")\n",
    "else:\n",
    "    print(\"No hay ítems comunes en todos los tickers.\")"
   ]
  },
  {
   "cell_type": "code",
   "execution_count": 20,
   "id": "0ab21963-9594-43e3-81c5-33f2122eb694",
   "metadata": {},
   "outputs": [
    {
     "ename": "AttributeError",
     "evalue": "'TestStrategy' object has no attribute 'select_top_stocks'",
     "output_type": "error",
     "traceback": [
      "\u001b[1;31m---------------------------------------------------------------------------\u001b[0m",
      "\u001b[1;31mAttributeError\u001b[0m                            Traceback (most recent call last)",
      "Cell \u001b[1;32mIn[20], line 2\u001b[0m\n\u001b[0;32m      1\u001b[0m strategy \u001b[38;5;241m=\u001b[39m TestStrategy(prices, financials, offensive_tickers, defensive_tickers, protective_tickers)\n\u001b[1;32m----> 2\u001b[0m chosen_universe \u001b[38;5;241m=\u001b[39m strategy\u001b[38;5;241m.\u001b[39mrun_strategy(start_date\u001b[38;5;241m=\u001b[39m\u001b[38;5;124m'\u001b[39m\u001b[38;5;124m2014-09-01\u001b[39m\u001b[38;5;124m'\u001b[39m)\n",
      "File \u001b[1;32m~\\OneDrive\\Documentos\\GitHub\\New_Asset_Allocation\\Functionscopy.py:263\u001b[0m, in \u001b[0;36mTestStrategy.run_strategy\u001b[1;34m(self, start_date, end_date)\u001b[0m\n\u001b[0;32m    261\u001b[0m \u001b[38;5;28;01mwhile\u001b[39;00m decision_date \u001b[38;5;241m<\u001b[39m\u001b[38;5;241m=\u001b[39m end_date:\n\u001b[0;32m    262\u001b[0m     chosen_universe \u001b[38;5;241m=\u001b[39m \u001b[38;5;28mself\u001b[39m\u001b[38;5;241m.\u001b[39mdecide_universe(decision_date)\n\u001b[1;32m--> 263\u001b[0m     selected_stocks \u001b[38;5;241m=\u001b[39m \u001b[38;5;28mself\u001b[39m\u001b[38;5;241m.\u001b[39mselect_top_stocks(chosen_universe, decision_date)\n\u001b[0;32m    265\u001b[0m     results\u001b[38;5;241m.\u001b[39mappend({\n\u001b[0;32m    266\u001b[0m         \u001b[38;5;124m'\u001b[39m\u001b[38;5;124mDate\u001b[39m\u001b[38;5;124m'\u001b[39m: decision_date,\n\u001b[0;32m    267\u001b[0m         \u001b[38;5;124m'\u001b[39m\u001b[38;5;124mChosen Universe\u001b[39m\u001b[38;5;124m'\u001b[39m: chosen_universe,\n\u001b[0;32m    268\u001b[0m         \u001b[38;5;124m'\u001b[39m\u001b[38;5;124mSelected Stocks\u001b[39m\u001b[38;5;124m'\u001b[39m: selected_stocks\n\u001b[0;32m    269\u001b[0m     })\n\u001b[0;32m    271\u001b[0m     decision_date \u001b[38;5;241m+\u001b[39m\u001b[38;5;241m=\u001b[39m pd\u001b[38;5;241m.\u001b[39mDateOffset(months\u001b[38;5;241m=\u001b[39m\u001b[38;5;241m6\u001b[39m)\n",
      "\u001b[1;31mAttributeError\u001b[0m: 'TestStrategy' object has no attribute 'select_top_stocks'"
     ]
    }
   ],
   "source": [
    "strategy = TestStrategy(prices, financials, offensive_tickers, defensive_tickers, protective_tickers)\n",
    "chosen_universe = strategy.run_strategy(start_date='2014-09-01')"
   ]
  },
  {
   "cell_type": "code",
   "execution_count": null,
   "id": "3c556df9-3640-4535-8e6a-e23f16ffe763",
   "metadata": {},
   "outputs": [],
   "source": [
    "chosen_universe"
   ]
  },
  {
   "cell_type": "code",
   "execution_count": null,
   "id": "e9ccdc18-7e87-403f-88b3-918972aba5e1",
   "metadata": {},
   "outputs": [],
   "source": []
  }
 ],
 "metadata": {
  "kernelspec": {
   "display_name": "Python 3 (ipykernel)",
   "language": "python",
   "name": "python3"
  },
  "language_info": {
   "codemirror_mode": {
    "name": "ipython",
    "version": 3
   },
   "file_extension": ".py",
   "mimetype": "text/x-python",
   "name": "python",
   "nbconvert_exporter": "python",
   "pygments_lexer": "ipython3",
   "version": "3.11.7"
  }
 },
 "nbformat": 4,
 "nbformat_minor": 5
}

{
 "cells": [
  {
   "cell_type": "code",
   "execution_count": null,
   "id": "e05a2c48-2177-4eac-b8e5-cb0d431c7d6e",
   "metadata": {},
   "outputs": [],
   "source": []
  },
  {
   "cell_type": "code",
   "execution_count": 24,
   "id": "5b8ac54c-28b3-49ff-813f-3faa6eae2c21",
   "metadata": {},
   "outputs": [],
   "source": [
    "from Functionscopy import LoadData\n",
    "from Functionscopy import TestStrategy\n",
    "from Functionscopy import Backtesting\n",
    "import os"
   ]
  },
  {
   "cell_type": "code",
   "execution_count": 25,
   "id": "6ede3ea4-16ce-481a-83df-18598b618afa",
   "metadata": {},
   "outputs": [
    {
     "name": "stdout",
     "output_type": "stream",
     "text": [
      "Data processed for the following tickers: AAPL, ADM, AMD, CAT, CVX, DUK, GE, GOOGL, GS, HD, JNJ, JPM, KO, META, MSFT, NFLX, NVDA, PLD, SO, T, TRYIY, TSLA, V, VMC, VZ, XOM\n",
      "Downloading data for AAPL...\n"
     ]
    },
    {
     "name": "stderr",
     "output_type": "stream",
     "text": [
      "[*********************100%%**********************]  1 of 1 completed\n"
     ]
    },
    {
     "name": "stdout",
     "output_type": "stream",
     "text": [
      "Downloading data for ADM...\n"
     ]
    },
    {
     "name": "stderr",
     "output_type": "stream",
     "text": [
      "[*********************100%%**********************]  1 of 1 completed\n"
     ]
    },
    {
     "name": "stdout",
     "output_type": "stream",
     "text": [
      "Downloading data for AMD...\n"
     ]
    },
    {
     "name": "stderr",
     "output_type": "stream",
     "text": [
      "[*********************100%%**********************]  1 of 1 completed\n"
     ]
    },
    {
     "name": "stdout",
     "output_type": "stream",
     "text": [
      "Downloading data for CAT...\n"
     ]
    },
    {
     "name": "stderr",
     "output_type": "stream",
     "text": [
      "[*********************100%%**********************]  1 of 1 completed\n"
     ]
    },
    {
     "name": "stdout",
     "output_type": "stream",
     "text": [
      "Downloading data for CVX...\n"
     ]
    },
    {
     "name": "stderr",
     "output_type": "stream",
     "text": [
      "[*********************100%%**********************]  1 of 1 completed\n"
     ]
    },
    {
     "name": "stdout",
     "output_type": "stream",
     "text": [
      "Downloading data for DUK...\n"
     ]
    },
    {
     "name": "stderr",
     "output_type": "stream",
     "text": [
      "[*********************100%%**********************]  1 of 1 completed\n"
     ]
    },
    {
     "name": "stdout",
     "output_type": "stream",
     "text": [
      "Downloading data for GE...\n"
     ]
    },
    {
     "name": "stderr",
     "output_type": "stream",
     "text": [
      "[*********************100%%**********************]  1 of 1 completed\n"
     ]
    },
    {
     "name": "stdout",
     "output_type": "stream",
     "text": [
      "Downloading data for GOOGL...\n"
     ]
    },
    {
     "name": "stderr",
     "output_type": "stream",
     "text": [
      "[*********************100%%**********************]  1 of 1 completed\n"
     ]
    },
    {
     "name": "stdout",
     "output_type": "stream",
     "text": [
      "Downloading data for GS...\n"
     ]
    },
    {
     "name": "stderr",
     "output_type": "stream",
     "text": [
      "[*********************100%%**********************]  1 of 1 completed\n"
     ]
    },
    {
     "name": "stdout",
     "output_type": "stream",
     "text": [
      "Downloading data for HD...\n"
     ]
    },
    {
     "name": "stderr",
     "output_type": "stream",
     "text": [
      "[*********************100%%**********************]  1 of 1 completed\n"
     ]
    },
    {
     "name": "stdout",
     "output_type": "stream",
     "text": [
      "Downloading data for JNJ...\n"
     ]
    },
    {
     "name": "stderr",
     "output_type": "stream",
     "text": [
      "[*********************100%%**********************]  1 of 1 completed\n"
     ]
    },
    {
     "name": "stdout",
     "output_type": "stream",
     "text": [
      "Downloading data for JPM...\n"
     ]
    },
    {
     "name": "stderr",
     "output_type": "stream",
     "text": [
      "[*********************100%%**********************]  1 of 1 completed\n"
     ]
    },
    {
     "name": "stdout",
     "output_type": "stream",
     "text": [
      "Downloading data for KO...\n"
     ]
    },
    {
     "name": "stderr",
     "output_type": "stream",
     "text": [
      "[*********************100%%**********************]  1 of 1 completed\n"
     ]
    },
    {
     "name": "stdout",
     "output_type": "stream",
     "text": [
      "Downloading data for META...\n"
     ]
    },
    {
     "name": "stderr",
     "output_type": "stream",
     "text": [
      "[*********************100%%**********************]  1 of 1 completed\n"
     ]
    },
    {
     "name": "stdout",
     "output_type": "stream",
     "text": [
      "Downloading data for MSFT...\n"
     ]
    },
    {
     "name": "stderr",
     "output_type": "stream",
     "text": [
      "[*********************100%%**********************]  1 of 1 completed\n",
      "[*********************100%%**********************]  1 of 1 completed\n"
     ]
    },
    {
     "name": "stdout",
     "output_type": "stream",
     "text": [
      "Downloading data for NFLX...\n",
      "Downloading data for NVDA...\n"
     ]
    },
    {
     "name": "stderr",
     "output_type": "stream",
     "text": [
      "[*********************100%%**********************]  1 of 1 completed\n"
     ]
    },
    {
     "name": "stdout",
     "output_type": "stream",
     "text": [
      "Downloading data for PLD...\n"
     ]
    },
    {
     "name": "stderr",
     "output_type": "stream",
     "text": [
      "[*********************100%%**********************]  1 of 1 completed\n"
     ]
    },
    {
     "name": "stdout",
     "output_type": "stream",
     "text": [
      "Downloading data for SO...\n"
     ]
    },
    {
     "name": "stderr",
     "output_type": "stream",
     "text": [
      "[*********************100%%**********************]  1 of 1 completed\n"
     ]
    },
    {
     "name": "stdout",
     "output_type": "stream",
     "text": [
      "Downloading data for T...\n"
     ]
    },
    {
     "name": "stderr",
     "output_type": "stream",
     "text": [
      "[*********************100%%**********************]  1 of 1 completed\n"
     ]
    },
    {
     "name": "stdout",
     "output_type": "stream",
     "text": [
      "Downloading data for TRYIY...\n"
     ]
    },
    {
     "name": "stderr",
     "output_type": "stream",
     "text": [
      "[*********************100%%**********************]  1 of 1 completed\n"
     ]
    },
    {
     "name": "stdout",
     "output_type": "stream",
     "text": [
      "Downloading data for TSLA...\n"
     ]
    },
    {
     "name": "stderr",
     "output_type": "stream",
     "text": [
      "[*********************100%%**********************]  1 of 1 completed\n"
     ]
    },
    {
     "name": "stdout",
     "output_type": "stream",
     "text": [
      "Downloading data for V...\n"
     ]
    },
    {
     "name": "stderr",
     "output_type": "stream",
     "text": [
      "[*********************100%%**********************]  1 of 1 completed\n"
     ]
    },
    {
     "name": "stdout",
     "output_type": "stream",
     "text": [
      "Downloading data for VMC...\n"
     ]
    },
    {
     "name": "stderr",
     "output_type": "stream",
     "text": [
      "[*********************100%%**********************]  1 of 1 completed\n",
      "[*********************100%%**********************]  1 of 1 completed\n"
     ]
    },
    {
     "name": "stdout",
     "output_type": "stream",
     "text": [
      "Downloading data for VZ...\n",
      "Downloading data for XOM...\n"
     ]
    },
    {
     "name": "stderr",
     "output_type": "stream",
     "text": [
      "[*********************100%%**********************]  1 of 1 completed\n"
     ]
    }
   ],
   "source": [
    "current_directory = os.getcwd()\n",
    "path = os.path.join(current_directory, 'Stocks_financials')\n",
    "\n",
    "loader = LoadData(path)\n",
    "prices, financials = loader.Load(start_date='2014-09-01', end_date=None)"
   ]
  },
  {
   "cell_type": "code",
   "execution_count": 26,
   "id": "1b811cfd-4e72-4f23-a2c0-66e18da4aaa9",
   "metadata": {},
   "outputs": [
    {
     "name": "stdout",
     "output_type": "stream",
     "text": [
      "Las columnas no son iguales para V.\n",
      "Las columnas no son iguales entre todos los tickers.\n"
     ]
    }
   ],
   "source": [
    "stocks = ['MSFT', 'V', 'NFLX', 'SO', 'DUK', 'PLD', 'VZ', 'T', 'CVX', 'VMC', 'NVDA', 'GE', 'KO', 'JNJ', 'GS', 'HD', 'AMD', 'ADM', 'META', 'GOOGL', 'TSLA', 'JPM', 'XOM', 'AAPL']\n",
    "column_name = \"Financial Ratio\" \n",
    "reference_column = list(financials[stocks[0]][column_name])\n",
    "\n",
    "all_equal = True\n",
    "\n",
    "for stock in stocks[1:]:\n",
    "    current_column = list(financials[stock][column_name])\n",
    "    \n",
    "    if current_column != reference_column:\n",
    "        all_equal = False\n",
    "        print(f\"Las columnas no son iguales para {stock}.\")\n",
    "        break\n",
    "\n",
    "if all_equal:\n",
    "    print(\"La columna es igual para todos los tickers.\")\n",
    "else:\n",
    "    print(\"Las columnas no son iguales entre todos los tickers.\")"
   ]
  },
  {
   "cell_type": "code",
   "execution_count": 31,
   "id": "7cdccdee-4bef-43db-bd72-137eba6adef9",
   "metadata": {},
   "outputs": [],
   "source": [
    "offensive_tickers = [\"MSFT\", \"AAPL\", \"GOOGL\", 'V', 'NFLX', 'SO', 'DUK', 'VZ', 'T', 'CVX', 'VMC', 'NVDA', 'GE', 'KO', 'JNJ', 'HD', 'AMD', 'ADM', 'META', 'TSLA', 'XOM']   \n",
    "defensive_tickers = ['JNJ', 'PG','TLT','GLD','WMT','BIL']     \n",
    "protective_tickers = ['MSFT', 'V', 'NFLX', 'SO', 'DUK', 'PLD', 'VZ', 'T', 'CVX', 'VMC', 'NVDA', 'GE',\n",
    "                      'KO', 'JNJ', 'GS', 'HD', 'AMD', 'ADM', 'META', 'GOOGL', 'TSLA', 'JPM', 'XOM', 'AAPL']   "
   ]
  },
  {
   "cell_type": "code",
   "execution_count": 32,
   "id": "3c323112-c184-46ca-bc7c-e1e0c98b54c3",
   "metadata": {},
   "outputs": [
    {
     "data": {
      "text/html": [
       "<div>\n",
       "<style scoped>\n",
       "    .dataframe tbody tr th:only-of-type {\n",
       "        vertical-align: middle;\n",
       "    }\n",
       "\n",
       "    .dataframe tbody tr th {\n",
       "        vertical-align: top;\n",
       "    }\n",
       "\n",
       "    .dataframe thead th {\n",
       "        text-align: right;\n",
       "    }\n",
       "</style>\n",
       "<table border=\"1\" class=\"dataframe\">\n",
       "  <thead>\n",
       "    <tr style=\"text-align: right;\">\n",
       "      <th></th>\n",
       "      <th>Financial Ratio</th>\n",
       "      <th>2024-07</th>\n",
       "      <th>2024-04</th>\n",
       "      <th>2024-01</th>\n",
       "      <th>2023-10</th>\n",
       "      <th>2023-07</th>\n",
       "      <th>2023-04</th>\n",
       "      <th>2023-01</th>\n",
       "      <th>2022-10</th>\n",
       "      <th>2022-07</th>\n",
       "      <th>...</th>\n",
       "      <th>2002-07</th>\n",
       "      <th>2002-04</th>\n",
       "      <th>2002-01</th>\n",
       "      <th>2001-10</th>\n",
       "      <th>2001-07</th>\n",
       "      <th>2001-04</th>\n",
       "      <th>2001-01</th>\n",
       "      <th>2000-10</th>\n",
       "      <th>2000-07</th>\n",
       "      <th>2000-04</th>\n",
       "    </tr>\n",
       "  </thead>\n",
       "  <tbody>\n",
       "    <tr>\n",
       "      <th>0</th>\n",
       "      <td>Gross Margin</td>\n",
       "      <td>75.976824</td>\n",
       "      <td>75.286434</td>\n",
       "      <td>72.717573</td>\n",
       "      <td>69.852908</td>\n",
       "      <td>64.624705</td>\n",
       "      <td>56.314244</td>\n",
       "      <td>56.928894</td>\n",
       "      <td>57.837989</td>\n",
       "      <td>60.447912</td>\n",
       "      <td>...</td>\n",
       "      <td>34.462089</td>\n",
       "      <td>36.61972</td>\n",
       "      <td>37.280892</td>\n",
       "      <td>37.401918</td>\n",
       "      <td>37.767962</td>\n",
       "      <td>37.530883</td>\n",
       "      <td>37.424109</td>\n",
       "      <td>37.40397</td>\n",
       "      <td>37.479678</td>\n",
       "      <td>37.313539</td>\n",
       "    </tr>\n",
       "    <tr>\n",
       "      <th>1</th>\n",
       "      <td>SG&amp;A to Sales</td>\n",
       "      <td>14.110085</td>\n",
       "      <td>15.442375</td>\n",
       "      <td>18.597551</td>\n",
       "      <td>23.911299</td>\n",
       "      <td>31.584101</td>\n",
       "      <td>38.936548</td>\n",
       "      <td>36.249722</td>\n",
       "      <td>32.31464</td>\n",
       "      <td>28.969668</td>\n",
       "      <td>...</td>\n",
       "      <td>17.601346</td>\n",
       "      <td>17.009029</td>\n",
       "      <td>18.335912</td>\n",
       "      <td>19.828844</td>\n",
       "      <td>20.027486</td>\n",
       "      <td>19.923573</td>\n",
       "      <td>19.703807</td>\n",
       "      <td>NaN</td>\n",
       "      <td>NaN</td>\n",
       "      <td>NaN</td>\n",
       "    </tr>\n",
       "    <tr>\n",
       "      <th>2</th>\n",
       "      <td>Operating Margin</td>\n",
       "      <td>61.866739</td>\n",
       "      <td>59.844059</td>\n",
       "      <td>54.120022</td>\n",
       "      <td>45.941609</td>\n",
       "      <td>33.040605</td>\n",
       "      <td>17.377695</td>\n",
       "      <td>20.679173</td>\n",
       "      <td>25.523349</td>\n",
       "      <td>31.478243</td>\n",
       "      <td>...</td>\n",
       "      <td>16.46803</td>\n",
       "      <td>19.179652</td>\n",
       "      <td>18.406304</td>\n",
       "      <td>17.276373</td>\n",
       "      <td>17.74015</td>\n",
       "      <td>17.606948</td>\n",
       "      <td>17.719894</td>\n",
       "      <td>17.362173</td>\n",
       "      <td>16.631365</td>\n",
       "      <td>15.703033</td>\n",
       "    </tr>\n",
       "    <tr>\n",
       "      <th>3</th>\n",
       "      <td>Pretax Margin</td>\n",
       "      <td>63.464753</td>\n",
       "      <td>61.283125</td>\n",
       "      <td>55.510325</td>\n",
       "      <td>46.804101</td>\n",
       "      <td>33.94021</td>\n",
       "      <td>17.721617</td>\n",
       "      <td>15.503818</td>\n",
       "      <td>20.15683</td>\n",
       "      <td>26.171901</td>\n",
       "      <td>...</td>\n",
       "      <td>15.675576</td>\n",
       "      <td>19.569556</td>\n",
       "      <td>18.470855</td>\n",
       "      <td>17.840132</td>\n",
       "      <td>18.730914</td>\n",
       "      <td>18.970948</td>\n",
       "      <td>19.987923</td>\n",
       "      <td>19.014998</td>\n",
       "      <td>17.819752</td>\n",
       "      <td>16.309268</td>\n",
       "    </tr>\n",
       "    <tr>\n",
       "      <th>4</th>\n",
       "      <td>Net Margin</td>\n",
       "      <td>55.040651</td>\n",
       "      <td>53.397097</td>\n",
       "      <td>48.847707</td>\n",
       "      <td>42.094941</td>\n",
       "      <td>31.59328</td>\n",
       "      <td>18.521524</td>\n",
       "      <td>16.193371</td>\n",
       "      <td>20.853462</td>\n",
       "      <td>26.030668</td>\n",
       "      <td>...</td>\n",
       "      <td>10.972919</td>\n",
       "      <td>13.698666</td>\n",
       "      <td>12.929591</td>\n",
       "      <td>12.40435</td>\n",
       "      <td>12.922228</td>\n",
       "      <td>12.989647</td>\n",
       "      <td>13.591989</td>\n",
       "      <td>12.930112</td>\n",
       "      <td>12.117182</td>\n",
       "      <td>11.090117</td>\n",
       "    </tr>\n",
       "    <tr>\n",
       "      <th>...</th>\n",
       "      <td>...</td>\n",
       "      <td>...</td>\n",
       "      <td>...</td>\n",
       "      <td>...</td>\n",
       "      <td>...</td>\n",
       "      <td>...</td>\n",
       "      <td>...</td>\n",
       "      <td>...</td>\n",
       "      <td>...</td>\n",
       "      <td>...</td>\n",
       "      <td>...</td>\n",
       "      <td>...</td>\n",
       "      <td>...</td>\n",
       "      <td>...</td>\n",
       "      <td>...</td>\n",
       "      <td>...</td>\n",
       "      <td>...</td>\n",
       "      <td>...</td>\n",
       "      <td>...</td>\n",
       "      <td>...</td>\n",
       "      <td>...</td>\n",
       "    </tr>\n",
       "    <tr>\n",
       "      <th>95</th>\n",
       "      <td>Net Debt/Total Equity (%)</td>\n",
       "      <td>-42.617398</td>\n",
       "      <td>-41.107403</td>\n",
       "      <td>-34.73405</td>\n",
       "      <td>-21.806704</td>\n",
       "      <td>-18.432057</td>\n",
       "      <td>-13.213703</td>\n",
       "      <td>-5.723723</td>\n",
       "      <td>-6.534264</td>\n",
       "      <td>-22.409962</td>\n",
       "      <td>...</td>\n",
       "      <td>NaN</td>\n",
       "      <td>NaN</td>\n",
       "      <td>NaN</td>\n",
       "      <td>NaN</td>\n",
       "      <td>NaN</td>\n",
       "      <td>NaN</td>\n",
       "      <td>NaN</td>\n",
       "      <td>NaN</td>\n",
       "      <td>NaN</td>\n",
       "      <td>NaN</td>\n",
       "    </tr>\n",
       "    <tr>\n",
       "      <th>96</th>\n",
       "      <td>Total Debt/Equity (%)</td>\n",
       "      <td>17.220627</td>\n",
       "      <td>22.866387</td>\n",
       "      <td>25.724789</td>\n",
       "      <td>33.148955</td>\n",
       "      <td>39.831279</td>\n",
       "      <td>49.265905</td>\n",
       "      <td>54.436451</td>\n",
       "      <td>55.028339</td>\n",
       "      <td>49.021005</td>\n",
       "      <td>...</td>\n",
       "      <td>35.486321</td>\n",
       "      <td>35.5587</td>\n",
       "      <td>40.553718</td>\n",
       "      <td>50.923136</td>\n",
       "      <td>57.943101</td>\n",
       "      <td>64.912281</td>\n",
       "      <td>74.181813</td>\n",
       "      <td>83.361413</td>\n",
       "      <td>0.861759</td>\n",
       "      <td>1.537126</td>\n",
       "    </tr>\n",
       "    <tr>\n",
       "      <th>97</th>\n",
       "      <td>Net Debt/Total Capital</td>\n",
       "      <td>-36.356569</td>\n",
       "      <td>-33.456997</td>\n",
       "      <td>-27.62705</td>\n",
       "      <td>-16.377675</td>\n",
       "      <td>-13.181641</td>\n",
       "      <td>-8.852459</td>\n",
       "      <td>-3.706199</td>\n",
       "      <td>-4.214884</td>\n",
       "      <td>-15.038123</td>\n",
       "      <td>...</td>\n",
       "      <td>NaN</td>\n",
       "      <td>NaN</td>\n",
       "      <td>NaN</td>\n",
       "      <td>NaN</td>\n",
       "      <td>NaN</td>\n",
       "      <td>NaN</td>\n",
       "      <td>NaN</td>\n",
       "      <td>NaN</td>\n",
       "      <td>NaN</td>\n",
       "      <td>NaN</td>\n",
       "    </tr>\n",
       "    <tr>\n",
       "      <th>98</th>\n",
       "      <td>Total Debt/Total Capital</td>\n",
       "      <td>14.690782</td>\n",
       "      <td>18.610775</td>\n",
       "      <td>20.461191</td>\n",
       "      <td>24.896144</td>\n",
       "      <td>28.485242</td>\n",
       "      <td>33.005464</td>\n",
       "      <td>35.248447</td>\n",
       "      <td>35.495664</td>\n",
       "      <td>32.895366</td>\n",
       "      <td>...</td>\n",
       "      <td>26.191811</td>\n",
       "      <td>26.231219</td>\n",
       "      <td>28.852825</td>\n",
       "      <td>33.741106</td>\n",
       "      <td>36.68606</td>\n",
       "      <td>39.361702</td>\n",
       "      <td>42.588725</td>\n",
       "      <td>45.462898</td>\n",
       "      <td>0.854397</td>\n",
       "      <td>1.513856</td>\n",
       "    </tr>\n",
       "    <tr>\n",
       "      <th>99</th>\n",
       "      <td>All figures in millions of U.S. Dollar except ...</td>\n",
       "      <td>NaN</td>\n",
       "      <td>NaN</td>\n",
       "      <td>NaN</td>\n",
       "      <td>NaN</td>\n",
       "      <td>NaN</td>\n",
       "      <td>NaN</td>\n",
       "      <td>NaN</td>\n",
       "      <td>NaN</td>\n",
       "      <td>NaN</td>\n",
       "      <td>...</td>\n",
       "      <td>NaN</td>\n",
       "      <td>NaN</td>\n",
       "      <td>NaN</td>\n",
       "      <td>NaN</td>\n",
       "      <td>NaN</td>\n",
       "      <td>NaN</td>\n",
       "      <td>NaN</td>\n",
       "      <td>NaN</td>\n",
       "      <td>NaN</td>\n",
       "      <td>NaN</td>\n",
       "    </tr>\n",
       "  </tbody>\n",
       "</table>\n",
       "<p>100 rows × 99 columns</p>\n",
       "</div>"
      ],
      "text/plain": [
       "                                      Financial Ratio    2024-07    2024-04  \\\n",
       "0                                        Gross Margin  75.976824  75.286434   \n",
       "1                                       SG&A to Sales  14.110085  15.442375   \n",
       "2                                    Operating Margin  61.866739  59.844059   \n",
       "3                                       Pretax Margin  63.464753  61.283125   \n",
       "4                                          Net Margin  55.040651  53.397097   \n",
       "..                                                ...        ...        ...   \n",
       "95                          Net Debt/Total Equity (%) -42.617398 -41.107403   \n",
       "96                              Total Debt/Equity (%)  17.220627  22.866387   \n",
       "97                             Net Debt/Total Capital -36.356569 -33.456997   \n",
       "98                           Total Debt/Total Capital  14.690782  18.610775   \n",
       "99  All figures in millions of U.S. Dollar except ...        NaN        NaN   \n",
       "\n",
       "      2024-01    2023-10    2023-07    2023-04    2023-01    2022-10  \\\n",
       "0   72.717573  69.852908  64.624705  56.314244  56.928894  57.837989   \n",
       "1   18.597551  23.911299  31.584101  38.936548  36.249722   32.31464   \n",
       "2   54.120022  45.941609  33.040605  17.377695  20.679173  25.523349   \n",
       "3   55.510325  46.804101   33.94021  17.721617  15.503818   20.15683   \n",
       "4   48.847707  42.094941   31.59328  18.521524  16.193371  20.853462   \n",
       "..        ...        ...        ...        ...        ...        ...   \n",
       "95  -34.73405 -21.806704 -18.432057 -13.213703  -5.723723  -6.534264   \n",
       "96  25.724789  33.148955  39.831279  49.265905  54.436451  55.028339   \n",
       "97  -27.62705 -16.377675 -13.181641  -8.852459  -3.706199  -4.214884   \n",
       "98  20.461191  24.896144  28.485242  33.005464  35.248447  35.495664   \n",
       "99        NaN        NaN        NaN        NaN        NaN        NaN   \n",
       "\n",
       "      2022-07  ...    2002-07    2002-04    2002-01    2001-10    2001-07  \\\n",
       "0   60.447912  ...  34.462089   36.61972  37.280892  37.401918  37.767962   \n",
       "1   28.969668  ...  17.601346  17.009029  18.335912  19.828844  20.027486   \n",
       "2   31.478243  ...   16.46803  19.179652  18.406304  17.276373   17.74015   \n",
       "3   26.171901  ...  15.675576  19.569556  18.470855  17.840132  18.730914   \n",
       "4   26.030668  ...  10.972919  13.698666  12.929591   12.40435  12.922228   \n",
       "..        ...  ...        ...        ...        ...        ...        ...   \n",
       "95 -22.409962  ...        NaN        NaN        NaN        NaN        NaN   \n",
       "96  49.021005  ...  35.486321    35.5587  40.553718  50.923136  57.943101   \n",
       "97 -15.038123  ...        NaN        NaN        NaN        NaN        NaN   \n",
       "98  32.895366  ...  26.191811  26.231219  28.852825  33.741106   36.68606   \n",
       "99        NaN  ...        NaN        NaN        NaN        NaN        NaN   \n",
       "\n",
       "      2001-04    2001-01    2000-10    2000-07    2000-04  \n",
       "0   37.530883  37.424109   37.40397  37.479678  37.313539  \n",
       "1   19.923573  19.703807        NaN        NaN        NaN  \n",
       "2   17.606948  17.719894  17.362173  16.631365  15.703033  \n",
       "3   18.970948  19.987923  19.014998  17.819752  16.309268  \n",
       "4   12.989647  13.591989  12.930112  12.117182  11.090117  \n",
       "..        ...        ...        ...        ...        ...  \n",
       "95        NaN        NaN        NaN        NaN        NaN  \n",
       "96  64.912281  74.181813  83.361413   0.861759   1.537126  \n",
       "97        NaN        NaN        NaN        NaN        NaN  \n",
       "98  39.361702  42.588725  45.462898   0.854397   1.513856  \n",
       "99        NaN        NaN        NaN        NaN        NaN  \n",
       "\n",
       "[100 rows x 99 columns]"
      ]
     },
     "execution_count": 32,
     "metadata": {},
     "output_type": "execute_result"
    }
   ],
   "source": [
    "financials['NVDA']"
   ]
  },
  {
   "cell_type": "code",
   "execution_count": 33,
   "id": "21c87a80-7241-49e8-855a-4c1aefa89597",
   "metadata": {},
   "outputs": [
    {
     "name": "stdout",
     "output_type": "stream",
     "text": [
      "Los siguientes ítems son comunes en todos los tickers: {'Price/Cash Flow', 'CFO/Total Debt', 'Net Debt/(EBITDA-Capex)', 'Cash Ratio', 'Receivables Turnover', 'Enterprise Value/EBIT', 'Total Debt/Total Capital', 'Payables Turnover', 'Total Debt/Total Assets (%)', 'Diluted Shares Outstanding  (M)', 'EBITDA/Interest Expense', 'Total Debt/EBITDA', 'Basic Shares Outstanding  (M)', 'Current Assets', '    x Equity Multiplier (Assets/Equity)', 'CFO/Interest Expense', ' = Reinvestment Rate (%)', ' Per Share', 'Book Value per Share', 'LT Debt/EBITDA', 'Quick Ratio (x)', 'Current Ratio (x)', 'Free Cash Flow per Share', 'Total Shares Outstanding  (M)', 'Capex To Sales', 'Asset Turnover ', 'Return on Assets', 'Sales per Share', 'Cash & ST Inv/Current Assets', 'Price/Tangible Book Value', 'EPS (diluted)', 'LT Debt/Total Capital', 'EBIT (Operating Income) per Share', ' Operating Cycle - Days', 'Return on Common Equity', 'Price/Book Value', ' = Return on Equity (%)', 'LT Debt/Total Assets', '    x Earnings Retention (1-Payout) (%)', ' Valuation', 'Free Cash Flow Margin', 'Price/Sales', 'Price/Earnings', 'Net Debt/EBITDA', 'Total Debt/Equity (%)', 'EBITDA-Capex/Interest Expense', ' Asset Turnover Analysis', 'Net Debt/FFO', 'Return on Equity ', 'Net Debt/Total Capital', 'Return on Total Capital', 'All figures in millions of U.S. Dollar except per share items.', 'Cash Flow per Share', 'LT Debt/Total Equity', ' Operating Efficiency', 'Net Debt/Total Equity (%)', '   Days of Inventory on Hand', 'Pretax Margin', 'Enterprise Value/EBITDA', 'Tangible Book Value per Share', 'LT Debt/FFO', 'Working Capital Turnover', ' Coverage', 'Cash & ST Investments', ' Leverage', 'EPS (basic)', 'Cash Flow Return on Invested Capital', '    - Days of Payables Outstanding', ' = Pretax Return on Assets (%)', 'Enterprise Value/Sales', ' Liquidity', 'Receivables', '    x Tax Rate Complement (1-Tax Rate) (%)', 'Total Assets', 'EBIT/Interest Expense (Int. Coverage)', 'CFO/Current Liabilities', '   Asset Turnover (x)', '    + Days of Sales Outstanding', 'Note: EBIT Return on Assets (%)', 'Return on Invested Capital', 'Fixed-charge Coverage Ratio', ' = Return on Assets (%)', ' = Operating Cycle', 'Price/Free Cash Flow', ' DuPont Analysis', 'Operating Margin', 'Fixed Assets', '    x Pretax Margin (%)', 'Note: Interest as % Assets', 'EPS (recurring)', 'Net Margin'}\n"
     ]
    }
   ],
   "source": [
    "# DUK, JPM, GS\n",
    "#['MSFT', 'V', 'NFLX', 'SO', 'DUK', 'PLD', 'VZ', 'T', 'CVX', 'VMC', 'NVDA', 'GE', 'KO', 'JNJ', 'GS', 'HD', 'AMD', 'ADM', 'META', 'GOOGL', 'TSLA', 'JPM', 'XOM', 'AAPL']\n",
    "stocks = [\"MSFT\", \"AAPL\", \"GOOGL\", 'V', 'NFLX', 'SO', 'DUK', 'VZ', 'T', 'CVX', 'VMC', 'NVDA', 'GE', 'KO', 'JNJ', 'HD', 'AMD', 'ADM', 'META', 'TSLA', 'XOM'] \n",
    "column_name = \"Financial Ratio\"      \n",
    "common_items = set(financials[stocks[0]][column_name])\n",
    "for stock in stocks[1:]:\n",
    "    current_items = set(financials[stock][column_name])\n",
    "    common_items = common_items.intersection(current_items)\n",
    "if common_items:\n",
    "    print(f\"Los siguientes ítems son comunes en todos los tickers: {common_items}\")\n",
    "else:\n",
    "    print(\"No hay ítems comunes en todos los tickers.\")"
   ]
  },
  {
   "cell_type": "code",
   "execution_count": 34,
   "id": "0ab21963-9594-43e3-81c5-33f2122eb694",
   "metadata": {},
   "outputs": [
    {
     "ename": "ValueError",
     "evalue": "Invalid frequency: ME",
     "output_type": "error",
     "traceback": [
      "\u001b[1;31m---------------------------------------------------------------------------\u001b[0m",
      "\u001b[1;31mKeyError\u001b[0m                                  Traceback (most recent call last)",
      "File \u001b[1;32moffsets.pyx:4447\u001b[0m, in \u001b[0;36mpandas._libs.tslibs.offsets._get_offset\u001b[1;34m()\u001b[0m\n",
      "\u001b[1;31mKeyError\u001b[0m: 'ME'",
      "\nThe above exception was the direct cause of the following exception:\n",
      "\u001b[1;31mValueError\u001b[0m                                Traceback (most recent call last)",
      "File \u001b[1;32moffsets.pyx:4549\u001b[0m, in \u001b[0;36mpandas._libs.tslibs.offsets.to_offset\u001b[1;34m()\u001b[0m\n",
      "File \u001b[1;32moffsets.pyx:4453\u001b[0m, in \u001b[0;36mpandas._libs.tslibs.offsets._get_offset\u001b[1;34m()\u001b[0m\n",
      "\u001b[1;31mValueError\u001b[0m: Invalid frequency: ME",
      "\nThe above exception was the direct cause of the following exception:\n",
      "\u001b[1;31mValueError\u001b[0m                                Traceback (most recent call last)",
      "Cell \u001b[1;32mIn[34], line 2\u001b[0m\n\u001b[0;32m      1\u001b[0m strategy \u001b[38;5;241m=\u001b[39m TestStrategy(prices, financials, offensive_tickers, defensive_tickers, protective_tickers)\n\u001b[1;32m----> 2\u001b[0m chosen_universe \u001b[38;5;241m=\u001b[39m strategy\u001b[38;5;241m.\u001b[39mrun_strategy(start_date\u001b[38;5;241m=\u001b[39m\u001b[38;5;124m'\u001b[39m\u001b[38;5;124m2014-09-01\u001b[39m\u001b[38;5;124m'\u001b[39m)\n",
      "File \u001b[1;32m~\\OneDrive\\Documentos\\GitHub\\New_Asset_Allocation\\Functionscopy.py:341\u001b[0m, in \u001b[0;36mTestStrategy.run_strategy\u001b[1;34m(self, start_date, end_date)\u001b[0m\n\u001b[0;32m    338\u001b[0m results \u001b[38;5;241m=\u001b[39m []\n\u001b[0;32m    340\u001b[0m \u001b[38;5;28;01mwhile\u001b[39;00m decision_date \u001b[38;5;241m<\u001b[39m\u001b[38;5;241m=\u001b[39m end_date:\n\u001b[1;32m--> 341\u001b[0m     chosen_universe \u001b[38;5;241m=\u001b[39m \u001b[38;5;28mself\u001b[39m\u001b[38;5;241m.\u001b[39mdecide_universe(decision_date)\n\u001b[0;32m    342\u001b[0m     selected_stocks \u001b[38;5;241m=\u001b[39m \u001b[38;5;28mself\u001b[39m\u001b[38;5;241m.\u001b[39mselect_top_stocks(chosen_universe, decision_date)\n\u001b[0;32m    344\u001b[0m     results\u001b[38;5;241m.\u001b[39mappend({\n\u001b[0;32m    345\u001b[0m         \u001b[38;5;124m'\u001b[39m\u001b[38;5;124mDate\u001b[39m\u001b[38;5;124m'\u001b[39m: decision_date,\n\u001b[0;32m    346\u001b[0m         \u001b[38;5;124m'\u001b[39m\u001b[38;5;124mChosen Universe\u001b[39m\u001b[38;5;124m'\u001b[39m: chosen_universe,\n\u001b[0;32m    347\u001b[0m         \u001b[38;5;124m'\u001b[39m\u001b[38;5;124mSelected Stocks\u001b[39m\u001b[38;5;124m'\u001b[39m: selected_stocks\n\u001b[0;32m    348\u001b[0m     })\n",
      "File \u001b[1;32m~\\OneDrive\\Documentos\\GitHub\\New_Asset_Allocation\\Functionscopy.py:184\u001b[0m, in \u001b[0;36mTestStrategy.decide_universe\u001b[1;34m(self, date)\u001b[0m\n\u001b[0;32m    174\u001b[0m \u001b[38;5;28;01mdef\u001b[39;00m \u001b[38;5;21mdecide_universe\u001b[39m(\u001b[38;5;28mself\u001b[39m, date):\n\u001b[0;32m    175\u001b[0m \u001b[38;5;250m    \u001b[39m\u001b[38;5;124;03m\"\"\"\u001b[39;00m\n\u001b[0;32m    176\u001b[0m \u001b[38;5;124;03m    Decide whether to choose the Defensive or Offensive universe based on the momentum of Protective tickers.\u001b[39;00m\n\u001b[0;32m    177\u001b[0m \u001b[38;5;124;03m    \u001b[39;00m\n\u001b[1;32m   (...)\u001b[0m\n\u001b[0;32m    182\u001b[0m \u001b[38;5;124;03m    str: 'Defensive' if the momentum of Protective tickers is negative, 'Offensive' if positive.\u001b[39;00m\n\u001b[0;32m    183\u001b[0m \u001b[38;5;124;03m    \"\"\"\u001b[39;00m\n\u001b[1;32m--> 184\u001b[0m     momentum_data \u001b[38;5;241m=\u001b[39m \u001b[38;5;28mself\u001b[39m\u001b[38;5;241m.\u001b[39mget_momentum(end_date\u001b[38;5;241m=\u001b[39mdate)\n\u001b[0;32m    186\u001b[0m     avg_momentum \u001b[38;5;241m=\u001b[39m pd\u001b[38;5;241m.\u001b[39mSeries(momentum_data)\u001b[38;5;241m.\u001b[39mmean()\n\u001b[0;32m    188\u001b[0m     momentum_data[\u001b[38;5;124m'\u001b[39m\u001b[38;5;124mAverage\u001b[39m\u001b[38;5;124m'\u001b[39m] \u001b[38;5;241m=\u001b[39m avg_momentum\n",
      "File \u001b[1;32m~\\OneDrive\\Documentos\\GitHub\\New_Asset_Allocation\\Functionscopy.py:158\u001b[0m, in \u001b[0;36mTestStrategy.get_momentum\u001b[1;34m(self, window, end_date)\u001b[0m\n\u001b[0;32m    156\u001b[0m \u001b[38;5;28;01mfor\u001b[39;00m ticker \u001b[38;5;129;01min\u001b[39;00m \u001b[38;5;28mself\u001b[39m\u001b[38;5;241m.\u001b[39mprotective:\n\u001b[0;32m    157\u001b[0m     \u001b[38;5;28;01mif\u001b[39;00m ticker \u001b[38;5;129;01min\u001b[39;00m \u001b[38;5;28mself\u001b[39m\u001b[38;5;241m.\u001b[39mprices:\n\u001b[1;32m--> 158\u001b[0m         price_data \u001b[38;5;241m=\u001b[39m \u001b[38;5;28mself\u001b[39m\u001b[38;5;241m.\u001b[39mprices[ticker]\u001b[38;5;241m.\u001b[39mresample(\u001b[38;5;124m'\u001b[39m\u001b[38;5;124mME\u001b[39m\u001b[38;5;124m'\u001b[39m)\u001b[38;5;241m.\u001b[39mlast()\n\u001b[0;32m    159\u001b[0m         returns \u001b[38;5;241m=\u001b[39m price_data\u001b[38;5;241m.\u001b[39mpct_change()\n\u001b[0;32m    161\u001b[0m         \u001b[38;5;28;01mif\u001b[39;00m end_date:\n",
      "File \u001b[1;32m~\\anaconda3\\Lib\\site-packages\\pandas\\core\\generic.py:9439\u001b[0m, in \u001b[0;36mNDFrame.resample\u001b[1;34m(self, rule, axis, closed, label, convention, kind, on, level, origin, offset, group_keys)\u001b[0m\n\u001b[0;32m   9436\u001b[0m \u001b[38;5;28;01melse\u001b[39;00m:\n\u001b[0;32m   9437\u001b[0m     axis \u001b[38;5;241m=\u001b[39m \u001b[38;5;241m0\u001b[39m\n\u001b[1;32m-> 9439\u001b[0m \u001b[38;5;28;01mreturn\u001b[39;00m get_resampler(\n\u001b[0;32m   9440\u001b[0m     cast(\u001b[38;5;124m\"\u001b[39m\u001b[38;5;124mSeries | DataFrame\u001b[39m\u001b[38;5;124m\"\u001b[39m, \u001b[38;5;28mself\u001b[39m),\n\u001b[0;32m   9441\u001b[0m     freq\u001b[38;5;241m=\u001b[39mrule,\n\u001b[0;32m   9442\u001b[0m     label\u001b[38;5;241m=\u001b[39mlabel,\n\u001b[0;32m   9443\u001b[0m     closed\u001b[38;5;241m=\u001b[39mclosed,\n\u001b[0;32m   9444\u001b[0m     axis\u001b[38;5;241m=\u001b[39maxis,\n\u001b[0;32m   9445\u001b[0m     kind\u001b[38;5;241m=\u001b[39mkind,\n\u001b[0;32m   9446\u001b[0m     convention\u001b[38;5;241m=\u001b[39mconvention,\n\u001b[0;32m   9447\u001b[0m     key\u001b[38;5;241m=\u001b[39mon,\n\u001b[0;32m   9448\u001b[0m     level\u001b[38;5;241m=\u001b[39mlevel,\n\u001b[0;32m   9449\u001b[0m     origin\u001b[38;5;241m=\u001b[39morigin,\n\u001b[0;32m   9450\u001b[0m     offset\u001b[38;5;241m=\u001b[39moffset,\n\u001b[0;32m   9451\u001b[0m     group_keys\u001b[38;5;241m=\u001b[39mgroup_keys,\n\u001b[0;32m   9452\u001b[0m )\n",
      "File \u001b[1;32m~\\anaconda3\\Lib\\site-packages\\pandas\\core\\resample.py:1969\u001b[0m, in \u001b[0;36mget_resampler\u001b[1;34m(obj, kind, **kwds)\u001b[0m\n\u001b[0;32m   1965\u001b[0m \u001b[38;5;28;01mdef\u001b[39;00m \u001b[38;5;21mget_resampler\u001b[39m(obj: Series \u001b[38;5;241m|\u001b[39m DataFrame, kind\u001b[38;5;241m=\u001b[39m\u001b[38;5;28;01mNone\u001b[39;00m, \u001b[38;5;241m*\u001b[39m\u001b[38;5;241m*\u001b[39mkwds) \u001b[38;5;241m-\u001b[39m\u001b[38;5;241m>\u001b[39m Resampler:\n\u001b[0;32m   1966\u001b[0m \u001b[38;5;250m    \u001b[39m\u001b[38;5;124;03m\"\"\"\u001b[39;00m\n\u001b[0;32m   1967\u001b[0m \u001b[38;5;124;03m    Create a TimeGrouper and return our resampler.\u001b[39;00m\n\u001b[0;32m   1968\u001b[0m \u001b[38;5;124;03m    \"\"\"\u001b[39;00m\n\u001b[1;32m-> 1969\u001b[0m     tg \u001b[38;5;241m=\u001b[39m TimeGrouper(\u001b[38;5;241m*\u001b[39m\u001b[38;5;241m*\u001b[39mkwds)\n\u001b[0;32m   1970\u001b[0m     \u001b[38;5;28;01mreturn\u001b[39;00m tg\u001b[38;5;241m.\u001b[39m_get_resampler(obj, kind\u001b[38;5;241m=\u001b[39mkind)\n",
      "File \u001b[1;32m~\\anaconda3\\Lib\\site-packages\\pandas\\core\\resample.py:2046\u001b[0m, in \u001b[0;36mTimeGrouper.__init__\u001b[1;34m(self, freq, closed, label, how, axis, fill_method, limit, kind, convention, origin, offset, group_keys, **kwargs)\u001b[0m\n\u001b[0;32m   2043\u001b[0m \u001b[38;5;28;01mif\u001b[39;00m convention \u001b[38;5;129;01mnot\u001b[39;00m \u001b[38;5;129;01min\u001b[39;00m {\u001b[38;5;28;01mNone\u001b[39;00m, \u001b[38;5;124m\"\u001b[39m\u001b[38;5;124mstart\u001b[39m\u001b[38;5;124m\"\u001b[39m, \u001b[38;5;124m\"\u001b[39m\u001b[38;5;124mend\u001b[39m\u001b[38;5;124m\"\u001b[39m, \u001b[38;5;124m\"\u001b[39m\u001b[38;5;124me\u001b[39m\u001b[38;5;124m\"\u001b[39m, \u001b[38;5;124m\"\u001b[39m\u001b[38;5;124ms\u001b[39m\u001b[38;5;124m\"\u001b[39m}:\n\u001b[0;32m   2044\u001b[0m     \u001b[38;5;28;01mraise\u001b[39;00m \u001b[38;5;167;01mValueError\u001b[39;00m(\u001b[38;5;124mf\u001b[39m\u001b[38;5;124m\"\u001b[39m\u001b[38;5;124mUnsupported value \u001b[39m\u001b[38;5;132;01m{\u001b[39;00mconvention\u001b[38;5;132;01m}\u001b[39;00m\u001b[38;5;124m for `convention`\u001b[39m\u001b[38;5;124m\"\u001b[39m)\n\u001b[1;32m-> 2046\u001b[0m freq \u001b[38;5;241m=\u001b[39m to_offset(freq)\n\u001b[0;32m   2048\u001b[0m end_types \u001b[38;5;241m=\u001b[39m {\u001b[38;5;124m\"\u001b[39m\u001b[38;5;124mM\u001b[39m\u001b[38;5;124m\"\u001b[39m, \u001b[38;5;124m\"\u001b[39m\u001b[38;5;124mA\u001b[39m\u001b[38;5;124m\"\u001b[39m, \u001b[38;5;124m\"\u001b[39m\u001b[38;5;124mQ\u001b[39m\u001b[38;5;124m\"\u001b[39m, \u001b[38;5;124m\"\u001b[39m\u001b[38;5;124mBM\u001b[39m\u001b[38;5;124m\"\u001b[39m, \u001b[38;5;124m\"\u001b[39m\u001b[38;5;124mBA\u001b[39m\u001b[38;5;124m\"\u001b[39m, \u001b[38;5;124m\"\u001b[39m\u001b[38;5;124mBQ\u001b[39m\u001b[38;5;124m\"\u001b[39m, \u001b[38;5;124m\"\u001b[39m\u001b[38;5;124mW\u001b[39m\u001b[38;5;124m\"\u001b[39m}\n\u001b[0;32m   2049\u001b[0m rule \u001b[38;5;241m=\u001b[39m freq\u001b[38;5;241m.\u001b[39mrule_code\n",
      "File \u001b[1;32moffsets.pyx:4460\u001b[0m, in \u001b[0;36mpandas._libs.tslibs.offsets.to_offset\u001b[1;34m()\u001b[0m\n",
      "File \u001b[1;32moffsets.pyx:4557\u001b[0m, in \u001b[0;36mpandas._libs.tslibs.offsets.to_offset\u001b[1;34m()\u001b[0m\n",
      "\u001b[1;31mValueError\u001b[0m: Invalid frequency: ME"
     ]
    }
   ],
   "source": [
    "strategy = TestStrategy(prices, financials, offensive_tickers, defensive_tickers, protective_tickers)\n",
    "chosen_universe = strategy.run_strategy(start_date='2014-09-01')"
   ]
  },
  {
   "cell_type": "code",
   "execution_count": 22,
   "id": "3c556df9-3640-4535-8e6a-e23f16ffe763",
   "metadata": {},
   "outputs": [
    {
     "ename": "NameError",
     "evalue": "name 'chosen_universe' is not defined",
     "output_type": "error",
     "traceback": [
      "\u001b[1;31m---------------------------------------------------------------------------\u001b[0m",
      "\u001b[1;31mNameError\u001b[0m                                 Traceback (most recent call last)",
      "Cell \u001b[1;32mIn[22], line 1\u001b[0m\n\u001b[1;32m----> 1\u001b[0m chosen_universe\n",
      "\u001b[1;31mNameError\u001b[0m: name 'chosen_universe' is not defined"
     ]
    }
   ],
   "source": [
    "chosen_universe"
   ]
  },
  {
   "cell_type": "code",
   "execution_count": null,
   "id": "e9ccdc18-7e87-403f-88b3-918972aba5e1",
   "metadata": {},
   "outputs": [],
   "source": []
  }
 ],
 "metadata": {
  "kernelspec": {
   "display_name": "Python 3 (ipykernel)",
   "language": "python",
   "name": "python3"
  },
  "language_info": {
   "codemirror_mode": {
    "name": "ipython",
    "version": 3
   },
   "file_extension": ".py",
   "mimetype": "text/x-python",
   "name": "python",
   "nbconvert_exporter": "python",
   "pygments_lexer": "ipython3",
   "version": "3.11.7"
  }
 },
 "nbformat": 4,
 "nbformat_minor": 5
}

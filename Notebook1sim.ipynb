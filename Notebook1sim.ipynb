{
 "cells": [
  {
   "cell_type": "code",
   "execution_count": null,
   "id": "81f181fd-8628-4beb-8baf-c38367a268f2",
   "metadata": {},
   "outputs": [],
   "source": [
    "from Functions1 import LoadData\n",
    "from Functions1 import TestStrategy\n",
    "from Functions1 import DynamicBacktest\n",
    "import os\n",
    "import pandas as pd\n",
    "import matplotlib.pyplot as plt\n",
    "import itertools\n",
    "import random\n",
    "import matplotlib.pyplot as plt"
   ]
  },
  {
   "cell_type": "markdown",
   "id": "2b37f6a4-26a8-4742-94ee-419d8c6c856f",
   "metadata": {},
   "source": [
    "### Carga de datos"
   ]
  },
  {
   "cell_type": "code",
   "execution_count": null,
   "id": "06143fb6-1ec0-480d-9e90-56af4a3f1867",
   "metadata": {},
   "outputs": [],
   "source": [
    "current_directory = os.getcwd()\n",
    "path = os.path.join(current_directory, 'Stocks_financials')\n",
    "\n",
    "loader = LoadData(path)\n",
    "prices, financials = loader.Load(start_date='2005-09-01', end_date=None)"
   ]
  },
  {
   "cell_type": "markdown",
   "id": "818fefcf-8f50-4dcd-9f77-b46a57eec1a4",
   "metadata": {},
   "source": [
    "### Escenario unico"
   ]
  },
  {
   "cell_type": "code",
   "execution_count": null,
   "id": "302750e0-40dd-471d-8a3e-2b9cb06645a5",
   "metadata": {},
   "outputs": [],
   "source": [
    "offensive_tickers = [\"MSFT\", \"AAPL\", \"GOOGL\", 'V', 'NFLX', 'SO', 'DUK', 'VZ', 'T', 'CVX', 'VMC', 'NVDA', 'GE', 'KO', 'JNJ', 'HD', 'AMD', 'ADM', 'META', 'TSLA', 'XOM']   \n",
    "defensive_tickers = ['COST', 'DUK', 'JNJ', 'KO', 'LMT']      \n",
    "canary_tickers = ['MSFT', 'V', 'NFLX', 'SO', 'DUK', 'PLD', 'VZ', 'T', 'CVX', 'VMC', 'NVDA', 'GE',\n",
    "                      'KO', 'JNJ', 'GS', 'HD', 'AMD', 'ADM', 'META', 'GOOGL', 'TSLA', 'JPM', 'XOM', 'AAPL']    "
   ]
  },
  {
   "cell_type": "code",
   "execution_count": null,
   "id": "16d500c0-d0af-48a7-ad54-bb6eab308cb8",
   "metadata": {},
   "outputs": [],
   "source": [
    "strategy = TestStrategy(prices, financials, offensive_tickers, defensive_tickers, canary_tickers)\n",
    "chosen_universe = strategy.run_strategy(start_date='2005-09-01')\n",
    "chosen_universe.head(8)"
   ]
  },
  {
   "cell_type": "code",
   "execution_count": null,
   "id": "2c7e549f-63d1-4d3d-983d-8a67d98bd0f2",
   "metadata": {},
   "outputs": [],
   "source": [
    "backtest = DynamicBacktest(chosen_universe, prices, 1000000)\n",
    "port_values = backtest.get_portfolio_values()\n",
    "port_values"
   ]
  },
  {
   "cell_type": "code",
   "execution_count": null,
   "id": "6092e80c-2af7-47c3-ab05-219130f3add3",
   "metadata": {},
   "outputs": [],
   "source": [
    "backtest.plot_strategies()"
   ]
  },
  {
   "cell_type": "code",
   "execution_count": null,
   "id": "5b81a7c1-2b0f-40f2-a5eb-47c7e6547dd1",
   "metadata": {
    "scrolled": true
   },
   "outputs": [],
   "source": [
    "backtest.evaluate_portfolios().T"
   ]
  },
  {
   "cell_type": "markdown",
   "id": "7751477e-f977-401a-87fb-99f2462a540f",
   "metadata": {},
   "source": [
    "-------"
   ]
  },
  {
   "cell_type": "markdown",
   "id": "9dc41ebc-d8dc-4388-9f62-657965f261c6",
   "metadata": {},
   "source": [
    "### Simulaciones del metodo con Portafolios aleatorios"
   ]
  },
  {
   "cell_type": "code",
   "execution_count": null,
   "id": "bd553ef4-9438-4902-a88a-4237edd24173",
   "metadata": {},
   "outputs": [],
   "source": [
    "offensive_tickers = ['AAPL', 'ADM', 'ADSK', 'AMD', 'CAT', 'CRM', 'CVX', 'DE', 'DOW', 'GE', 'GOOGL', 'HD', 'HON',\n",
    "                     'MMM', 'MSFT', 'NFLX', 'NVDA', 'QCOM', 'RTX', 'TGT', 'TRYIY', 'TSLA', 'TXN', 'V', 'VMC', 'XOM']\n",
    "\n",
    "defensive_tickers = ['CL', 'COST', 'DUK', 'JNJ', 'KO', 'LMT', 'MCD', 'MDLZ', 'MRK', 'PG', 'SO',\n",
    " 'SRE', 'T', 'VZ', 'WMT', 'ZBH'] \n",
    "\n",
    "canary_tickers = [\n",
    "    # Tecnología\n",
    "    'AAPL', 'MSFT', 'NVDA',\n",
    "    # Finanzas\n",
    "    'JPM', 'GS',\n",
    "    # Energía\n",
    "    'XOM', 'CVX',\n",
    "    # Consumo Discrecional\n",
    "    'TSLA', 'HD',\n",
    "    # Consumo Básico\n",
    "    'PG', 'KO',\n",
    "    # Salud\n",
    "    'JNJ', 'ABBV',\n",
    "    # Industriales\n",
    "    'CAT', 'HON', 'MMM',\n",
    "    # Telecomunicaciones\n",
    "    'VZ', 'T',\n",
    "    # Bienes Raíces\n",
    "    'PLD',\n",
    "    # Materiales\n",
    "    'VMC',\n",
    "    # Utilidades\n",
    "    'DUK'\n",
    "]"
   ]
  },
  {
   "cell_type": "code",
   "execution_count": null,
   "id": "7bcd2f43-aa04-432c-9f88-533ad79b1142",
   "metadata": {
    "scrolled": true
   },
   "outputs": [],
   "source": [
    "n_portfolios = 100\n",
    "\n",
    "def get_random_combinations(tickers, n, sample_size):\n",
    "    try:\n",
    "        return random.sample(list(itertools.combinations(tickers, n)), sample_size)\n",
    "    except ValueError as e:\n",
    "        print(f\"Error while generating combinations: {e}\")\n",
    "        return []\n",
    "\n",
    "offensive_combinations = get_random_combinations(offensive_tickers, 16, n_portfolios)\n",
    "defensive_combinations = get_random_combinations(defensive_tickers, 5, n_portfolios)\n",
    "\n",
    "results = []\n",
    "\n",
    "for offensive_combo, defensive_combo in zip(offensive_combinations, defensive_combinations):\n",
    "    \n",
    "\n",
    "    try:\n",
    "        strategy = TestStrategy(prices, financials, list(offensive_combo), list(defensive_combo), canary_tickers)\n",
    "        \n",
    "        chosen_universe = strategy.run_strategy(start_date='2005-09-01')\n",
    "        \n",
    "        backtest = DynamicBacktest(chosen_universe, prices, 1000000)\n",
    "        port_values = backtest.get_portfolio_values()\n",
    "        evaluation = backtest.evaluate_portfolios().T\n",
    "        \n",
    "        results.append({\n",
    "            'Offensive Combination': offensive_combo,\n",
    "            'Defensive Combination': defensive_combo,\n",
    "            'Evaluation': evaluation\n",
    "        })\n",
    "        \n",
    "    except Exception as e:\n",
    "        print(f\"Error with offensive {offensive_combo} and defensive {defensive_combo}: {str(e)}\")\n",
    "\n",
    "final_results = pd.DataFrame(results)"
   ]
  },
  {
   "cell_type": "code",
   "execution_count": null,
   "id": "faf1272b-ca1e-47a9-bfd7-33e253a97bf6",
   "metadata": {},
   "outputs": [],
   "source": [
    "all_evaluations = pd.concat([result['Evaluation'] for result in results], keys=range(len(results)))\n",
    "\n",
    "average_evaluation = all_evaluations.groupby(level=1).mean()"
   ]
  },
  {
   "cell_type": "code",
   "execution_count": null,
   "id": "2e60fe84-4712-41f4-be51-64414e4de453",
   "metadata": {},
   "outputs": [],
   "source": [
    "metric_summary = pd.DataFrame({\n",
    "    'Offensive Combination': [result['Offensive Combination'] for result in results],\n",
    "    'Defensive Combination': [result['Defensive Combination'] for result in results],\n",
    "    'Sharpe Ratio': [result['Evaluation'].loc['Sharpe Ratio', 'Sharpe'] for result in results],\n",
    "    'CAGR': [result['Evaluation'].loc['CAGR', 'Sharpe'] for result in results],\n",
    "    'Max Drawdown': [result['Evaluation'].loc['Max Drawdown', 'Sharpe'] for result in results]\n",
    "})\n",
    "\n",
    "best_sharpe_portfolio = metric_summary.loc[metric_summary['Sharpe Ratio'].idxmax()]\n",
    "best_cagr_portfolio = metric_summary.loc[metric_summary['CAGR'].idxmax()]\n",
    "best_drawdown_portfolio = metric_summary.loc[metric_summary['Max Drawdown'].idxmin()]"
   ]
  },
  {
   "cell_type": "code",
   "execution_count": null,
   "id": "d7e274f2-9095-47ee-b4fa-5c197f412eb1",
   "metadata": {},
   "outputs": [],
   "source": [
    "fig, ax = plt.subplots(figsize=(12, 6))\n",
    "average_evaluation['Sharpe'].plot(ax=ax, label='Promedio de todas las combinaciones', linestyle='--', color='blue')\n",
    "best_sharpe_portfolio['Sharpe Ratio'].plot(ax=ax, label='Mejor Portafolio (Sharpe Ratio)', linestyle='-', color='green')\n",
    "plt.title('Comparación de Rendimiento Basado en Sharpe Ratio')\n",
    "plt.ylabel('Sharpe Ratio')\n",
    "plt.xlabel('Fecha')\n",
    "plt.legend()\n",
    "plt.grid(True)\n",
    "plt.show()"
   ]
  },
  {
   "cell_type": "markdown",
   "id": "f01fafa5-bca5-46d1-b7a6-4e7361dcf73e",
   "metadata": {},
   "source": [
    "--------"
   ]
  },
  {
   "cell_type": "code",
   "execution_count": null,
   "id": "f0da82e8-1767-4b3c-b577-b5b41fc83044",
   "metadata": {},
   "outputs": [],
   "source": [
    "\n",
    "ratios_to_check = [\n",
    "    'Return on Common Equity',\n",
    "    'Operating Margin',\n",
    "    'Cash Flow per Share',\n",
    "    'Current Ratio (x)',\n",
    "    'Total Debt/Equity (%)',\n",
    "    'Total Shares Outstanding  (M)',\n",
    "    'Price/Earnings'\n",
    "]\n",
    "\n",
    "tickers_with_all_ratios = []\n",
    "\n",
    "for ticker, df in financials.items():\n",
    "    if all(ratio in df['Financial Ratio'].values for ratio in ratios_to_check):\n",
    "        tickers_with_all_ratios.append(ticker)\n",
    "\n",
    "tickers_with_all_ratios"
   ]
  },
  {
   "cell_type": "code",
   "execution_count": null,
   "id": "c88abeca-4572-4634-8b09-66f708f949c8",
   "metadata": {},
   "outputs": [],
   "source": [
    "all_tickers = [\n",
    "    'AAPL', 'ABBV', 'ADM', 'ADSK', 'AFL', 'AMD', 'CAT', 'CL', 'COST', 'CRM', 'CVX',\n",
    "    'DE', 'DOW', 'DUK', 'GE', 'GOOGL', 'GS', 'HD', 'HON', 'JNJ', 'JPM', 'KO', 'LMT', \n",
    "    'MCD', 'MDLZ', 'META', 'MMM', 'MRK', 'MSFT', 'NFLX', 'NVDA', 'PG', 'PLD', 'QCOM', \n",
    "    'RTX', 'SO', 'SRE', 'T', 'TGT', 'TRYIY', 'TSLA', 'TXN', 'V', 'VMC', 'VZ', 'WMT', \n",
    "    'XOM', 'ZBH'\n",
    "]\n",
    "\n",
    "tickers_without_all_ratios = [ticker for ticker in all_tickers if ticker not in tickers_with_all_ratios]\n",
    "tickers_without_all_ratios"
   ]
  },
  {
   "cell_type": "code",
   "execution_count": null,
   "id": "e523c05c-a726-49ba-add6-d89d404eae6d",
   "metadata": {},
   "outputs": [],
   "source": [
    "tickers_to_check = [\n",
    "    'ABBV', 'CL', 'COST', 'DUK', 'JNJ', 'KO', 'LMT', 'MCD', 'MDLZ', 'MRK', \n",
    "    'PG', 'SO', 'SRE', 'T', 'VZ', 'WMT', 'ZBH'\n",
    "]\n",
    "\n",
    "tickers_with_initial_date = []\n",
    "\n",
    "for ticker in tickers_to_check:\n",
    "    first_date = pd.to_datetime(prices[ticker].index[0])\n",
    "    \n",
    "    if first_date == pd.to_datetime('2005-09-01'):\n",
    "        tickers_with_initial_date.append(ticker)\n",
    "\n",
    "tickers_with_initial_date"
   ]
  },
  {
   "cell_type": "code",
   "execution_count": null,
   "id": "17d08307-f5a4-429e-ad74-5452a5ba84e1",
   "metadata": {},
   "outputs": [],
   "source": [
    "missing_tickers = [ticker for ticker in canary_tickers if ticker not in all_tickers]\n",
    "\n",
    "missing_tickers"
   ]
  },
  {
   "cell_type": "code",
   "execution_count": null,
   "id": "0c8a7f6f-9b28-4086-89fb-08f9703e032c",
   "metadata": {},
   "outputs": [],
   "source": []
  },
  {
   "cell_type": "code",
   "execution_count": null,
   "id": "a8e71ef3-796a-42a5-b142-860b973e7ebc",
   "metadata": {},
   "outputs": [],
   "source": [
    "\n",
    "\n",
    "\n"
   ]
  }
 ],
 "metadata": {
  "kernelspec": {
   "display_name": "Python 3 (ipykernel)",
   "language": "python",
   "name": "python3"
  },
  "language_info": {
   "codemirror_mode": {
    "name": "ipython",
    "version": 3
   },
   "file_extension": ".py",
   "mimetype": "text/x-python",
   "name": "python",
   "nbconvert_exporter": "python",
   "pygments_lexer": "ipython3",
   "version": "3.12.4"
  }
 },
 "nbformat": 4,
 "nbformat_minor": 5
}

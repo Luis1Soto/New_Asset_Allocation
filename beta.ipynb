{
 "cells": [
  {
   "cell_type": "code",
   "execution_count": 1,
   "id": "7fa78983-9359-4c8b-b7a2-b64298b60b5f",
   "metadata": {},
   "outputs": [],
   "source": [
    "from Functions1 import LoadData\n",
    "from Functions1 import TestStrategy\n",
    "from Functions1 import DynamicBacktest\n",
    "import os\n",
    "import pandas as pd\n",
    "import yfinance as yf\n",
    "import itertools\n",
    "import random\n",
    "import matplotlib.pyplot as plt"
   ]
  },
  {
   "cell_type": "code",
   "execution_count": 2,
   "id": "e8ccb5b8-c2b9-46af-b3d4-1ff321d3f017",
   "metadata": {},
   "outputs": [],
   "source": [
    "## Le damos ventana de tiempo?? "
   ]
  },
  {
   "cell_type": "code",
   "execution_count": 3,
   "id": "ae8587e9-9cad-4ea7-b6d5-1e8f9e6beed6",
   "metadata": {},
   "outputs": [
    {
     "name": "stdout",
     "output_type": "stream",
     "text": [
      "Data processed for the following tickers: AAPL, ABBV, ADBE, ABNB, ABT, ACN, ADI, ADM, ADP, ADSK, AFL, AMAT, AMD, AMGN, AMT, AMZN, ANET, APH, AVGO, AXP, BA, BAC, BKNG, BLK, BMY, BRK-B, BSX, BX, C, CAT, CB, CL, CMCSA, COP, COST, CRM, CSCO, CTAS, CVX, DE, DELL, DHR, DIS, DOW, DUK, ELV, EQIX, ETN, FI, GE, GILD, GOOG, GOOGL, GS, HCA, HD, HON, IBM, ICE, INTC, INTU, ISRG, JNJ, JPM, KKR, KLAC, KO, LIN, LLY, LMT, LOW, LRCX, MA, MCD, MCO, MDLZ, MDT, META, MMC, MMM, MO, MRK, MS, MSFT, MU, NEE, NFLX, NKE, NOW, NVDA, ORCL, PANW, PEP, PFE, PG, PGR, PLD, PLTR, PM, QCOM, REGN, RTX, SBUX, SCHW, SHW, SO, SPGI, SRE, SYK, T, TGT, TJX, TMO, TMUS, TRYIY, TSLA, TT, TXN, UBER, UNH, UNP, UPS, V, VMC, VRTX, VZ, WFC, WMT, XOM, ZBH\n",
      "Datos cargados desde el archivo prices.pkl\n"
     ]
    }
   ],
   "source": [
    "current_directory = os.getcwd()\n",
    "path = os.path.join(current_directory, 'Stocks_financials')\n",
    "\n",
    "loader = LoadData(path)\n",
    "prices, financials = loader.Load(start_date='2005-09-01', end_date=None)"
   ]
  },
  {
   "cell_type": "code",
   "execution_count": 9,
   "id": "cb0f54d3-d07e-40d8-855a-a8224fcf2707",
   "metadata": {},
   "outputs": [
    {
     "ename": "AttributeError",
     "evalue": "'LoadData' object has no attribute 'load_prices'",
     "output_type": "error",
     "traceback": [
      "\u001b[1;31m---------------------------------------------------------------------------\u001b[0m",
      "\u001b[1;31mAttributeError\u001b[0m                            Traceback (most recent call last)",
      "Cell \u001b[1;32mIn[9], line 1\u001b[0m\n\u001b[1;32m----> 1\u001b[0m universes \u001b[38;5;241m=\u001b[39m loader\u001b[38;5;241m.\u001b[39mbeta(start_date\u001b[38;5;241m=\u001b[39m\u001b[38;5;124m\"\u001b[39m\u001b[38;5;124m2005-09-01\u001b[39m\u001b[38;5;124m\"\u001b[39m)\n\u001b[0;32m      3\u001b[0m offensive_tickers \u001b[38;5;241m=\u001b[39m universes[\u001b[38;5;124m\"\u001b[39m\u001b[38;5;124moffensive_universe\u001b[39m\u001b[38;5;124m\"\u001b[39m]   \n\u001b[0;32m      4\u001b[0m defensive_tickers \u001b[38;5;241m=\u001b[39m universes[\u001b[38;5;124m\"\u001b[39m\u001b[38;5;124mdefensive_universe\u001b[39m\u001b[38;5;124m\"\u001b[39m]\n",
      "File \u001b[1;32m~\\Documents\\Git\\New_Asset_Allocation\\Functions1.py:111\u001b[0m, in \u001b[0;36mLoadData.beta\u001b[1;34m(self, start_date, end_date, market_index)\u001b[0m\n\u001b[0;32m    108\u001b[0m market_returns \u001b[38;5;241m=\u001b[39m market_data[\u001b[38;5;124m'\u001b[39m\u001b[38;5;124mClose\u001b[39m\u001b[38;5;124m'\u001b[39m]\u001b[38;5;241m.\u001b[39mpct_change()\u001b[38;5;241m.\u001b[39mdropna()\n\u001b[0;32m    110\u001b[0m \u001b[38;5;66;03m# Descargar precios y calcular betas\u001b[39;00m\n\u001b[1;32m--> 111\u001b[0m \u001b[38;5;28;01mfor\u001b[39;00m ticker, data \u001b[38;5;129;01min\u001b[39;00m \u001b[38;5;28mself\u001b[39m\u001b[38;5;241m.\u001b[39mload_prices(start_date, end_date)[\u001b[38;5;241m0\u001b[39m]\u001b[38;5;241m.\u001b[39mitems():\n\u001b[0;32m    112\u001b[0m     stock_returns \u001b[38;5;241m=\u001b[39m data\u001b[38;5;241m.\u001b[39mpct_change()\u001b[38;5;241m.\u001b[39mdropna()\n\u001b[0;32m    114\u001b[0m     \u001b[38;5;66;03m# Encontrar la intersección de fechas\u001b[39;00m\n",
      "\u001b[1;31mAttributeError\u001b[0m: 'LoadData' object has no attribute 'load_prices'"
     ]
    }
   ],
   "source": [
    "universes = loader.beta(start_date=\"2005-09-01\")\n",
    "\n",
    "offensive_tickers = universes[\"offensive_universe\"]   \n",
    "defensive_tickers = universes[\"defensive_universe\"]"
   ]
  },
  {
   "cell_type": "code",
   "execution_count": 7,
   "id": "9d00fbcd-b20f-4256-aa26-59327dabea33",
   "metadata": {},
   "outputs": [
    {
     "ename": "AttributeError",
     "evalue": "'LoadData' object has no attribute 'load_prices'",
     "output_type": "error",
     "traceback": [
      "\u001b[1;31m---------------------------------------------------------------------------\u001b[0m",
      "\u001b[1;31mAttributeError\u001b[0m                            Traceback (most recent call last)",
      "Cell \u001b[1;32mIn[7], line 1\u001b[0m\n\u001b[1;32m----> 1\u001b[0m universes \u001b[38;5;241m=\u001b[39m loader\u001b[38;5;241m.\u001b[39mbeta(start_date\u001b[38;5;241m=\u001b[39m\u001b[38;5;124m\"\u001b[39m\u001b[38;5;124m2005-09-01\u001b[39m\u001b[38;5;124m\"\u001b[39m, end_date\u001b[38;5;241m=\u001b[39m\u001b[38;5;124m\"\u001b[39m\u001b[38;5;124m2022-01-01\u001b[39m\u001b[38;5;124m\"\u001b[39m)\n\u001b[0;32m      2\u001b[0m \u001b[38;5;28mprint\u001b[39m(\u001b[38;5;124m\"\u001b[39m\u001b[38;5;124mUniverso Defensivo:\u001b[39m\u001b[38;5;124m\"\u001b[39m, universes[\u001b[38;5;124m\"\u001b[39m\u001b[38;5;124mdefensive_universe\u001b[39m\u001b[38;5;124m\"\u001b[39m])\n\u001b[0;32m      3\u001b[0m \u001b[38;5;28mprint\u001b[39m(\u001b[38;5;124m\"\u001b[39m\u001b[38;5;124mUniverso Ofensivo:\u001b[39m\u001b[38;5;124m\"\u001b[39m, universes[\u001b[38;5;124m\"\u001b[39m\u001b[38;5;124moffensive_universe\u001b[39m\u001b[38;5;124m\"\u001b[39m])\n",
      "File \u001b[1;32m~\\Documents\\Git\\New_Asset_Allocation\\Functions1.py:111\u001b[0m, in \u001b[0;36mLoadData.beta\u001b[1;34m(self, start_date, end_date, market_index)\u001b[0m\n\u001b[0;32m    108\u001b[0m market_returns \u001b[38;5;241m=\u001b[39m market_data[\u001b[38;5;124m'\u001b[39m\u001b[38;5;124mClose\u001b[39m\u001b[38;5;124m'\u001b[39m]\u001b[38;5;241m.\u001b[39mpct_change()\u001b[38;5;241m.\u001b[39mdropna()\n\u001b[0;32m    110\u001b[0m \u001b[38;5;66;03m# Descargar precios y calcular betas\u001b[39;00m\n\u001b[1;32m--> 111\u001b[0m \u001b[38;5;28;01mfor\u001b[39;00m ticker, data \u001b[38;5;129;01min\u001b[39;00m \u001b[38;5;28mself\u001b[39m\u001b[38;5;241m.\u001b[39mload_prices(start_date, end_date)[\u001b[38;5;241m0\u001b[39m]\u001b[38;5;241m.\u001b[39mitems():\n\u001b[0;32m    112\u001b[0m     stock_returns \u001b[38;5;241m=\u001b[39m data\u001b[38;5;241m.\u001b[39mpct_change()\u001b[38;5;241m.\u001b[39mdropna()\n\u001b[0;32m    114\u001b[0m     \u001b[38;5;66;03m# Encontrar la intersección de fechas\u001b[39;00m\n",
      "\u001b[1;31mAttributeError\u001b[0m: 'LoadData' object has no attribute 'load_prices'"
     ]
    }
   ],
   "source": [
    "universes = loader.beta(start_date=\"2005-09-01\", end_date=\"2022-01-01\")\n",
    "print(\"Universo Defensivo:\", universes[\"defensive_universe\"])\n",
    "print(\"Universo Ofensivo:\", universes[\"offensive_universe\"])"
   ]
  },
  {
   "cell_type": "code",
   "execution_count": 5,
   "id": "b7349478-6085-45d3-9690-a00a8ad74905",
   "metadata": {},
   "outputs": [
    {
     "data": {
      "text/plain": [
       "122"
      ]
     },
     "execution_count": 5,
     "metadata": {},
     "output_type": "execute_result"
    }
   ],
   "source": [
    "len(universes[\"offensive_universe\"])"
   ]
  },
  {
   "cell_type": "code",
   "execution_count": null,
   "id": "3f56316b-a6c4-42b3-8b24-f42b347c3bca",
   "metadata": {},
   "outputs": [],
   "source": [
    "len(universes[\"offensive_universe\"])"
   ]
  },
  {
   "cell_type": "code",
   "execution_count": null,
   "id": "94e5b826-7f4b-4b2c-b19a-281e3ca99f4e",
   "metadata": {},
   "outputs": [],
   "source": []
  }
 ],
 "metadata": {
  "kernelspec": {
   "display_name": "Python 3 (ipykernel)",
   "language": "python",
   "name": "python3"
  },
  "language_info": {
   "codemirror_mode": {
    "name": "ipython",
    "version": 3
   },
   "file_extension": ".py",
   "mimetype": "text/x-python",
   "name": "python",
   "nbconvert_exporter": "python",
   "pygments_lexer": "ipython3",
   "version": "3.12.4"
  }
 },
 "nbformat": 4,
 "nbformat_minor": 5
}
